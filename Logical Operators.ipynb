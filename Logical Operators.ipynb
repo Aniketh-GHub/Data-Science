{
 "cells": [
  {
   "cell_type": "code",
   "execution_count": 1,
   "id": "c9c85747-ddf2-4b92-aea9-e6548912d7f4",
   "metadata": {},
   "outputs": [
    {
     "name": "stdout",
     "output_type": "stream",
     "text": [
      "False\n",
      "False\n",
      "True\n"
     ]
    }
   ],
   "source": [
    "# Define 10 numbers\n",
    "a = 15\n",
    "b = 81\n",
    "c = 3\n",
    "d = 12\n",
    "e = 5\n",
    "f = 70\n",
    "g = 102\n",
    "h = 20\n",
    "i = 9\n",
    "j = 4\n",
    "\n",
    "# Logical AND\n",
    "print(a > b and c < d)\n",
    "\n",
    "# Logical OR\n",
    "print(e > f or g < h)\n",
    "\n",
    "# Logical NOT\n",
    "print(not i < j)\n"
   ]
  }
 ],
 "metadata": {
  "kernelspec": {
   "display_name": "Python 3 (ipykernel)",
   "language": "python",
   "name": "python3"
  },
  "language_info": {
   "codemirror_mode": {
    "name": "ipython",
    "version": 3
   },
   "file_extension": ".py",
   "mimetype": "text/x-python",
   "name": "python",
   "nbconvert_exporter": "python",
   "pygments_lexer": "ipython3",
   "version": "3.12.4"
  }
 },
 "nbformat": 4,
 "nbformat_minor": 5
}
