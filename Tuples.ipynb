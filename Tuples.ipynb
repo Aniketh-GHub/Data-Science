{
 "cells": [
  {
   "cell_type": "code",
   "execution_count": 5,
   "id": "8655c521-b360-4c4b-9bfd-b1f523057ba1",
   "metadata": {},
   "outputs": [
    {
     "name": "stdout",
     "output_type": "stream",
     "text": [
      "<class 'tuple'>\n"
     ]
    },
    {
     "data": {
      "text/plain": [
       "('apple', 'banana', 'orange')"
      ]
     },
     "execution_count": 5,
     "metadata": {},
     "output_type": "execute_result"
    }
   ],
   "source": [
    "#Tuples\n",
    "#Empty tuple\n",
    "empty_tuple = ()\n",
    "#Tuple with elements\n",
    "fruits = (\"apple\", \"banana\",\"orange\")\n",
    "print(type(fruits))\n",
    "fruits #print(fruits)"
   ]
  },
  {
   "cell_type": "code",
   "execution_count": 8,
   "id": "e9f6de9f-766c-410a-921e-23e294722cbc",
   "metadata": {},
   "outputs": [
    {
     "data": {
      "text/plain": [
       "(1, 'apple', 3.14, True)"
      ]
     },
     "execution_count": 8,
     "metadata": {},
     "output_type": "execute_result"
    }
   ],
   "source": [
    "#Mixed data types\n",
    "mixed_tuple = (1,\"apple\",3.14,True)\n",
    "mixed_tuple"
   ]
  },
  {
   "cell_type": "code",
   "execution_count": 11,
   "id": "9a5a7eab-f184-48d5-8223-598ca6123418",
   "metadata": {},
   "outputs": [
    {
     "data": {
      "text/plain": [
       "(42,)"
      ]
     },
     "execution_count": 11,
     "metadata": {},
     "output_type": "execute_result"
    }
   ],
   "source": [
    "#Single\n",
    "single_element = (42,)\n",
    "(single_element)"
   ]
  },
  {
   "cell_type": "code",
   "execution_count": 12,
   "id": "afbdb369-4e54-4562-b308-c1b8d6232d6f",
   "metadata": {},
   "outputs": [
    {
     "name": "stdout",
     "output_type": "stream",
     "text": [
      "Blueberry\n",
      "3.14\n",
      "(6, 'fig', 9.81, False, 'purple', 2019)\n"
     ]
    }
   ],
   "source": [
    "#Accessing of tuples\n",
    "tup1 = (\"Apple\",\"Banana\",\"Orange\",\"Strawberry\",\"Mango\",\"Blueberry\",\"Pineapple\",\"Grape\",\"Watermelon\",\"Kiwi\")\n",
    "tup2 = (1,2,3,4,5,6,7,8,9,10)\n",
    "tup3 =(1,\"tomato\",2.5,\"potato\",3.14,\"pi\",100,\"solution2\")\n",
    "tup4 = (2,4,6,8,10,12,14,16,18,20)\n",
    "tup5 = (1,3,5,7,9,11,13,15,17,19,21)\n",
    "tup6 = (0,1,1,2,3,5,8,13,21,34)\n",
    "tup7 =(-5,-4,-3,-2,-1,0,1,2,3,4,5,)\n",
    "tup8 = (11,22,33,50,60,22,33,1,1,2,2,22,60)\n",
    "tup9 = (6, 'fig', 9.81, False, 'purple', 2019)\n",
    "tup10 = (2024, 2020, 2016,2012, 2008)\n",
    "print(tup1[5])\n",
    "print(tup3[4])\n",
    "print(tup9[0:])"
   ]
  },
  {
   "cell_type": "code",
   "execution_count": 14,
   "id": "807a0c61-5d20-4f2a-a55c-4fa86826c83e",
   "metadata": {},
   "outputs": [
    {
     "name": "stdout",
     "output_type": "stream",
     "text": [
      "('Apple', 'Banana', 'Orange', 'Strawberry', 'Mango', 'Blueberry', 'Pineapple', 'Grape', 'Watermelon', 'Kiwi', 1, 2, 3, 4, 5, 6, 7, 8, 9, 10)\n",
      "(6, 'fig', 9.81, False, 'purple', 2019, 2024, 2020, 2016, 2012, 2008)\n",
      "(-5, -4, -3, -2, -1, 0, 1, 2, 3, 4, 5, 11, 22, 33, 50, 60, 22, 33, 1, 1, 2, 2, 22, 60)\n"
     ]
    }
   ],
   "source": [
    "#Tuple Operations\n",
    "tup1 = (\"Apple\",\"Banana\",\"Orange\",\"Strawberry\",\"Mango\",\"Blueberry\",\"Pineapple\",\"Grape\",\"Watermelon\",\"Kiwi\")\n",
    "tup2 = (1,2,3,4,5,6,7,8,9,10)\n",
    "tup3 =(1,\"tomato\",2.5,\"potato\",3.14,\"pi\",100,\"solution2\")\n",
    "tup4 = (2,4,6,8,10,12,14,16,18,20)\n",
    "tup5 = (1,3,5,7,9,11,13,15,17,19,21)\n",
    "tup6 = (0,1,1,2,3,5,8,13,21,34)\n",
    "tup7 =(-5,-4,-3,-2,-1,0,1,2,3,4,5,)\n",
    "tup8 = (11,22,33,50,60,22,33,1,1,2,2,22,60)\n",
    "tup9 = (6, 'fig', 9.81, False, 'purple', 2019)\n",
    "tup10 = (2024, 2020, 2016,2012, 2008)\n",
    "#Concatenation\n",
    "result1 = tup1 +tup2\n",
    "result2 = tup9 + tup10\n",
    "result3 = tup7+tup8\n",
    "print(result1)\n",
    "print(result2)\n",
    "print(result3)"
   ]
  },
  {
   "cell_type": "code",
   "execution_count": 16,
   "id": "8524b5e4-7a32-4b78-8174-4b8e495b78e5",
   "metadata": {},
   "outputs": [
    {
     "name": "stdout",
     "output_type": "stream",
     "text": [
      "('Apple', 'Banana', 'Orange', 'Strawberry', 'Mango', 'Blueberry', 'Pineapple', 'Grape', 'Watermelon', 'Kiwi', 'Apple', 'Banana', 'Orange', 'Strawberry', 'Mango', 'Blueberry', 'Pineapple', 'Grape', 'Watermelon', 'Kiwi', 'Apple', 'Banana', 'Orange', 'Strawberry', 'Mango', 'Blueberry', 'Pineapple', 'Grape', 'Watermelon', 'Kiwi', 'Apple', 'Banana', 'Orange', 'Strawberry', 'Mango', 'Blueberry', 'Pineapple', 'Grape', 'Watermelon', 'Kiwi', 'Apple', 'Banana', 'Orange', 'Strawberry', 'Mango', 'Blueberry', 'Pineapple', 'Grape', 'Watermelon', 'Kiwi', 'Apple', 'Banana', 'Orange', 'Strawberry', 'Mango', 'Blueberry', 'Pineapple', 'Grape', 'Watermelon', 'Kiwi', 'Apple', 'Banana', 'Orange', 'Strawberry', 'Mango', 'Blueberry', 'Pineapple', 'Grape', 'Watermelon', 'Kiwi', 'Apple', 'Banana', 'Orange', 'Strawberry', 'Mango', 'Blueberry', 'Pineapple', 'Grape', 'Watermelon', 'Kiwi', 'Apple', 'Banana', 'Orange', 'Strawberry', 'Mango', 'Blueberry', 'Pineapple', 'Grape', 'Watermelon', 'Kiwi', 'Apple', 'Banana', 'Orange', 'Strawberry', 'Mango', 'Blueberry', 'Pineapple', 'Grape', 'Watermelon', 'Kiwi')\n"
     ]
    }
   ],
   "source": [
    "#Repitition\n",
    "print(tup1*10)"
   ]
  },
  {
   "cell_type": "code",
   "execution_count": 20,
   "id": "43839ded-3504-4b33-807c-6cd5042082da",
   "metadata": {},
   "outputs": [
    {
     "name": "stdout",
     "output_type": "stream",
     "text": [
      "()\n"
     ]
    }
   ],
   "source": [
    "print(tup2 * -2)"
   ]
  },
  {
   "cell_type": "code",
   "execution_count": 36,
   "id": "46df2798-ccc0-4eff-a69c-d55ba203aad7",
   "metadata": {},
   "outputs": [
    {
     "name": "stdout",
     "output_type": "stream",
     "text": [
      "(2024, 2020, 2016, 2012, 2008, 2024, 2020, 2016, 2012, 2008, 2024, 2020, 2016, 2012, 2008, 2024, 2020, 2016, 2012, 2008, 2024, 2020, 2016, 2012, 2008)\n",
      "(2024, 2020, 2016, 2012, 2008, 1, 3, 5, 7, 9, 11, 13, 15, 17, 19, 21, 1, 3, 5, 7, 9, 11, 13, 15, 17, 19, 21, 1, 3, 5, 7, 9, 11, 13, 15, 17, 19, 21, 1, 3, 5, 7, 9, 11, 13, 15, 17, 19, 21, 1, 3, 5, 7, 9, 11, 13, 15, 17, 19, 21)\n"
     ]
    }
   ],
   "source": [
    "print(tup10*5)\n",
    "print(tup10 + tup5 *5)"
   ]
  },
  {
   "cell_type": "code",
   "execution_count": 24,
   "id": "8add311f-791e-4258-a92f-7096e3f2f948",
   "metadata": {},
   "outputs": [
    {
     "name": "stdout",
     "output_type": "stream",
     "text": [
      "3\n",
      "1\n"
     ]
    }
   ],
   "source": [
    "#Tuple methods\n",
    "#Count\n",
    "tup1 = (\"Apple\",\"Banana\",\"Orange\",\"Strawberry\",\"Mango\",\"Blueberry\",\"Pineapple\",\"Grape\",\"Watermelon\",\"Kiwi\")\n",
    "tup2 = (1,2,3,4,5,6,7,8,9,10)\n",
    "tup3 =(1,\"tomato\",2.5,\"potato\",3.14,\"pi\",100,\"solution2\")\n",
    "tup4 = (2,4,6,8,10,12,14,16,18,20)\n",
    "tup5 = (1,3,5,7,9,11,13,15,17,19,21)\n",
    "tup6 = (0,1,1,2,3,5,8,13,21,34)\n",
    "tup7 =(-5,-4,-3,-2,-1,0,1,2,3,4,5,)\n",
    "tup8 = (11,22,33,50,60,22,33,1,1,2,2,22,60)\n",
    "tup9 = (6, 'fig', 9.81, False, 'purple', 2019)\n",
    "tup10 = (2024, 2020, 2016,2012, 2008)\n",
    "#Concatenation\n",
    "print(tup8.count(22))\n",
    "print(tup9.count(6))"
   ]
  },
  {
   "cell_type": "code",
   "execution_count": 29,
   "id": "5f35d152-8cd6-4839-b381-f5d48c52ddd8",
   "metadata": {},
   "outputs": [
    {
     "name": "stdout",
     "output_type": "stream",
     "text": [
      "9\n",
      "1\n"
     ]
    }
   ],
   "source": [
    "#index\n",
    "print(tup1.index(\"Kiwi\"))\n",
    "print(tup10.index(2020))"
   ]
  },
  {
   "cell_type": "code",
   "execution_count": 30,
   "id": "3ec62f16-25b8-40ac-a6f2-83f9b30a5210",
   "metadata": {},
   "outputs": [
    {
     "name": "stdout",
     "output_type": "stream",
     "text": [
      "13\n"
     ]
    }
   ],
   "source": [
    "#getting length\n",
    "print(len(tup8))"
   ]
  },
  {
   "cell_type": "code",
   "execution_count": 33,
   "id": "30e1baf4-5128-43c7-a7bf-62eb1b22b108",
   "metadata": {},
   "outputs": [
    {
     "name": "stdout",
     "output_type": "stream",
     "text": [
      "2024\n",
      "2020\n",
      "2016\n",
      "2012\n",
      "2008\n"
     ]
    }
   ],
   "source": [
    "#unpacking\n",
    "tup10 = (2024, 2020, 2016,2012, 2008)\n",
    "val1,val2,val3,val4,val5 = tup10\n",
    "print(val1)\n",
    "print(val2)\n",
    "print(val3)\n",
    "print(val4)\n",
    "print(val5)"
   ]
  },
  {
   "cell_type": "code",
   "execution_count": 40,
   "id": "9b9594fc-f495-4983-8612-1f43a3afe8b9",
   "metadata": {},
   "outputs": [
    {
     "name": "stdout",
     "output_type": "stream",
     "text": [
      "(2024, 2020, 'Two thousand and sixteen', 2012, 2008)\n"
     ]
    }
   ],
   "source": [
    "#Convert tuple to list and update it\n",
    "tup10 = (2024, 2020, 2016, 2012, 2008)\n",
    "lis10 = list(tup10)  # Convert tuple to list\n",
    "lis10[2] = \"Two thousand and sixteen\"  # Update the list\n",
    "tup10 = tuple(lis10)  # Convert the list back to tuple\n",
    "print(tup10)\n"
   ]
  }
 ],
 "metadata": {
  "kernelspec": {
   "display_name": "Python 3 (ipykernel)",
   "language": "python",
   "name": "python3"
  },
  "language_info": {
   "codemirror_mode": {
    "name": "ipython",
    "version": 3
   },
   "file_extension": ".py",
   "mimetype": "text/x-python",
   "name": "python",
   "nbconvert_exporter": "python",
   "pygments_lexer": "ipython3",
   "version": "3.12.4"
  }
 },
 "nbformat": 4,
 "nbformat_minor": 5
}
