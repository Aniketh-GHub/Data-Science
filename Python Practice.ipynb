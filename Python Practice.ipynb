{
 "cells": [
  {
   "cell_type": "code",
   "execution_count": 9,
   "id": "7f888f5b-3c48-4e67-883b-4f76d8aefda6",
   "metadata": {},
   "outputs": [
    {
     "name": "stdin",
     "output_type": "stream",
     "text": [
      "Enter a number to check if it is odd or even:  23\n"
     ]
    },
    {
     "name": "stdout",
     "output_type": "stream",
     "text": [
      "23 is an odd number\n"
     ]
    }
   ],
   "source": [
    "#Identifying odd or even\n",
    "a = int(input(\"Enter a number to check if it is odd or even: \"))\n",
    "if a%2 == 0:\n",
    "    print(f\"{a} is an even number\")\n",
    "else :\n",
    "    print(f\"{a} is an odd number\")"
   ]
  },
  {
   "cell_type": "code",
   "execution_count": 5,
   "id": "7a48655d-b57c-453d-bd66-f3013b1e5829",
   "metadata": {},
   "outputs": [
    {
     "name": "stdin",
     "output_type": "stream",
     "text": [
      "Enter first number:   50\n",
      "Enter second number:  500\n",
      "Enter third number:   2500000000\n"
     ]
    },
    {
     "name": "stdout",
     "output_type": "stream",
     "text": [
      "2500000000 is the largest number among 50,500 and 2500000000\n"
     ]
    }
   ],
   "source": [
    "#Largest number among three\n",
    "a = int(input(\"Enter first number:  \"))\n",
    "b = int(input(\"Enter second number: \"))\n",
    "c = int(input(\"Enter third number:  \"))\n",
    "if a > b and a > c:\n",
    "    print(f\"{a} is the largest number among {a},{b} and {c}\")\n",
    "elif b > c and b > a:\n",
    "    print(f\"{b} is the largest number among {a},{b} and {c}\")\n",
    "else:\n",
    "    print(f\"{c} is the largest number among {a},{b} and {c}\")"
   ]
  },
  {
   "cell_type": "code",
   "execution_count": 6,
   "id": "69e0ac9a-c225-4f33-80ff-3e04f06a259a",
   "metadata": {},
   "outputs": [
    {
     "name": "stdin",
     "output_type": "stream",
     "text": [
      "Enter first number:   20\n",
      "Enter second number:  -10\n",
      "Enter third number:   52\n"
     ]
    },
    {
     "name": "stdout",
     "output_type": "stream",
     "text": [
      "-10 is the smallest number among 20,-10 and 52\n"
     ]
    }
   ],
   "source": [
    "#Smallest number among three\n",
    "a = int(input(\"Enter first number:  \"))\n",
    "b = int(input(\"Enter second number: \"))\n",
    "c = int(input(\"Enter third number:  \"))\n",
    "if a < b and a < c:\n",
    "    print(f\"{a} is the smallest number among {a},{b} and {c}\")\n",
    "elif b < c and b < a:\n",
    "    print(f\"{b} is the smallest number among {a},{b} and {c}\")\n",
    "else:\n",
    "    print(f\"{c} is the smallest number among {a},{b} and {c}\")"
   ]
  },
  {
   "cell_type": "code",
   "execution_count": 14,
   "id": "f4384d70-d7b0-4816-a5f6-7c67e3be88f7",
   "metadata": {},
   "outputs": [
    {
     "name": "stdin",
     "output_type": "stream",
     "text": [
      "Enter a year to check if it is a leap year 2000\n"
     ]
    },
    {
     "name": "stdout",
     "output_type": "stream",
     "text": [
      "2000 is a leap year\n"
     ]
    }
   ],
   "source": [
    "#Checking if the year is a leap year\n",
    "year = int(input(\"Enter a year to check if it is a leap year\"))\n",
    "if (year % 4 == 0 and  year % 100 != 0) or (year % 400 == 0):\n",
    "    print(f\"{year} is a leap year\")\n",
    "else :\n",
    "    print(f\"{year} is not a leap year\")"
   ]
  },
  {
   "cell_type": "code",
   "execution_count": 21,
   "id": "b3d53ec5-2131-4f9f-8cb6-15eabf631ba4",
   "metadata": {},
   "outputs": [
    {
     "name": "stdin",
     "output_type": "stream",
     "text": [
      "Enter a string of up to 20 characters:  Aniketh\n"
     ]
    },
    {
     "name": "stdout",
     "output_type": "stream",
     "text": [
      "The number of vowels in the given string is: 3\n",
      "The vowels are: Aie\n",
      "The number of consonants in the given string is: 4\n",
      "The consonants are: nkth\n"
     ]
    }
   ],
   "source": [
    "# Checking how many vowels and consonants are there in the given string\n",
    "# Input string of up to 20 characters\n",
    "input_string = input(\"Enter a string of up to 20 characters: \")\n",
    "\n",
    "if len(input_string) > 20:\n",
    "    print(\"Please enter a string with up to 20 characters.\")\n",
    "else:\n",
    "    vowels = \"aeiouAEIOU\"\n",
    "    vowel_string = \"\"\n",
    "    consonant_string = \"\"\n",
    "    \n",
    "    # Initialize vowel and consonant counts\n",
    "    v1, v2, v3, v4, v5, v6, v7, v8, v9, v10 = (0,) * 10  # v for vowels\n",
    "    c1, c2, c3, c4, c5, c6, c7, c8, c9, c10 = (0,) * 10  # c for consonants\n",
    "\n",
    "    # Check each character in the input string\n",
    "    if len(input_string) > 0:\n",
    "        if input_string[0] in vowels:\n",
    "            v1 = 1\n",
    "            vowel_string += input_string[0]\n",
    "        else:\n",
    "            c1 = 1\n",
    "            consonant_string += input_string[0]\n",
    "\n",
    "    if len(input_string) > 1:\n",
    "        if input_string[1] in vowels:\n",
    "            v2 = 1\n",
    "            vowel_string += input_string[1]\n",
    "        else:\n",
    "            c2 = 1\n",
    "            consonant_string += input_string[1]\n",
    "\n",
    "    if len(input_string) > 2:\n",
    "        if input_string[2] in vowels:\n",
    "            v3 = 1\n",
    "            vowel_string += input_string[2]\n",
    "        else:\n",
    "            c3 = 1\n",
    "            consonant_string += input_string[2]\n",
    "\n",
    "    if len(input_string) > 3:\n",
    "        if input_string[3] in vowels:\n",
    "            v4 = 1\n",
    "            vowel_string += input_string[3]\n",
    "        else:\n",
    "            c4 = 1\n",
    "            consonant_string += input_string[3]\n",
    "\n",
    "    if len(input_string) > 4:\n",
    "        if input_string[4] in vowels:\n",
    "            v5 = 1\n",
    "            vowel_string += input_string[4]\n",
    "        else:\n",
    "            c5 = 1\n",
    "            consonant_string += input_string[4]\n",
    "\n",
    "    if len(input_string) > 5:\n",
    "        if input_string[5] in vowels:\n",
    "            v6 = 1\n",
    "            vowel_string += input_string[5]\n",
    "        else:\n",
    "            c6 = 1\n",
    "            consonant_string += input_string[5]\n",
    "\n",
    "    if len(input_string) > 6:\n",
    "        if input_string[6] in vowels:\n",
    "            v7 = 1\n",
    "            vowel_string += input_string[6]\n",
    "        else:\n",
    "            c7 = 1\n",
    "            consonant_string += input_string[6]\n",
    "\n",
    "    if len(input_string) > 7:\n",
    "        if input_string[7] in vowels:\n",
    "            v8 = 1\n",
    "            vowel_string += input_string[7]\n",
    "        else:\n",
    "            c8 = 1\n",
    "            consonant_string += input_string[7]\n",
    "\n",
    "    if len(input_string) > 8:\n",
    "        if input_string[8] in vowels:\n",
    "            v9 = 1\n",
    "            vowel_string += input_string[8]\n",
    "        else:\n",
    "            c9 = 1\n",
    "            consonant_string += input_string[8]\n",
    "\n",
    "    if len(input_string) > 9:\n",
    "        if input_string[9] in vowels:\n",
    "            v10 = 1\n",
    "            vowel_string += input_string[9]\n",
    "        else:\n",
    "            c10 = 1\n",
    "            consonant_string += input_string[9]\n",
    "\n",
    "    total_vowels = v1 + v2 + v3 + v4 + v5 + v6 + v7 + v8 + v9 + v10\n",
    "    total_consonants = c1 + c2 + c3 + c4 + c5 + c6 + c7 + c8 + c9 + c10\n",
    "    print(f\"The number of vowels in the given string is: {total_vowels}\")\n",
    "    print(f\"The vowels are: {vowel_string}\")\n",
    "    print(f\"The number of consonants in the given string is: {total_consonants}\")\n",
    "    print(f\"The consonants are: {consonant_string}\")\n"
   ]
  }
 ],
 "metadata": {
  "kernelspec": {
   "display_name": "Python 3 (ipykernel)",
   "language": "python",
   "name": "python3"
  },
  "language_info": {
   "codemirror_mode": {
    "name": "ipython",
    "version": 3
   },
   "file_extension": ".py",
   "mimetype": "text/x-python",
   "name": "python",
   "nbconvert_exporter": "python",
   "pygments_lexer": "ipython3",
   "version": "3.12.4"
  }
 },
 "nbformat": 4,
 "nbformat_minor": 5
}
