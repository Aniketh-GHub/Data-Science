{
 "cells": [
  {
   "cell_type": "code",
   "execution_count": 3,
   "id": "2eb508ce-4d36-4306-b131-66faa63a6bb3",
   "metadata": {},
   "outputs": [
    {
     "name": "stdout",
     "output_type": "stream",
     "text": [
      "I love Eternatek\n"
     ]
    }
   ],
   "source": [
    "#Creating local variables in Python\n",
    "def fun():\n",
    " # local variable\n",
    " s = \"I love Eternatek\"\n",
    " print(s)\n",
    "# Driver code\n",
    "fun() "
   ]
  },
  {
   "cell_type": "code",
   "execution_count": 10,
   "id": "4af11dc9-a2ad-449a-9493-342d66714588",
   "metadata": {},
   "outputs": [
    {
     "name": "stdout",
     "output_type": "stream",
     "text": [
      "Inside Function: I love Eternaltek\n"
     ]
    },
    {
     "ename": "NameError",
     "evalue": "name 's' is not defined",
     "output_type": "error",
     "traceback": [
      "\u001b[1;31m---------------------------------------------------------------------------\u001b[0m",
      "\u001b[1;31mNameError\u001b[0m                                 Traceback (most recent call last)",
      "Cell \u001b[1;32mIn[10], line 10\u001b[0m\n\u001b[0;32m      7\u001b[0m f()\n\u001b[0;32m      9\u001b[0m \u001b[38;5;66;03m# This will raise an error because 's' is not defined outside the function\u001b[39;00m\n\u001b[1;32m---> 10\u001b[0m \u001b[38;5;28mprint\u001b[39m(s)\n",
      "\u001b[1;31mNameError\u001b[0m: name 's' is not defined"
     ]
    }
   ],
   "source": [
    "def f():\n",
    "    # Local variable\n",
    "    s = \"I love Eternaltek\"\n",
    "    print(\"Inside Function:\", s)\n",
    "\n",
    "# Driver code\n",
    "f()\n",
    "\n",
    "# This will raise an error because 's' is not defined outside the function\n",
    "print(s)\n"
   ]
  },
  {
   "cell_type": "code",
   "execution_count": 11,
   "id": "e2161454-0318-438e-9386-d254551009eb",
   "metadata": {},
   "outputs": [
    {
     "name": "stdout",
     "output_type": "stream",
     "text": [
      "Inside Function I love Eternaltek\n",
      "Outside Function I love Eternaltek\n"
     ]
    }
   ],
   "source": [
    "# This function uses global variable s\n",
    "def f():\n",
    " print(\"Inside Function\", s)\n",
    "# Global scope\n",
    "s = \"I love Eternaltek\"\n",
    "f()\n",
    "print(\"Outside Function\", s)"
   ]
  }
 ],
 "metadata": {
  "kernelspec": {
   "display_name": "Python 3 (ipykernel)",
   "language": "python",
   "name": "python3"
  },
  "language_info": {
   "codemirror_mode": {
    "name": "ipython",
    "version": 3
   },
   "file_extension": ".py",
   "mimetype": "text/x-python",
   "name": "python",
   "nbconvert_exporter": "python",
   "pygments_lexer": "ipython3",
   "version": "3.12.4"
  }
 },
 "nbformat": 4,
 "nbformat_minor": 5
}
