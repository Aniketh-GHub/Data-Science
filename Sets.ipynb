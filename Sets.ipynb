{
 "cells": [
  {
   "cell_type": "code",
   "execution_count": 74,
   "id": "9002ad35-e67f-4e71-b79b-1674f3fcefcb",
   "metadata": {},
   "outputs": [
    {
     "name": "stdout",
     "output_type": "stream",
     "text": [
      "set()\n"
     ]
    }
   ],
   "source": [
    "# Creating an empty set\n",
    "thisset = set()\n",
    "print(thisset)"
   ]
  },
  {
   "cell_type": "code",
   "execution_count": 4,
   "id": "3b2804cd-255e-4d35-9178-4e5b4ed8f390",
   "metadata": {},
   "outputs": [
    {
     "name": "stdout",
     "output_type": "stream",
     "text": [
      "{'banana', 'orange', 'apple'}\n",
      "{1, 2, 3, 4, 5}\n",
      "{'cherry', 'banana', 'apple'}\n",
      "{-30, 3.14, 42, 'hello'}\n",
      "{1.1, 2.2, 3.3, 4.4, 5.5}\n",
      "<class 'set'>\n",
      "<class 'set'>\n",
      "<class 'set'>\n",
      "<class 'set'>\n",
      "<class 'set'>\n"
     ]
    }
   ],
   "source": [
    "#Creating sets\n",
    "fruits = {'apple','banana','orange'}\n",
    "print(fruits)\n",
    "integers = {1, 2, 3, 4, 5}\n",
    "print(integers)\n",
    "strings = {\"apple\", \"banana\", \"cherry\"}\n",
    "print(strings)\n",
    "mixed = {42, \"hello\", 3.14, -30}\n",
    "print(mixed)\n",
    "floats = {1.1, 2.2, 3.3, 4.4, 5.5}\n",
    "print(floats)\n",
    "print(type(fruits))\n",
    "print(type(integers))\n",
    "print(type(strings))\n",
    "print(type(mixed))\n",
    "print(type(floats))"
   ]
  },
  {
   "cell_type": "code",
   "execution_count": 5,
   "id": "c7cb6ed4-95bf-4f89-ba51-440f622f007d",
   "metadata": {},
   "outputs": [
    {
     "name": "stdout",
     "output_type": "stream",
     "text": [
      "{1, 2, 3, 4, 5, 6, 7, 8, 9}\n"
     ]
    }
   ],
   "source": [
    "#Duplicate\n",
    "numbers = {9,9,9,8,8,8,7,7,7,6,6,6,5,5,5,4,4,4,3,3,3,2,2,2,1,1,1}\n",
    "print(numbers)"
   ]
  },
  {
   "cell_type": "code",
   "execution_count": 8,
   "id": "02d18c2a-e2dc-4f0e-a50d-065c41010be8",
   "metadata": {},
   "outputs": [
    {
     "name": "stdout",
     "output_type": "stream",
     "text": [
      "{1, 2, 3, 4, 5, 6}\n"
     ]
    }
   ],
   "source": [
    "#Add\n",
    "integers = {1, 2, 3, 4, 5}\n",
    "integers.add(6)\n",
    "print(integers)"
   ]
  },
  {
   "cell_type": "code",
   "execution_count": 14,
   "id": "88b40ae3-7a90-49ed-83d9-dd513b7ea9c9",
   "metadata": {},
   "outputs": [
    {
     "name": "stdout",
     "output_type": "stream",
     "text": [
      "{-30, 3.14, 'orange', 42, 'apple', 'banana', 'hello'}\n"
     ]
    }
   ],
   "source": [
    "#Update\n",
    "fruits = {'apple','banana','orange'}\n",
    "mixed = {42, \"hello\", 3.14, -30}\n",
    "fruits.update(mixed)\n",
    "print(fruits)"
   ]
  },
  {
   "cell_type": "code",
   "execution_count": 17,
   "id": "40b6aaec-3eda-493a-a3e8-89286eb2658f",
   "metadata": {},
   "outputs": [
    {
     "name": "stdout",
     "output_type": "stream",
     "text": [
      "{1.1, 2.2, 3.3, 4.4}\n",
      "{'banana', 'apple'}\n"
     ]
    }
   ],
   "source": [
    "#Remove an element\n",
    "floats = {1.1, 2.2, 3.3, 4.4, 5.5}\n",
    "floats.discard(5.5)\n",
    "print(floats)\n",
    "strings = {\"apple\", \"banana\", \"cherry\"}\n",
    "strings.remove('cherry')\n",
    "print(strings)"
   ]
  },
  {
   "cell_type": "code",
   "execution_count": 21,
   "id": "21724752-740a-48ed-9acb-439a210f3558",
   "metadata": {},
   "outputs": [
    {
     "name": "stdout",
     "output_type": "stream",
     "text": [
      "{1, 2, 3, 4, 6, 7, 8, 9, 10}\n"
     ]
    }
   ],
   "source": [
    "my_set = {1,2,3,4,6,7,8,9,10}\n",
    "my_set.discard(5)  # Does not raise an error even though 5 is not in the set\n",
    "print(my_set)      "
   ]
  },
  {
   "cell_type": "code",
   "execution_count": 24,
   "id": "57e5b6c4-23fc-4dee-8b79-ad3e5439636b",
   "metadata": {},
   "outputs": [
    {
     "ename": "KeyError",
     "evalue": "5",
     "output_type": "error",
     "traceback": [
      "\u001b[1;31m---------------------------------------------------------------------------\u001b[0m",
      "\u001b[1;31mKeyError\u001b[0m                                  Traceback (most recent call last)",
      "Cell \u001b[1;32mIn[24], line 2\u001b[0m\n\u001b[0;32m      1\u001b[0m my_set \u001b[38;5;241m=\u001b[39m {\u001b[38;5;241m1\u001b[39m,\u001b[38;5;241m2\u001b[39m,\u001b[38;5;241m3\u001b[39m,\u001b[38;5;241m4\u001b[39m,\u001b[38;5;241m6\u001b[39m,\u001b[38;5;241m7\u001b[39m,\u001b[38;5;241m8\u001b[39m,\u001b[38;5;241m9\u001b[39m,\u001b[38;5;241m10\u001b[39m}\n\u001b[1;32m----> 2\u001b[0m my_set\u001b[38;5;241m.\u001b[39mremove(\u001b[38;5;241m5\u001b[39m) \u001b[38;5;66;03m#raises an error unlike discard\u001b[39;00m\n\u001b[0;32m      3\u001b[0m \u001b[38;5;28mprint\u001b[39m(my_set)\n",
      "\u001b[1;31mKeyError\u001b[0m: 5"
     ]
    }
   ],
   "source": [
    "my_set = {1,2,3,4,6,7,8,9,10}\n",
    "my_set.remove(5) #raises an error unlike discard\n",
    "print(my_set)"
   ]
  },
  {
   "cell_type": "code",
   "execution_count": 35,
   "id": "c9164495-030f-499f-8305-aab7657cb721",
   "metadata": {},
   "outputs": [
    {
     "name": "stdout",
     "output_type": "stream",
     "text": [
      "Union of A and B using |: {1, 2, 3, 4, 5, 40, 10, 50, 20, 30}\n",
      "Union of A and B using union() function: {1, 2, 3, 4, 5, 40, 10, 50, 20, 30}\n",
      "Union of A,B and C using |: {1, 2, 3, 4, 5, 1.1, 2.2, 40, 3.3, 10, 4.4, 5.5, 50, 20, 30}\n",
      "Union of A,B and C using union(para1,para2) function: {1, 2, 3, 4, 5, 1.1, 2.2, 40, 3.3, 10, 4.4, 5.5, 50, 20, 30}\n",
      "Union of C,D and E using chained union: {0.1, 1.1, 2.2, 3.3, 4.4, 5.5, 0.4, 0.2, 0.3, 0.5, 'banana', 'cherry', 'apple'}\n",
      "Union of C,D and E using |: {0.1, 1.1, 2.2, 3.3, 4.4, 5.5, 0.4, 0.2, 0.3, 0.5, 'banana', 'cherry', 'apple'}\n",
      "Union of E and F using |: {'cherry', 'cat', 'dog', 'apple', 'mouse', 'banana'}\n",
      "Union of E and F using union function: {'cherry', 'cat', 'dog', 'apple', 'mouse', 'banana'}\n"
     ]
    }
   ],
   "source": [
    "A = {1, 2, 3, 4, 5}\n",
    "B = {10, 20, 30, 40, 50}\n",
    "C = {1.1, 2.2, 3.3, 4.4, 5.5}\n",
    "D = {0.1, 0.2, 0.3, 0.4, 0.5}\n",
    "E = {\"apple\", \"banana\", \"cherry\"}\n",
    "F = {\"dog\", \"cat\", \"mouse\"}\n",
    "#Set operations\n",
    "#UNION -> includes all elements of the operational sets\n",
    "#Union of A and B\n",
    "print('Union of A and B using |:',A | B)\n",
    "print('Union of A and B using union() function:', A.union(B))\n",
    "#Union of A,B and C\n",
    "print('Union of A,B and C using |:', A|B|C)\n",
    "print('Union of A,B and C using union(para1,para2) function:',A.union(B,C))\n",
    "#Union of C,D and E\n",
    "print('Union of C,D and E using chained union:', C.union(D).union(E))\n",
    "print(\"Union of C,D and E using |:\",C|D|E)\n",
    "#Union of E and F\n",
    "print('Union of E and F using |:', E|F)\n",
    "print('Union of E and F using union function:', E.union(F))"
   ]
  },
  {
   "cell_type": "code",
   "execution_count": 39,
   "id": "0d605eda-2c5b-4de6-af1e-23b8a0de382c",
   "metadata": {},
   "outputs": [
    {
     "name": "stdout",
     "output_type": "stream",
     "text": [
      "Intersection of A and B using &: {2, 3, 5}\n",
      "Intersection of A and B using intersection() function: {2, 3, 5}\n",
      "Intersection of A,B and C using &: {3}\n",
      "Intersection of A,B and C using intersection(para1,para2) function: {3}\n",
      "Intersection of C,D and E using chained intersection: {4.4}\n",
      "Intersection of C,D and E using &: {4.4}\n",
      "Intersection of E and F using &: {'mouse', 'banana', 'apple'}\n",
      "Intersection of E and F using intersection function: {'mouse', 'banana', 'apple'}\n"
     ]
    }
   ],
   "source": [
    "#Intersection -> includes only common elements of the operational sets\n",
    "A = {1, 2, 3, 4, 5}\n",
    "B = {10, 20, 30, 40, 50,5,2,3}\n",
    "C = {1.1, 2.2, 3.3, 4.4, 5.5,3}\n",
    "D = {0.1, 0.2, 0.3, 0.4, 0.5,5.5,4.4,4}\n",
    "E = {\"apple\", \"banana\", \"cherry\",\"mouse\",1.1,2.2,4.4}\n",
    "F = {\"dog\", \"cat\", \"mouse\",\"banana\",\"apple\"}\n",
    "#Intersection of A and B\n",
    "print('Intersection of A and B using &:',A & B)\n",
    "print('Intersection of A and B using intersection() function:', A.intersection(B))\n",
    "#Intersection of A,B and C\n",
    "print('Intersection of A,B and C using &:', A&B&C)\n",
    "print('Intersection of A,B and C using intersection(para1,para2) function:',A.intersection(B,C))\n",
    "#Intersection of C,D and E\n",
    "print('Intersection of C,D and E using chained intersection:', C.intersection(D).intersection(E))\n",
    "print(\"Intersection of C,D and E using &:\",C&D&E)\n",
    "#Intersection of E and F\n",
    "print('Intersection of E and F using &:', E&F)\n",
    "print('Intersection of E and F using intersection function:', E.intersection(F))"
   ]
  },
  {
   "cell_type": "code",
   "execution_count": 56,
   "id": "9c7b3802-600e-4b09-8538-ef6f1b201bce",
   "metadata": {},
   "outputs": [
    {
     "name": "stdout",
     "output_type": "stream",
     "text": [
      "Difference of A and B using -: {1, 4}\n",
      "Difference of A and B using difference() function: {1, 4}\n",
      "Difference of A,B and C using -: {1, 4}\n",
      "Difference of A,B and C using difference(para1,para2) function: {1, 4}\n",
      "Difference of C,D and E using chained difference: {3.3, 3}\n",
      "Difference of C,D and E using -: {3.3, 3}\n",
      "Difference of E and F using -: {'cherry', 1.1, 2.2, 4.4}\n",
      "Difference of E and F using difference function: {'cherry', 1.1, 2.2, 4.4}\n"
     ]
    }
   ],
   "source": [
    "#Difference -> returns a new set containing elements that are in the first set but not in the second set\n",
    "A = {1, 2, 3, 4, 5} \n",
    "B = {10, 20, 30, 40, 50,5,2,3}\n",
    "C = {1.1, 2.2, 3.3, 4.4, 5.5,3}\n",
    "D = {0.1, 0.2, 0.3, 0.4, 0.5,5.5,4.4,4}\n",
    "E = {\"apple\", \"banana\", \"cherry\",\"mouse\",1.1,2.2,4.4}\n",
    "F = {\"dog\", \"cat\", \"mouse\",\"banana\",\"apple\"}\n",
    "#Difference of A and B\n",
    "print('Difference of A and B using -:',A - B)\n",
    "print('Difference of A and B using difference() function:', A.difference(B))\n",
    "#Difference of A,B and C\n",
    "print('Difference of A,B and C using -:', A-B-C)\n",
    "print('Difference of A,B and C using difference(para1,para2) function:',A.difference(B,C))\n",
    "#Difference of C,D and E\n",
    "print('Difference of C,D and E using chained difference:', C.difference(D).difference(E))\n",
    "print(\"Difference of C,D and E using -:\",C-D-E)\n",
    "#Difference of E and F\n",
    "print('Difference of E and F using -:', E-F)\n",
    "print('Difference of E and F using difference function:', E.difference(F))"
   ]
  },
  {
   "cell_type": "code",
   "execution_count": 61,
   "id": "631c9cb0-70b7-418d-80e8-b3e3f5c7b85c",
   "metadata": {},
   "outputs": [
    {
     "name": "stdout",
     "output_type": "stream",
     "text": [
      "Set Symmetric of A and B using ^: {1, 4, 40, 10, 50, 20, 30}\n",
      "Set Symmetric of A and B using symmetric_difference function: {1, 4, 40, 10, 50, 20, 30}\n",
      "Set Symmetric of A,B and C using ^: {1.1, 2.2, 3.3, 4.4, 5.5, 3, 1, 4, 10, 20, 30, 40, 50}\n",
      "Set Symmetric of A,B and C using chained symmetric_difference function: {1.1, 2.2, 3.3, 4.4, 5.5, 3, 1, 4, 10, 20, 30, 40, 50}\n",
      "Set Symmetric of C,D and E using chained symmetric_difference: {0.1, 0.4, 4.4, 0.2, 0.3, 0.5, 3, 4, 3.3, 'mouse', 'banana', 'cherry', 'apple'}\n",
      "Set Symmetric of C,D and E using ^ {0.1, 0.4, 4.4, 0.2, 0.3, 0.5, 3, 4, 3.3, 'mouse', 'banana', 'cherry', 'apple'}\n",
      "Set Symmetric of E and F using ^: {'dog', 1.1, 2.2, 4.4, 'cherry', 'cat'}\n",
      "Set Symmetric of E and F using difference function: {'dog', 1.1, 2.2, 4.4, 'cherry', 'cat'}\n"
     ]
    }
   ],
   "source": [
    "#Set Symmetric -> returns a new set with elements that are in either one of the sets, but not in both. Simply Opposite intersection\n",
    "A = {1, 2, 3, 4, 5} \n",
    "B = {10, 20, 30, 40, 50,5,2,3}\n",
    "C = {1.1, 2.2, 3.3, 4.4, 5.5,3}\n",
    "D = {0.1, 0.2, 0.3, 0.4, 0.5,5.5,4.4,4}\n",
    "E = {\"apple\", \"banana\", \"cherry\",\"mouse\",1.1,2.2,4.4}\n",
    "F = {\"dog\", \"cat\", \"mouse\",\"banana\",\"apple\"}\n",
    "#Set Symmetric of A and B\n",
    "print('Set Symmetric of A and B using ^:',A ^ B)\n",
    "#set symmetry takes only one parameter at a time so A.symmetric_difference(B,C) shows an error\n",
    "print('Set Symmetric of A and B using symmetric_difference function:', A.symmetric_difference(B))\n",
    "#Set Symmetric of A,B and C\n",
    "print('Set Symmetric of A,B and C using ^:', A^B^C)\n",
    "print('Set Symmetric of A,B and C using chained symmetric_difference function:',A.symmetric_difference(B).symmetric_difference(C))\n",
    "#Set Symmetric of C,D and E\n",
    "print('Set Symmetric of C,D and E using chained symmetric_difference:', C.symmetric_difference(D).symmetric_difference(E))\n",
    "print(\"Set Symmetric of C,D and E using ^\",C^D^E)\n",
    "#Set Symmetric of E and F\n",
    "print('Set Symmetric of E and F using ^:', E^F)\n",
    "print('Set Symmetric of E and F using difference function:', E.symmetric_difference(F))\n",
    "#set symmetry takes only one parameter at a time so A.symmetric_difference(B,C) shows an error"
   ]
  },
  {
   "cell_type": "code",
   "execution_count": null,
   "id": "fe838239-cbe9-43b8-adf2-15eaec42cdaa",
   "metadata": {},
   "outputs": [],
   "source": []
  }
 ],
 "metadata": {
  "kernelspec": {
   "display_name": "Python 3 (ipykernel)",
   "language": "python",
   "name": "python3"
  },
  "language_info": {
   "codemirror_mode": {
    "name": "ipython",
    "version": 3
   },
   "file_extension": ".py",
   "mimetype": "text/x-python",
   "name": "python",
   "nbconvert_exporter": "python",
   "pygments_lexer": "ipython3",
   "version": "3.12.4"
  }
 },
 "nbformat": 4,
 "nbformat_minor": 5
}
