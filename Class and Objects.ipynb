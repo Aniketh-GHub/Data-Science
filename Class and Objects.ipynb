{
 "cells": [
  {
   "cell_type": "code",
   "execution_count": 9,
   "id": "97863208-1c65-41f8-8791-f55cdccf81e1",
   "metadata": {},
   "outputs": [
    {
     "name": "stdout",
     "output_type": "stream",
     "text": [
      "5\n"
     ]
    }
   ],
   "source": [
    "class MyClass:\n",
    " x = 5   \n",
    "obj1 = MyClass()\n",
    "print(obj1.x)"
   ]
  },
  {
   "cell_type": "code",
   "execution_count": 17,
   "id": "11d599eb-cd29-479e-9435-d1e33ffeb4b8",
   "metadata": {},
   "outputs": [
    {
     "name": "stdout",
     "output_type": "stream",
     "text": [
      "2002\n"
     ]
    }
   ],
   "source": [
    "class MyClass1:\n",
    "    y2k = 2002\n",
    "operation2k = MyClass1()\n",
    "print(operation2k.y2k)\n",
    "    "
   ]
  },
  {
   "cell_type": "code",
   "execution_count": 15,
   "id": "b07fe9e5-204c-4f9f-b5b3-bf20c56a6f72",
   "metadata": {},
   "outputs": [
    {
     "name": "stdout",
     "output_type": "stream",
     "text": [
      "Buddy is 3 years old.\n",
      "Max is 5 years old.\n",
      "Woof!\n",
      "Woof!\n"
     ]
    }
   ],
   "source": [
    "class Dog:\n",
    "    def __init__(self, name, age):\n",
    "        self.name = name\n",
    "        self.age = age\n",
    "    def bark(self):\n",
    "        print(\"Woof!\")\n",
    "dog1 = Dog(\"Buddy\", 3)\n",
    "dog2 = Dog(\"Max\", 5)\n",
    "print(f\"{dog1.name} is {dog1.age} years old.\")\n",
    "print(f\"{dog2.name} is {dog2.age} years old.\")\n",
    "dog1.bark()\n",
    "dog2.bark()"
   ]
  },
  {
   "cell_type": "code",
   "execution_count": 19,
   "id": "18d09d8b-a12f-4890-9fe9-609f784f2282",
   "metadata": {},
   "outputs": [
    {
     "name": "stdout",
     "output_type": "stream",
     "text": [
      "Hello world\n"
     ]
    }
   ],
   "source": [
    "class self():\n",
    " def __init__(self):\n",
    "  print(\"Hello world\")\n",
    "obj = self()"
   ]
  },
  {
   "cell_type": "code",
   "execution_count": 21,
   "id": "6c6abe3a-28d8-4818-bbab-57999b720b7f",
   "metadata": {},
   "outputs": [
    {
     "name": "stdout",
     "output_type": "stream",
     "text": [
      "Buddy, 3 years old\n"
     ]
    }
   ],
   "source": [
    "class Dog:\n",
    " def __init__(self, name, age):\n",
    "  self.name = name\n",
    "  self.age = age\n",
    " def __str__(self):\n",
    "  return f\"{self.name}, {self.age} years old\"\n",
    "my_dog = Dog(name=\"Buddy\", age=3)\n",
    "print(my_dog) "
   ]
  }
 ],
 "metadata": {
  "kernelspec": {
   "display_name": "Python 3 (ipykernel)",
   "language": "python",
   "name": "python3"
  },
  "language_info": {
   "codemirror_mode": {
    "name": "ipython",
    "version": 3
   },
   "file_extension": ".py",
   "mimetype": "text/x-python",
   "name": "python",
   "nbconvert_exporter": "python",
   "pygments_lexer": "ipython3",
   "version": "3.12.4"
  }
 },
 "nbformat": 4,
 "nbformat_minor": 5
}
