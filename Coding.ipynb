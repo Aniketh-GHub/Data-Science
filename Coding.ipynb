{
 "cells": [
  {
   "cell_type": "code",
   "execution_count": 8,
   "id": "96c534c2-d06e-420b-b933-3fe694ca61fe",
   "metadata": {},
   "outputs": [
    {
     "name": "stdin",
     "output_type": "stream",
     "text": [
      "Enter a word to check if it is a palindrome:  radar\n"
     ]
    },
    {
     "name": "stdout",
     "output_type": "stream",
     "text": [
      "radar is a palindrome\n"
     ]
    }
   ],
   "source": [
    "#Practice coding questions\n",
    "# 1. Write a Python program to check if a string is a palindrome.\n",
    "string = input(\"Enter a word to check if it is a palindrome: \")\n",
    "string_rev = string[::-1]\n",
    "if string == string_rev:\n",
    " print(f\"{string} is a palindrome\")\n",
    "else :\n",
    "    print(f\"{string} is not a palindrome\")"
   ]
  },
  {
   "cell_type": "code",
   "execution_count": 17,
   "id": "4c42688a-aaa8-4395-bacf-512ec2645cfc",
   "metadata": {},
   "outputs": [
    {
     "name": "stdin",
     "output_type": "stream",
     "text": [
      "Enter a number:  23\n"
     ]
    },
    {
     "name": "stdout",
     "output_type": "stream",
     "text": [
      "The factorial of 23 is 25852016738884976640000\n"
     ]
    }
   ],
   "source": [
    "#2. Write a Python program to find the factorial of a number. \n",
    "n = int(input(\"Enter a number: \"))\n",
    "factorial = 1\n",
    "if n < 0:\n",
    "    print(\"Please enter a postive number\")\n",
    "else:\n",
    " for i in range(1, n + 1):\n",
    "    factorial *= i\n",
    " print(\"The factorial of\", n, \"is\", factorial)"
   ]
  },
  {
   "cell_type": "code",
   "execution_count": 26,
   "id": "263a54f2-ce40-4045-af05-2afd59f08305",
   "metadata": {},
   "outputs": [
    {
     "name": "stdout",
     "output_type": "stream",
     "text": [
      "The largest element in the list is: 7\n"
     ]
    }
   ],
   "source": [
    "#3. Write a Python program to find the largest element in a list. \n",
    "list1 = [1, 2, 3, 4, 5,7]\n",
    "largest = list1[0]\n",
    "# Iterate through the list\n",
    "for x in list1:\n",
    "    # Update the largest element if the current element is greater\n",
    "    if x > largest:\n",
    "        largest = x\n",
    "print(\"The largest element in the list is:\", largest)"
   ]
  },
  {
   "cell_type": "code",
   "execution_count": 27,
   "id": "c75faef1-9779-4201-96dc-85ec0aefe513",
   "metadata": {},
   "outputs": [
    {
     "name": "stdin",
     "output_type": "stream",
     "text": [
      "Enter a word to check if it is a palindrome:  daddy\n"
     ]
    },
    {
     "name": "stdout",
     "output_type": "stream",
     "text": [
      "yddad\n"
     ]
    }
   ],
   "source": [
    "#4. Write a Python program to reverse a string.\n",
    "string = input(\"Enter a word to check if it is a palindrome: \")\n",
    "string_rev = string[::-1]\n",
    "print(string_rev)"
   ]
  },
  {
   "cell_type": "code",
   "execution_count": 28,
   "id": "40298118-8b97-4cbd-869c-1b1446aaca90",
   "metadata": {},
   "outputs": [
    {
     "name": "stdout",
     "output_type": "stream",
     "text": [
      "Element 1 appears 1 times\n",
      "Element 2 appears 3 times\n",
      "Element 3 appears 1 times\n",
      "Element 4 appears 3 times\n",
      "Element 5 appears 1 times\n",
      "Element 6 appears 1 times\n",
      "Element 7 appears 2 times\n"
     ]
    }
   ],
   "source": [
    "#5. Write a Python program to count the frequency of each element in a list. .\n",
    "list1=[1,2,2,2,3,4,4,4,5,6,7,7]\n",
    "frequency = {}\n",
    "for element in list1:\n",
    "    if element in frequency:\n",
    "        frequency[element] += 1\n",
    "    else:\n",
    "        frequency[element] = 1\n",
    "for element, count in frequency.items():\n",
    "    print(f\"Element {element} appears {count} times\")"
   ]
  },
  {
   "cell_type": "code",
   "execution_count": 35,
   "id": "794df816-e5cd-47ec-85e3-19389625111f",
   "metadata": {},
   "outputs": [
    {
     "name": "stdout",
     "output_type": "stream",
     "text": [
      "[1, 33, 4, 22, 55]\n"
     ]
    }
   ],
   "source": [
    "#6. Write a Python program to remove duplicates from a list. \n",
    "list1 = [1,22,22,33,33,4,4,55,55]\n",
    "set1 = set(list1)\n",
    "list2 = list(set1)\n",
    "print(list2)"
   ]
  },
  {
   "cell_type": "code",
   "execution_count": 40,
   "id": "cd78726d-e0ce-44b7-aa8c-f495feb60856",
   "metadata": {},
   "outputs": [
    {
     "name": "stdin",
     "output_type": "stream",
     "text": [
      "Enter a string:  ih\n"
     ]
    },
    {
     "name": "stdout",
     "output_type": "stream",
     "text": [
      "Sorted string: hi\n"
     ]
    }
   ],
   "source": [
    "#7. Python Program to sort characters of string in ascending order. \n",
    "input_string = input(\"Enter a string: \")\n",
    "sorted_characters = ''.join(sorted(input_string))\n",
    "print(f\"Sorted string: {sorted_characters}\")"
   ]
  }
 ],
 "metadata": {
  "kernelspec": {
   "display_name": "Python 3 (ipykernel)",
   "language": "python",
   "name": "python3"
  },
  "language_info": {
   "codemirror_mode": {
    "name": "ipython",
    "version": 3
   },
   "file_extension": ".py",
   "mimetype": "text/x-python",
   "name": "python",
   "nbconvert_exporter": "python",
   "pygments_lexer": "ipython3",
   "version": "3.12.4"
  }
 },
 "nbformat": 4,
 "nbformat_minor": 5
}
