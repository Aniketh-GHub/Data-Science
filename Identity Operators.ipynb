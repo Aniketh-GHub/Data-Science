{
 "cells": [
  {
   "cell_type": "code",
   "execution_count": 2,
   "id": "f358ae00-10a8-448d-9dc8-3c6e8030bf9c",
   "metadata": {},
   "outputs": [
    {
     "name": "stdout",
     "output_type": "stream",
     "text": [
      "False\n",
      "True\n",
      "True\n",
      "False\n",
      "False\n",
      "True\n",
      "True\n",
      "True\n",
      "True\n",
      "False\n",
      "False\n",
      "False\n",
      "True\n",
      "True\n",
      "True\n",
      "True\n"
     ]
    }
   ],
   "source": [
    "x1 = 25\n",
    "y1 = 50\n",
    "x2 = 15\n",
    "y2 = 15\n",
    "x3 = 100\n",
    "y3 = 200\n",
    "x4 = 45\n",
    "y4 = 45\n",
    "x5 = 60\n",
    "y5 = 70\n",
    "str1 = \"apple\"\n",
    "str2 = \"apple banana\"\n",
    "str3 = \"cherry apple\"\n",
    "str4 = \"date\"\n",
    "str5 = \"elderberry\"\n",
    "str6 = \"apple\"\n",
    "str7 = \"banana\"\n",
    "str8 = \"fig banana\"\n",
    "str9 = \"grape\"\n",
    "str10 = \"honeydew\"\n",
    "print(x1 is y1) \n",
    "print(x2 is y2)    \n",
    "print(x1 is not y1) \n",
    "print(x2 is not y2)   \n",
    "print(str1 is str2)  \n",
    "print(str1 is str6)   \n",
    "print(str2 is not str7)  \n",
    "print(str3 is not str4)  \n",
    "print(str9 is not str10)  \n",
    "print(x1 is str1) \n",
    "print(x2 is str2) \n",
    "print(x5 is str5) \n",
    "print(x1 is not str1)  \n",
    "print(x2 is not str2)  \n",
    "print(x3 is not str3)  \n",
    "print(x4 is not str4)  \n",
    "\n",
    "\n"
   ]
  },
  {
   "cell_type": "code",
   "execution_count": null,
   "id": "7cd17d3d-478e-409c-881f-f5aec3f4af61",
   "metadata": {},
   "outputs": [],
   "source": []
  }
 ],
 "metadata": {
  "kernelspec": {
   "display_name": "Python 3 (ipykernel)",
   "language": "python",
   "name": "python3"
  },
  "language_info": {
   "codemirror_mode": {
    "name": "ipython",
    "version": 3
   },
   "file_extension": ".py",
   "mimetype": "text/x-python",
   "name": "python",
   "nbconvert_exporter": "python",
   "pygments_lexer": "ipython3",
   "version": "3.12.4"
  }
 },
 "nbformat": 4,
 "nbformat_minor": 5
}
