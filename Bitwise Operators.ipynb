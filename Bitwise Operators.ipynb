{
 "cells": [
  {
   "cell_type": "code",
   "execution_count": 2,
   "id": "52bb9d62-725f-44f0-8dfa-d102f21fa2ad",
   "metadata": {},
   "outputs": [
    {
     "name": "stdout",
     "output_type": "stream",
     "text": [
      "10\n",
      "29\n",
      "2\n",
      "-11\n",
      "480\n",
      "2\n"
     ]
    }
   ],
   "source": [
    "#Bitwise\n",
    "a = 10\n",
    "b = 15\n",
    "c = 20\n",
    "d = 25\n",
    "e = 14\n",
    "f = 12\n",
    "g = 10\n",
    "h = 120\n",
    "i = 5\n",
    "j = 300\n",
    "# Bitwise AND\n",
    "and1 = a & b\n",
    "print(and1)\n",
    "# Bitwise OR\n",
    "or1 = c | d\n",
    "print(or1)\n",
    "# Bitwise XOR\n",
    "xor1 = e ^ f\n",
    "print(xor1)\n",
    "# Bitwise NOT \n",
    "not1 = ~g\n",
    "print(not1)\n",
    "# Bitwise LEFT SHIFT\n",
    "left_shift1 = h << 2\n",
    "print(left_shift1)\n",
    "# Bitwise RIGHT SHIFT\n",
    "right_shift1 = i >> 1\n",
    "print(right_shift1)\n"
   ]
  },
  {
   "cell_type": "code",
   "execution_count": null,
   "id": "baf928eb-5c5b-4a63-8b9d-068eee865139",
   "metadata": {},
   "outputs": [],
   "source": []
  }
 ],
 "metadata": {
  "kernelspec": {
   "display_name": "Python 3 (ipykernel)",
   "language": "python",
   "name": "python3"
  },
  "language_info": {
   "codemirror_mode": {
    "name": "ipython",
    "version": 3
   },
   "file_extension": ".py",
   "mimetype": "text/x-python",
   "name": "python",
   "nbconvert_exporter": "python",
   "pygments_lexer": "ipython3",
   "version": "3.12.4"
  }
 },
 "nbformat": 4,
 "nbformat_minor": 5
}
