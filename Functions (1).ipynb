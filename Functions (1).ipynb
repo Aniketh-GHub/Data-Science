{
 "cells": [
  {
   "cell_type": "code",
   "execution_count": 1,
   "id": "4495f16b-99fc-4f41-86b2-79588882b7ff",
   "metadata": {},
   "outputs": [
    {
     "name": "stdout",
     "output_type": "stream",
     "text": [
      "Hello, Aniketh!\n"
     ]
    }
   ],
   "source": [
    "def greet(name):\n",
    "    print(f\"Hello, {name}!\")\n",
    "greet(\"Aniketh\")\n"
   ]
  },
  {
   "cell_type": "code",
   "execution_count": 6,
   "id": "2d0869f0-1e8f-4a4b-9901-189248260435",
   "metadata": {},
   "outputs": [
    {
     "name": "stdin",
     "output_type": "stream",
     "text": [
      "Enter your name: Aniketh\n"
     ]
    },
    {
     "name": "stdout",
     "output_type": "stream",
     "text": [
      "Hello, Aniketh!\n"
     ]
    }
   ],
   "source": [
    "def greet(name):\n",
    "    print(f\"Hello, {name}!\")\n",
    "greet(input(\"Enter your name:\"))"
   ]
  },
  {
   "cell_type": "code",
   "execution_count": 11,
   "id": "84264eee-4153-49c6-9e06-40ca9e4cbf11",
   "metadata": {},
   "outputs": [
    {
     "name": "stdin",
     "output_type": "stream",
     "text": [
      "Enter a number: 10\n"
     ]
    },
    {
     "name": "stdout",
     "output_type": "stream",
     "text": [
      "10 is even\n"
     ]
    }
   ],
   "source": [
    "def even(num):\n",
    "    if num%2 == 0:\n",
    "        print(f\"{num} is even\")\n",
    "    else:\n",
    "        print(f\"{num} is odd\")\n",
    "even(int(input(\"Enter a number:\")))\n",
    "#even(2)"
   ]
  },
  {
   "cell_type": "code",
   "execution_count": 15,
   "id": "b8fcc1cd-1f58-4d19-b218-e0f0f889d829",
   "metadata": {},
   "outputs": [
    {
     "name": "stdin",
     "output_type": "stream",
     "text": [
      "Enter a value: 2\n"
     ]
    },
    {
     "name": "stdout",
     "output_type": "stream",
     "text": [
      "4\n"
     ]
    },
    {
     "name": "stdin",
     "output_type": "stream",
     "text": [
      "Enter a value: 4\n"
     ]
    },
    {
     "name": "stdout",
     "output_type": "stream",
     "text": [
      "16\n"
     ]
    }
   ],
   "source": [
    "def find_square(num):\n",
    "    result = num*num\n",
    "    #return result\n",
    "    print(result)\n",
    "find_square(int(input(\"Enter a value:\")))\n",
    "find_square(int(input(\"Enter a value:\")))"
   ]
  },
  {
   "cell_type": "code",
   "execution_count": 17,
   "id": "95ddcdab-71f6-4a79-ac41-4ce721e6eaa8",
   "metadata": {},
   "outputs": [
    {
     "name": "stdin",
     "output_type": "stream",
     "text": [
      "Enter a value: 30\n"
     ]
    },
    {
     "name": "stdout",
     "output_type": "stream",
     "text": [
      "130\n"
     ]
    }
   ],
   "source": [
    "#Lambda\n",
    "x = lambda a:a+100\n",
    "print(x(int(input(\"Enter a value:\"))))"
   ]
  },
  {
   "cell_type": "code",
   "execution_count": 22,
   "id": "a7b13abe-57bf-4634-8b0a-6e0d2b1983fd",
   "metadata": {},
   "outputs": [
    {
     "name": "stdout",
     "output_type": "stream",
     "text": [
      "60\n"
     ]
    }
   ],
   "source": [
    "j = lambda x,y,z : x+y+z\n",
    "print(j(10,20,30))"
   ]
  },
  {
   "cell_type": "code",
   "execution_count": 24,
   "id": "fd5f3f2b-5a94-4e88-9e6c-ee3990defecb",
   "metadata": {},
   "outputs": [
    {
     "name": "stdin",
     "output_type": "stream",
     "text": [
      "Enter first value: 10\n",
      "Enter second value: 20\n",
      "Enter third value: 30\n"
     ]
    },
    {
     "name": "stdout",
     "output_type": "stream",
     "text": [
      "60\n"
     ]
    }
   ],
   "source": [
    "j = lambda x,y,z : x+y+z\n",
    "x = int(input(\"Enter first value:\"))\n",
    "y = int(input(\"Enter second value:\"))\n",
    "z = int(input(\"Enter third value:\"))\n",
    "print(j(x,y,z))"
   ]
  },
  {
   "cell_type": "code",
   "execution_count": 25,
   "id": "6d80245f-5f05-44d8-97f1-c6ddcc878994",
   "metadata": {},
   "outputs": [
    {
     "name": "stdout",
     "output_type": "stream",
     "text": [
      "55\n"
     ]
    }
   ],
   "source": [
    "def myfunc(n):\n",
    "    return lambda a:a*n\n",
    "mult = myfunc(5)\n",
    "print(mult(11))"
   ]
  },
  {
   "cell_type": "code",
   "execution_count": 31,
   "id": "8b9994bb-1078-4beb-990a-eb7b51dc30ea",
   "metadata": {},
   "outputs": [
    {
     "name": "stdin",
     "output_type": "stream",
     "text": [
      "Enter a number:  10102\n"
     ]
    },
    {
     "name": "stdout",
     "output_type": "stream",
     "text": [
      "10102 is an even number\n"
     ]
    }
   ],
   "source": [
    "def even(a):\n",
    "    if a % 2 == 0:\n",
    "        print(f\"{a} is an even number\")\n",
    "    else:\n",
    "        print(f\"{a} is an odd number\")\n",
    "even(int(input(\"Enter a number: \")))"
   ]
  },
  {
   "cell_type": "code",
   "execution_count": 34,
   "id": "c8cfc760-fad6-447e-898f-c7c5218a660a",
   "metadata": {},
   "outputs": [
    {
     "name": "stdin",
     "output_type": "stream",
     "text": [
      "Enter first number:  20\n",
      "Enter second number:  304025\n",
      "Enter third number:  520403\n"
     ]
    },
    {
     "name": "stdout",
     "output_type": "stream",
     "text": [
      "520403 is the largest number among 20, 304025, and 520403\n"
     ]
    }
   ],
   "source": [
    "#Largest number among three\n",
    "def large():\n",
    "    a = int(input(\"Enter first number: \"))\n",
    "    b = int(input(\"Enter second number: \"))\n",
    "    c = int(input(\"Enter third number: \"))\n",
    "    if a > b and a > c:\n",
    "        print(f\"{a} is the largest number among {a}, {b}, and {c}\")\n",
    "    elif b > c and b > a:\n",
    "        print(f\"{b} is the largest number among {a}, {b}, and {c}\")\n",
    "    else:\n",
    "        print(f\"{c} is the largest number among {a}, {b}, and {c}\")\n",
    "large()\n"
   ]
  },
  {
   "cell_type": "code",
   "execution_count": 35,
   "id": "47af5b65-6724-4e1b-ac8a-567a7230844a",
   "metadata": {},
   "outputs": [
    {
     "name": "stdin",
     "output_type": "stream",
     "text": [
      "Enter first number:   20\n",
      "Enter second number:  -200\n",
      "Enter third number:   -500\n"
     ]
    },
    {
     "name": "stdout",
     "output_type": "stream",
     "text": [
      "-500 is the smallest number among 20,-200 and -500\n"
     ]
    }
   ],
   "source": [
    "#Smallest number among three\n",
    "def small():\n",
    " a = int(input(\"Enter first number:  \"))\n",
    " b = int(input(\"Enter second number: \"))\n",
    " c = int(input(\"Enter third number:  \"))\n",
    " if a < b and a < c:\n",
    "    print(f\"{a} is the smallest number among {a},{b} and {c}\")\n",
    " elif b < c and b < a:\n",
    "    print(f\"{b} is the smallest number among {a},{b} and {c}\")\n",
    " else:\n",
    "    print(f\"{c} is the smallest number among {a},{b} and {c}\")\n",
    "small()"
   ]
  },
  {
   "cell_type": "code",
   "execution_count": 36,
   "id": "c9aeaf7a-8142-49cd-9014-b1276887e72c",
   "metadata": {},
   "outputs": [
    {
     "name": "stdin",
     "output_type": "stream",
     "text": [
      "Enter a year to check if it is a leap year 2024\n"
     ]
    },
    {
     "name": "stdout",
     "output_type": "stream",
     "text": [
      "2024 is a leap year\n"
     ]
    }
   ],
   "source": [
    "#Checking if the year is a leap year\n",
    "def leap(year):\n",
    " if (year % 4 == 0 and  year % 100 != 0) or (year % 400 == 0):\n",
    "    print(f\"{year} is a leap year\")\n",
    " else :\n",
    "    print(f\"{year} is not a leap year\")\n",
    "leap(int(input(\"Enter a year to check if it is a leap year\")))"
   ]
  },
  {
   "cell_type": "code",
   "execution_count": 40,
   "id": "64463e7a-3d74-443c-a70a-0cb1fec8183f",
   "metadata": {},
   "outputs": [
    {
     "name": "stdin",
     "output_type": "stream",
     "text": [
      "Enter a string : Aniketh\n"
     ]
    },
    {
     "name": "stdout",
     "output_type": "stream",
     "text": [
      "'A' is a vowel\n",
      "'n' is a consonent\n",
      "'i' is a vowel\n",
      "'k' is a consonent\n",
      "'e' is a vowel\n",
      "'t' is a consonent\n",
      "'h' is a consonent\n"
     ]
    }
   ],
   "source": [
    "def vowcon(name):\n",
    " vowels=\"aeiouAEIOU\"\n",
    " for i in name:\n",
    "  if i in vowels:\n",
    "   print(f\"'{i}' is a vowel\")\n",
    "  else:\n",
    "   print(f\"'{i}' is a consonent\")      \n",
    "vowcon(input(\"Enter a string :\"))"
   ]
  },
  {
   "cell_type": "code",
   "execution_count": 38,
   "id": "36546548-6872-4d96-9200-7ea8eddd12ab",
   "metadata": {},
   "outputs": [
    {
     "name": "stdin",
     "output_type": "stream",
     "text": [
      "Enter a word:  radar\n"
     ]
    },
    {
     "name": "stdout",
     "output_type": "stream",
     "text": [
      "radar is a palindrome\n"
     ]
    }
   ],
   "source": [
    "#Palindrome\n",
    "def pal():\n",
    " word = input(\"Enter a word: \")\n",
    "# Check if the word is a palindrome by comparing it to its reverse\n",
    " if word == word[::-1]:\n",
    "    print(f\"{word} is a palindrome\")\n",
    " else:\n",
    "    print(f\"{word} is not a palindrome\")\n",
    "pal()"
   ]
  },
  {
   "cell_type": "code",
   "execution_count": 41,
   "id": "f7d8eba4-a42f-418a-8219-076fd80b2822",
   "metadata": {},
   "outputs": [
    {
     "name": "stdin",
     "output_type": "stream",
     "text": [
      "Enter a temperature value is celsius:  30.324\n"
     ]
    },
    {
     "name": "stdout",
     "output_type": "stream",
     "text": [
      "86.5832 is the corresponding fahrenheit value of 30.324\n"
     ]
    }
   ],
   "source": [
    "#Temperature\n",
    "def temp():\n",
    " c = float(input(\"Enter a temperature value is celsius: \"))\n",
    " f=(c*9/5)+32\n",
    " print(f\"{f} is the corresponding fahrenheit value of {c}\")\n",
    "temp()"
   ]
  },
  {
   "cell_type": "code",
   "execution_count": 42,
   "id": "443efce0-9f3c-41aa-a236-2600f403897d",
   "metadata": {},
   "outputs": [
    {
     "name": "stdout",
     "output_type": "stream",
     "text": [
      "Months are :\n",
      "1.January\n",
      "2.February\n",
      "3.March\n",
      "4.April\n",
      "5.May\n",
      "6.June\n",
      "7.July\n",
      "8.August\n",
      "9.September\n",
      "10.October\n",
      "11.November\n",
      "12.December\n"
     ]
    },
    {
     "name": "stdin",
     "output_type": "stream",
     "text": [
      "Enter the number of a particular month to get the number of days :  1\n"
     ]
    },
    {
     "name": "stdout",
     "output_type": "stream",
     "text": [
      "There are 31 days in 1 month\n"
     ]
    }
   ],
   "source": [
    "#Get the number of days of a month\n",
    "def monthday():\n",
    " number_month_of_31 = [1,3,5,7,8,10,12]\n",
    " number_month_of_30 = [4,6,9,11]\n",
    " number_month_of_28 = [2]\n",
    " print(\"Months are :\\n1.January\\n2.February\\n3.March\\n4.April\\n5.May\\n6.June\\n7.July\\n8.August\\n9.September\\n10.October\\n11.November\\n12.December\")\n",
    " number_month = int(input(\"Enter the number of a particular month to get the number of days : \"))\n",
    " if number_month in number_month_of_31:\n",
    "    print(f\"There are 31 days in {number_month} month\")\n",
    " elif number_month in number_month_of_30:\n",
    "     print(f\"There are 30 days in {number_month} month\")\n",
    " elif number_month in number_month_of_28:\n",
    "     print(f\"There are 28 days in {number_month} month\")\n",
    " else :\n",
    "    print(\"Enter numbers from 1 to 12\")\n",
    "monthday()"
   ]
  }
 ],
 "metadata": {
  "kernelspec": {
   "display_name": "Python 3 (ipykernel)",
   "language": "python",
   "name": "python3"
  },
  "language_info": {
   "codemirror_mode": {
    "name": "ipython",
    "version": 3
   },
   "file_extension": ".py",
   "mimetype": "text/x-python",
   "name": "python",
   "nbconvert_exporter": "python",
   "pygments_lexer": "ipython3",
   "version": "3.12.4"
  }
 },
 "nbformat": 4,
 "nbformat_minor": 5
}
