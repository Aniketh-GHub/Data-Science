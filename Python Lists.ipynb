{
 "cells": [
  {
   "cell_type": "code",
   "execution_count": 1,
   "id": "dc5e0176-201b-4861-be04-ea3d5c7b08c8",
   "metadata": {},
   "outputs": [
    {
     "name": "stdout",
     "output_type": "stream",
     "text": [
      "[]\n"
     ]
    }
   ],
   "source": [
    "#Creating an empty list\n",
    "my_list = []\n",
    "print(my_list)"
   ]
  },
  {
   "cell_type": "code",
   "execution_count": 2,
   "id": "dfa0a2ff-708f-448b-82f2-50b6dacc2675",
   "metadata": {},
   "outputs": [
    {
     "name": "stdout",
     "output_type": "stream",
     "text": [
      "[1, 2, 3, 4, 5] [-3, -2, -1, 0, 1, 2, 3] [20.5, 10.25, 13.125] [-20.5, -10.25, -13.125] [-12.978, 200, 80, 90.9] [2, 4, 6, 8, 10] [1, 3, 5, 7, 9] [0, 1, 1, 2, 3, 5, 8, 13, 21] [1, 2, 4, 8, 16, 32, 64, 128] [1.1, 2, 3.3, 4, 4.4, 5]\n"
     ]
    }
   ],
   "source": [
    "#Creating a list with elements \n",
    "#WORKING ON NUMBERS\n",
    "my_list1 = [1,2,3,4,5]\n",
    "my_list2 = [-3,-2,-1,0,1,2,3]\n",
    "my_list3 = [20.5,10.25,13.125]\n",
    "my_list4 = [-20.5,-10.25,-13.125]\n",
    "my_list5 = [-12.978,200,80,90.9]\n",
    "my_list6 = [2,4,6,8,10]\n",
    "my_list7 = [1,3,5,7,9]\n",
    "my_list8 = [0,1,1,2,3,5,8,13,21]\n",
    "my_list9 = [1,2,4,8,16,32,64,128]\n",
    "my_list10 = [1.1,2,3.3,4,4.4,5]\n",
    "print(my_list1, my_list2, my_list3, my_list4, my_list5, my_list6, my_list7, my_list8, my_list9, my_list10)"
   ]
  },
  {
   "cell_type": "code",
   "execution_count": 7,
   "id": "d43c6145-6e54-480c-936e-be60e365d6eb",
   "metadata": {},
   "outputs": [
    {
     "name": "stdout",
     "output_type": "stream",
     "text": [
      "5\n",
      "2\n",
      "3.3\n",
      "-20.5\n",
      "7\n",
      "8\n"
     ]
    }
   ],
   "source": [
    "#Access list elements\n",
    "print(my_list1[4])\n",
    "print(my_list2[5])\n",
    "print(my_list10[2])\n",
    "print(my_list4[-3])\n",
    "print(my_list7[-2])\n",
    "print(my_list9[-5])"
   ]
  },
  {
   "cell_type": "code",
   "execution_count": 9,
   "id": "88af704b-00c0-48be-a3c9-a4c19af3b4ed",
   "metadata": {},
   "outputs": [
    {
     "name": "stdout",
     "output_type": "stream",
     "text": [
      "[1, 2]\n",
      "[]\n",
      "[-20.5, -10.25, -13.125]\n",
      "[200, 80]\n",
      "[6, 8, 10]\n"
     ]
    }
   ],
   "source": [
    "#Slicing of a list\n",
    "#variable_name[start_value : end_value]...n-1 for end_value\n",
    "print(my_list8[2:4])\n",
    "print(my_list6[-1:-3])\n",
    "print(my_list4[:])\n",
    "print(my_list5[1:-1])\n",
    "print(my_list6[2:])"
   ]
  },
  {
   "cell_type": "code",
   "execution_count": 12,
   "id": "97d5e513-531f-49c4-8dd3-438cb9023ed0",
   "metadata": {},
   "outputs": [
    {
     "name": "stdout",
     "output_type": "stream",
     "text": [
      "[1, 2, 3, 4, 5, -3, -2, -1, 0, 1, 2, 3]\n"
     ]
    }
   ],
   "source": [
    "#List operations \n",
    "# 1 Concatenation \n",
    "concat1and2 = my_list1 + my_list2\n",
    "print(concat1and2)"
   ]
  },
  {
   "cell_type": "code",
   "execution_count": 11,
   "id": "1aea0700-b246-4b85-9f04-58a71b7849d2",
   "metadata": {},
   "outputs": [
    {
     "name": "stdout",
     "output_type": "stream",
     "text": [
      "[1, 2, 4, 8, 16, 32, 64, 128, 1.1, 2, 3.3, 4, 4.4, 5]\n"
     ]
    }
   ],
   "source": [
    "concat9and10 = my_list9 + my_list10\n",
    "print(concat9and10)"
   ]
  },
  {
   "cell_type": "code",
   "execution_count": 13,
   "id": "eb7a2026-ad50-43c1-ac38-5736ade3ffdf",
   "metadata": {},
   "outputs": [
    {
     "name": "stdout",
     "output_type": "stream",
     "text": [
      "[-12.978, 200, 80, 90.9, 0, 1, 1, 2, 3, 5, 8, 13, 21]\n"
     ]
    }
   ],
   "source": [
    "concat5and8 = my_list5 +my_list8\n",
    "print(concat5and8)"
   ]
  },
  {
   "cell_type": "code",
   "execution_count": 15,
   "id": "89b693bf-3890-4ed8-87dd-cc08d11f8fc9",
   "metadata": {},
   "outputs": [
    {
     "name": "stdout",
     "output_type": "stream",
     "text": [
      "[1, 2, 3, 4, 5, 1, 2, 3, 4, 5, 1, 2, 3, 4, 5, 1, 2, 3, 4, 5, 1, 2, 3, 4, 5, 1, 2, 3, 4, 5, 1, 2, 3, 4, 5]\n"
     ]
    }
   ],
   "source": [
    "# 2 Repitition \n",
    "my_list1repeat = my_list1 * 7\n",
    "print(my_list1repeat)"
   ]
  },
  {
   "cell_type": "code",
   "execution_count": 17,
   "id": "16a8903f-714e-45ed-82bb-c1dbe6a9649b",
   "metadata": {},
   "outputs": [
    {
     "name": "stdout",
     "output_type": "stream",
     "text": [
      "[-3, -2, -1, 0, 1, 2, 3, -3, -2, -1, 0, 1, 2, 3, -3, -2, -1, 0, 1, 2, 3, -3, -2, -1, 0, 1, 2, 3, -3, -2, -1, 0, 1, 2, 3, -3, -2, -1, 0, 1, 2, 3, -3, -2, -1, 0, 1, 2, 3, -3, -2, -1, 0, 1, 2, 3, -3, -2, -1, 0, 1, 2, 3]\n"
     ]
    }
   ],
   "source": [
    "print(my_list2 * 9)"
   ]
  },
  {
   "cell_type": "code",
   "execution_count": 18,
   "id": "9266c728-dd18-4518-b2af-69bd7664f196",
   "metadata": {},
   "outputs": [
    {
     "name": "stdout",
     "output_type": "stream",
     "text": [
      "[1.1, 2, 3.3, 4, 4.4, 5, 1.1, 2, 3.3, 4, 4.4, 5, 1.1, 2, 3.3, 4, 4.4, 5, 1.1, 2, 3.3, 4, 4.4, 5, 1.1, 2, 3.3, 4, 4.4, 5, 1.1, 2, 3.3, 4, 4.4, 5, 1.1, 2, 3.3, 4, 4.4, 5, 1.1, 2, 3.3, 4, 4.4, 5]\n"
     ]
    }
   ],
   "source": [
    "print(my_list10 * 8)"
   ]
  },
  {
   "cell_type": "code",
   "execution_count": 19,
   "id": "1bbcd5a6-7205-433d-ade9-89dd936e2d66",
   "metadata": {},
   "outputs": [
    {
     "name": "stdout",
     "output_type": "stream",
     "text": [
      "[20.5, 100, 13.125]\n"
     ]
    }
   ],
   "source": [
    "#Change list items\n",
    "my_list3[1] = 100\n",
    "print(my_list3)"
   ]
  },
  {
   "cell_type": "code",
   "execution_count": 20,
   "id": "f69240d9-628e-4aaa-910c-46540c9beacd",
   "metadata": {},
   "outputs": [
    {
     "name": "stdout",
     "output_type": "stream",
     "text": [
      "[1, 2, 4, 8, 500, 32, 64, 128]\n"
     ]
    }
   ],
   "source": [
    "my_list9[4] = 500\n",
    "print(my_list9)"
   ]
  },
  {
   "cell_type": "code",
   "execution_count": 21,
   "id": "b020aabc-25de-4edb-83bd-89ad5c3fc13f",
   "metadata": {},
   "outputs": [
    {
     "name": "stdout",
     "output_type": "stream",
     "text": [
      "[1.1, 2, 3.3, 4, 4.4, 1000000]\n"
     ]
    }
   ],
   "source": [
    "my_list10[5] = 1000000\n",
    "print(my_list10)"
   ]
  },
  {
   "cell_type": "code",
   "execution_count": 23,
   "id": "ac4a47ec-45f6-47d7-83ea-a76cf7f89f9d",
   "metadata": {},
   "outputs": [
    {
     "name": "stdout",
     "output_type": "stream",
     "text": [
      "[1, 2, 5, 9, 17, 33, 64, 128]\n"
     ]
    }
   ],
   "source": [
    "#Change a range of item values in a list, we use slicing\n",
    "my_list9[2:6] = [5,9,17,33]\n",
    "print(my_list9)"
   ]
  },
  {
   "cell_type": "code",
   "execution_count": 25,
   "id": "3d9080b3-ceda-4327-bf31-d51999ddde85",
   "metadata": {},
   "outputs": [
    {
     "name": "stdout",
     "output_type": "stream",
     "text": [
      "[1, 2, 5, 9, 17, 33, 64, 128]\n"
     ]
    }
   ],
   "source": [
    "my_list8[3:5] = [10,18,27,63]\n",
    "print(my_list9)"
   ]
  },
  {
   "cell_type": "code",
   "execution_count": 26,
   "id": "563329b3-5eee-48b2-bde7-b1ee85942fc4",
   "metadata": {},
   "outputs": [
    {
     "name": "stdout",
     "output_type": "stream",
     "text": [
      "[1, 3, 11, 19, 28, 663, 9]\n"
     ]
    }
   ],
   "source": [
    "my_list7[-3:-1] = [11,19,28,663]\n",
    "print(my_list7)"
   ]
  },
  {
   "cell_type": "code",
   "execution_count": 27,
   "id": "f659db68-34da-4206-98f6-57ff86f72c9b",
   "metadata": {},
   "outputs": [
    {
     "name": "stdout",
     "output_type": "stream",
     "text": [
      "[-20.5, -10.25, -13.125, 39]\n"
     ]
    }
   ],
   "source": [
    "#List Methods\n",
    "#Append\n",
    "my_list4.append(39)\n",
    "print(my_list4)"
   ]
  },
  {
   "cell_type": "code",
   "execution_count": 29,
   "id": "8c539480-a9a9-4c15-8426-9e2446585dab",
   "metadata": {},
   "outputs": [
    {
     "name": "stdout",
     "output_type": "stream",
     "text": [
      "[20.5, 100, 13.125, 10, 20, 30, 40]\n"
     ]
    }
   ],
   "source": [
    "#Extend\n",
    "extend_my_list3=[10,20,30,40]\n",
    "my_list3.extend(extend_my_list3)\n",
    "print(my_list3)"
   ]
  },
  {
   "cell_type": "code",
   "execution_count": 4,
   "id": "e1578761-27a1-43c4-9a3f-3941705b14ea",
   "metadata": {},
   "outputs": [
    {
     "name": "stdout",
     "output_type": "stream",
     "text": [
      "[20.5, 100, 10.25, 13.125]\n",
      "[-20.5, -10.25, 10, -13.125]\n",
      "[-12.978, 200, 80, 100, 90.9]\n"
     ]
    }
   ],
   "source": [
    "#Insert\n",
    "my_list3 = [20.5,10.25,13.125]\n",
    "my_list4 = [-20.5,-10.25,-13.125]\n",
    "my_list5 = [-12.978,200,80,90.9]\n",
    "my_list5.insert(3,100)\n",
    "my_list4.insert(2,10)\n",
    "my_list3.insert(1,100)\n",
    "print(my_list3)\n",
    "print(my_list4)\n",
    "print(my_list5)"
   ]
  },
  {
   "cell_type": "code",
   "execution_count": 6,
   "id": "b0a326ab-5bb7-4001-8907-f2d92126b8f3",
   "metadata": {},
   "outputs": [
    {
     "name": "stdout",
     "output_type": "stream",
     "text": [
      "[1, 2, 3, 4]\n",
      "[-2, -1, 0, 1, 2, 3]\n",
      "[20.5, 13.125]\n"
     ]
    }
   ],
   "source": [
    "#Remove\n",
    "my_list1 = [1,2,3,4,5]\n",
    "my_list2 = [-3,-2,-1,0,1,2,3]\n",
    "my_list3 = [20.5,10.25,13.125]\n",
    "my_list1.remove(5)\n",
    "my_list2.remove(-3)\n",
    "my_list3.remove(10.25)\n",
    "print(my_list1)\n",
    "print(my_list2)\n",
    "print(my_list3)"
   ]
  },
  {
   "cell_type": "code",
   "execution_count": 9,
   "id": "a5546ab6-7a74-444c-9d9e-3211f0c1b1e4",
   "metadata": {},
   "outputs": [
    {
     "name": "stdout",
     "output_type": "stream",
     "text": [
      "3\n",
      "2\n"
     ]
    }
   ],
   "source": [
    "#Pop\n",
    "my_list1 = [1,2,3,4,5]\n",
    "my_list2 = [-3,-2,-1,0,1,2,3]\n",
    "popped1_element = my_list1.pop(2)\n",
    "popped2_element = my_list2.pop(-2)\n",
    "print(popped1_element)\n",
    "print(popped2_element)"
   ]
  },
  {
   "cell_type": "code",
   "execution_count": 10,
   "id": "cd23d15a-04fd-46bb-be18-a98d4503e9af",
   "metadata": {},
   "outputs": [
    {
     "name": "stdout",
     "output_type": "stream",
     "text": [
      "1\n",
      "3\n",
      "0\n",
      "1\n",
      "1\n"
     ]
    }
   ],
   "source": [
    "#Index\n",
    "my_list1 = [1,2,3,4,5]\n",
    "my_list2 = [-3,-2,-1,0,1,2,3]\n",
    "my_list3 = [20.5,10.25,13.125]\n",
    "my_list4 = [-20.5,-10.25,-13.125]\n",
    "my_list5 = [-12.978,200,80,90.9]\n",
    "index1 = my_list1.index(2)\n",
    "index2 = my_list2.index(0)\n",
    "index3 = my_list3.index(20.5)\n",
    "index4 = my_list4.index(-10.25)\n",
    "index5 = my_list5.index(200)\n",
    "print(index1)\n",
    "print(index2)\n",
    "print(index3)\n",
    "print(index4)\n",
    "print(index5)\n"
   ]
  },
  {
   "cell_type": "code",
   "execution_count": 11,
   "id": "291548a7-4f3b-4002-bc92-e3804010aac6",
   "metadata": {},
   "outputs": [
    {
     "name": "stdout",
     "output_type": "stream",
     "text": [
      "4\n",
      "5\n",
      "2\n"
     ]
    }
   ],
   "source": [
    "#Count\n",
    "countlist1 = [1,2,2,2,2,22,3,3,3,33,3,34,4,4,4,4,45,5,5,5,5,6,7,89,0,0]\n",
    "countlist2 = [3,4,4,4,4,4,2,1,5,6,7]\n",
    "countlist3 = [20,20,2030,40,50,60,800,70,70]\n",
    "count1 = countlist1.count(3)\n",
    "count2 = countlist2.count(4)\n",
    "count3 = countlist3.count(70)\n",
    "print(count1)\n",
    "print(count2)\n",
    "print(count3)"
   ]
  },
  {
   "cell_type": "code",
   "execution_count": 14,
   "id": "88d40022-2f5b-4868-b388-0dc28fe0baa8",
   "metadata": {},
   "outputs": [
    {
     "name": "stdout",
     "output_type": "stream",
     "text": [
      "[1, 2, 3, 4, 5]\n",
      "[-3, -2, -1, 0, 1, 2, 3]\n",
      "[10.25, 13.125, 20.5]\n",
      "[-20.5, -13.125, -10.25]\n",
      "[-12.978, 80, 90.9, 200]\n",
      "[2, 4, 6, 8, 10]\n",
      "[1, 3, 5, 7, 9]\n",
      "[0, 1, 1, 2, 3, 5, 8, 13, 21]\n",
      "[1, 2, 4, 8, 16, 32, 64, 128]\n",
      "[1.1, 2, 3.3, 4, 4.4, 5]\n"
     ]
    }
   ],
   "source": [
    "#Sort\n",
    "my_list1 = [1,2,3,4,5]\n",
    "my_list2 = [-3,-2,-1,0,1,2,3]\n",
    "my_list3 = [20.5,10.25,13.125]\n",
    "my_list4 = [-20.5,-10.25,-13.125]\n",
    "my_list5 = [-12.978,200,80,90.9]\n",
    "my_list6 = [2,4,6,8,10]\n",
    "my_list7 = [1,3,5,7,9]\n",
    "my_list8 = [0,1,1,2,3,5,8,13,21]\n",
    "my_list9 = [1,2,4,8,16,32,64,128]\n",
    "my_list10 = [1.1,2,3.3,4,4.4,5]\n",
    "my_list1.sort()\n",
    "my_list2.sort()\n",
    "my_list3.sort()\n",
    "my_list4.sort()\n",
    "my_list5.sort()\n",
    "my_list6.sort()\n",
    "my_list7.sort()\n",
    "my_list8.sort()\n",
    "my_list9.sort()\n",
    "my_list10.sort()\n",
    "print(my_list1)\n",
    "print(my_list2)\n",
    "print(my_list3)\n",
    "print(my_list4)\n",
    "print(my_list5)\n",
    "print(my_list6)\n",
    "print(my_list7)\n",
    "print(my_list8)\n",
    "print(my_list9)\n",
    "print(my_list10)"
   ]
  },
  {
   "cell_type": "code",
   "execution_count": 16,
   "id": "84e8f9bf-25cc-441b-9451-9c64cbd47f99",
   "metadata": {},
   "outputs": [
    {
     "name": "stdout",
     "output_type": "stream",
     "text": [
      "[90.9, 80, 200, -12.978]\n",
      "[10, 8, 6, 4, 2]\n",
      "[9, 7, 5, 3, 1]\n",
      "[21, 13, 8, 5, 3, 2, 1, 1, 0]\n",
      "[128, 64, 32, 16, 8, 4, 2, 1]\n",
      "[5, 4.4, 4, 3.3, 2, 1.1]\n"
     ]
    }
   ],
   "source": [
    "#Reverse\n",
    "my_list5 = [-12.978,200,80,90.9]\n",
    "my_list6 = [2,4,6,8,10]\n",
    "my_list7 = [1,3,5,7,9]\n",
    "my_list8 = [0,1,1,2,3,5,8,13,21]\n",
    "my_list9 = [1,2,4,8,16,32,64,128]\n",
    "my_list10 = [1.1,2,3.3,4,4.4,5]\n",
    "my_list5.reverse()\n",
    "my_list6.reverse()\n",
    "my_list7.reverse()\n",
    "my_list8.reverse()\n",
    "my_list9.reverse()\n",
    "my_list10.reverse()\n",
    "print(my_list5)\n",
    "print(my_list6)\n",
    "print(my_list7)\n",
    "print(my_list8)\n",
    "print(my_list9)\n",
    "print(my_list10)"
   ]
  },
  {
   "cell_type": "code",
   "execution_count": 17,
   "id": "1275a819-722f-4bb7-8d76-df4827cb64e4",
   "metadata": {},
   "outputs": [
    {
     "name": "stdout",
     "output_type": "stream",
     "text": [
      "['apple', 'banana', 'cherry', 'date', 'elderberry']\n",
      "['fig', 'grape', 'honeydew', 'kiwi', 'lemon', 'mango', 'nectarine']\n",
      "['orange', 'papaya', 'quince']\n",
      "['raspberry', 'strawberry', 'tangerine']\n",
      "['ugli fruit', 'voavanga', 'watermelon', 'xigua']\n",
      "['yellow passion fruit', 'zucchini', 'apple', 'banana', 'cherry']\n",
      "['date', 'elderberry', 'fig', 'grape', 'honeydew']\n",
      "['kiwi', 'lemon', 'mango', 'nectarine', 'orange', 'papaya', 'quince', 'raspberry', 'strawberry']\n",
      "['tangerine', 'ugli fruit', 'voavanga', 'watermelon', 'xigua', 'yellow passion fruit', 'zucchini']\n",
      "['apple', 'banana', 'cherry', 'date', 'elderberry', 'fig']\n"
     ]
    }
   ],
   "source": [
    "#WORKING ON STRINGS\n",
    "# String lists\n",
    "str_list1 = [\"apple\", \"banana\", \"cherry\", \"date\", \"elderberry\"]\n",
    "str_list2 = [\"fig\", \"grape\", \"honeydew\", \"kiwi\", \"lemon\", \"mango\", \"nectarine\"]\n",
    "str_list3 = [\"orange\", \"papaya\", \"quince\"]\n",
    "str_list4 = [\"raspberry\", \"strawberry\", \"tangerine\"]\n",
    "str_list5 = [\"ugli fruit\", \"voavanga\", \"watermelon\", \"xigua\"]\n",
    "str_list6 = [\"yellow passion fruit\", \"zucchini\", \"apple\", \"banana\", \"cherry\"]\n",
    "str_list7 = [\"date\", \"elderberry\", \"fig\", \"grape\", \"honeydew\"]\n",
    "str_list8 = [\"kiwi\", \"lemon\", \"mango\", \"nectarine\", \"orange\", \"papaya\", \"quince\", \"raspberry\", \"strawberry\"]\n",
    "str_list9 = [\"tangerine\", \"ugli fruit\", \"voavanga\", \"watermelon\", \"xigua\", \"yellow passion fruit\", \"zucchini\"]\n",
    "str_list10 = [\"apple\", \"banana\", \"cherry\", \"date\", \"elderberry\", \"fig\"]\n",
    "print(str_list1)\n",
    "print(str_list2)\n",
    "print(str_list3)\n",
    "print(str_list4)\n",
    "print(str_list5)\n",
    "print(str_list6)\n",
    "print(str_list7)\n",
    "print(str_list8)\n",
    "print(str_list9)\n",
    "print(str_list10)"
   ]
  },
  {
   "cell_type": "code",
   "execution_count": 18,
   "id": "8856073d-bde3-4653-9615-6c9392733504",
   "metadata": {},
   "outputs": [
    {
     "name": "stdout",
     "output_type": "stream",
     "text": [
      "elderberry\n",
      "mango\n",
      "cherry\n",
      "raspberry\n",
      "grape\n",
      "voavanga\n"
     ]
    }
   ],
   "source": [
    "#Access list elements\n",
    "print(str_list1[4])\n",
    "print(str_list2[5])\n",
    "print(str_list10[2])\n",
    "print(str_list4[-3])\n",
    "print(str_list7[-2])\n",
    "print(str_list9[-5])"
   ]
  },
  {
   "cell_type": "code",
   "execution_count": 19,
   "id": "3b083e34-c3c0-4859-9860-dd5d533de4f0",
   "metadata": {},
   "outputs": [
    {
     "name": "stdout",
     "output_type": "stream",
     "text": [
      "['mango', 'nectarine']\n",
      "[]\n",
      "['raspberry', 'strawberry', 'tangerine']\n",
      "['voavanga', 'watermelon']\n",
      "['apple', 'banana', 'cherry']\n"
     ]
    }
   ],
   "source": [
    "#Slicing of a list\n",
    "#variable_name[start_value : end_value]...n-1 for end_value\n",
    "print(str_list8[2:4])\n",
    "print(str_list6[-1:-3])\n",
    "print(str_list4[:])\n",
    "print(str_list5[1:-1])\n",
    "print(str_list6[2:])"
   ]
  },
  {
   "cell_type": "code",
   "execution_count": 20,
   "id": "9bf69d8d-7da2-48c6-a881-e84ad12fbd6c",
   "metadata": {},
   "outputs": [
    {
     "name": "stdout",
     "output_type": "stream",
     "text": [
      "['apple', 'banana', 'cherry', 'date', 'elderberry', 'fig', 'grape', 'honeydew', 'kiwi', 'lemon', 'mango', 'nectarine']\n",
      "['tangerine', 'ugli fruit', 'voavanga', 'watermelon', 'xigua', 'yellow passion fruit', 'zucchini', 'apple', 'banana', 'cherry', 'date', 'elderberry', 'fig']\n",
      "['ugli fruit', 'voavanga', 'watermelon', 'xigua', 'kiwi', 'lemon', 'mango', 'nectarine', 'orange', 'papaya', 'quince', 'raspberry', 'strawberry']\n"
     ]
    }
   ],
   "source": [
    "#List operations \n",
    "# 1 Concatenation \n",
    "concat1and2 = str_list1 + str_list2\n",
    "print(concat1and2)\n",
    "concat9and10 = str_list9 + str_list10\n",
    "print(concat9and10)\n",
    "concat5and8 = str_list5 +str_list8\n",
    "print(concat5and8)"
   ]
  },
  {
   "cell_type": "code",
   "execution_count": 21,
   "id": "44a22282-2461-4315-b3d5-fa264e0f9fc6",
   "metadata": {},
   "outputs": [
    {
     "name": "stdout",
     "output_type": "stream",
     "text": [
      "['apple', 'banana', 'cherry', 'date', 'elderberry', 'apple', 'banana', 'cherry', 'date', 'elderberry', 'apple', 'banana', 'cherry', 'date', 'elderberry', 'apple', 'banana', 'cherry', 'date', 'elderberry', 'apple', 'banana', 'cherry', 'date', 'elderberry', 'apple', 'banana', 'cherry', 'date', 'elderberry', 'apple', 'banana', 'cherry', 'date', 'elderberry']\n"
     ]
    }
   ],
   "source": [
    "#Repititon\n",
    "str_list1repeat = str_list1 * 7\n",
    "print(str_list1repeat)"
   ]
  },
  {
   "cell_type": "code",
   "execution_count": 22,
   "id": "4ff59185-ea62-4b5f-82b2-90fee33636c7",
   "metadata": {},
   "outputs": [
    {
     "name": "stdout",
     "output_type": "stream",
     "text": [
      "['fig', 'grape', 'honeydew', 'kiwi', 'lemon', 'mango', 'nectarine', 'fig', 'grape', 'honeydew', 'kiwi', 'lemon', 'mango', 'nectarine', 'fig', 'grape', 'honeydew', 'kiwi', 'lemon', 'mango', 'nectarine', 'fig', 'grape', 'honeydew', 'kiwi', 'lemon', 'mango', 'nectarine', 'fig', 'grape', 'honeydew', 'kiwi', 'lemon', 'mango', 'nectarine', 'fig', 'grape', 'honeydew', 'kiwi', 'lemon', 'mango', 'nectarine', 'fig', 'grape', 'honeydew', 'kiwi', 'lemon', 'mango', 'nectarine', 'fig', 'grape', 'honeydew', 'kiwi', 'lemon', 'mango', 'nectarine', 'fig', 'grape', 'honeydew', 'kiwi', 'lemon', 'mango', 'nectarine', 'fig', 'grape', 'honeydew', 'kiwi', 'lemon', 'mango', 'nectarine', 'fig', 'grape', 'honeydew', 'kiwi', 'lemon', 'mango', 'nectarine', 'fig', 'grape', 'honeydew', 'kiwi', 'lemon', 'mango', 'nectarine', 'fig', 'grape', 'honeydew', 'kiwi', 'lemon', 'mango', 'nectarine', 'fig', 'grape', 'honeydew', 'kiwi', 'lemon', 'mango', 'nectarine', 'fig', 'grape', 'honeydew', 'kiwi', 'lemon', 'mango', 'nectarine', 'fig', 'grape', 'honeydew', 'kiwi', 'lemon', 'mango', 'nectarine', 'fig', 'grape', 'honeydew', 'kiwi', 'lemon', 'mango', 'nectarine', 'fig', 'grape', 'honeydew', 'kiwi', 'lemon', 'mango', 'nectarine', 'fig', 'grape', 'honeydew', 'kiwi', 'lemon', 'mango', 'nectarine', 'fig', 'grape', 'honeydew', 'kiwi', 'lemon', 'mango', 'nectarine']\n"
     ]
    }
   ],
   "source": [
    "print(str_list2 * 20)"
   ]
  },
  {
   "cell_type": "code",
   "execution_count": 23,
   "id": "e4effc77-8632-4d02-82f0-3b735de3ae61",
   "metadata": {},
   "outputs": [
    {
     "name": "stdout",
     "output_type": "stream",
     "text": [
      "['apple', 'banana', 'cherry', 'date', 'elderberry', 'fig', 'apple', 'banana', 'cherry', 'date', 'elderberry', 'fig', 'apple', 'banana', 'cherry', 'date', 'elderberry', 'fig']\n"
     ]
    }
   ],
   "source": [
    "print(str_list10 *3)"
   ]
  },
  {
   "cell_type": "code",
   "execution_count": 26,
   "id": "4e3e325d-638a-4d5c-9f5a-047fbe9b9d1a",
   "metadata": {},
   "outputs": [
    {
     "name": "stdout",
     "output_type": "stream",
     "text": [
      "['orange', '100', 'quince']\n",
      "['tangerine', 'ugli fruit', 'voavanga', 'watermelon', '500', 'yellow passion fruit', 'zucchini']\n",
      "['apple', 'banana', 'cherry', 'date', 'elderberry', 'Dragon Fruit']\n"
     ]
    }
   ],
   "source": [
    "# Changing list items\n",
    "str_list3[1] = \"100\"\n",
    "print(str_list3)\n",
    "str_list9[4] = \"500\"\n",
    "print(str_list9)\n",
    "str_list10[5] = \"Dragon Fruit\"\n",
    "print(str_list10)"
   ]
  },
  {
   "cell_type": "code",
   "execution_count": 28,
   "id": "82211c58-e2d3-4311-808f-08a82e2a4055",
   "metadata": {},
   "outputs": [
    {
     "name": "stdout",
     "output_type": "stream",
     "text": [
      "['tangerine', 'ugli fruit', 5, 9, 17, 33, 'zucchini']\n",
      "['kiwi', 'lemon', 'mango', 10, 'Orange', 27, 63, 27, 63, 'papaya', 'quince', 'raspberry', 'strawberry']\n",
      "['date', 'elderberry', 11, 19, 11, 19, 28, 663, 'honeydew']\n"
     ]
    }
   ],
   "source": [
    "#Change a range of item values in a list, we use slicing\n",
    "str_list9[2:6] = [5,9,17,33]\n",
    "print(str_list9)\n",
    "str_list8[3:5] = [10,'Orange',27,63]\n",
    "print(str_list8)\n",
    "str_list7[-3:-1] = [11,19,28,663]\n",
    "print(str_list7)\n"
   ]
  },
  {
   "cell_type": "code",
   "execution_count": 29,
   "id": "dc03e0fb-dd00-47ba-92b3-703eea50c84a",
   "metadata": {},
   "outputs": [
    {
     "name": "stdout",
     "output_type": "stream",
     "text": [
      "['raspberry', 'strawberry', 'tangerine', 'APPLE']\n"
     ]
    }
   ],
   "source": [
    "#List Methods\n",
    "#Append\n",
    "str_list4.append(\"APPLE\")\n",
    "print(str_list4)"
   ]
  },
  {
   "cell_type": "code",
   "execution_count": 30,
   "id": "086f92fe-1cc7-4952-a260-d4b2217bcefc",
   "metadata": {},
   "outputs": [
    {
     "name": "stdout",
     "output_type": "stream",
     "text": [
      "['orange', '100', 'quince', 10, 20, 30, 40]\n"
     ]
    }
   ],
   "source": [
    "#Extend\n",
    "extend_my_list3=[10,20,30,40]\n",
    "str_list3.extend(extend_my_list3)\n",
    "print(str_list3)\n"
   ]
  },
  {
   "cell_type": "code",
   "execution_count": 31,
   "id": "084288a7-414f-4feb-bf2d-dfe662cc4d85",
   "metadata": {},
   "outputs": [
    {
     "name": "stdout",
     "output_type": "stream",
     "text": [
      "['orange', 100, '100', 'quince', 10, 20, 30, 40]\n",
      "['raspberry', 'strawberry', 10, 'tangerine', 'APPLE']\n",
      "['ugli fruit', 'voavanga', 'watermelon', 100, 'xigua']\n"
     ]
    }
   ],
   "source": [
    "#Insert\n",
    "str_list5.insert(3,100)\n",
    "str_list4.insert(2,10)\n",
    "str_list3.insert(1,100)\n",
    "print(str_list3)\n",
    "print(str_list4)\n",
    "print(str_list5)"
   ]
  },
  {
   "cell_type": "code",
   "execution_count": 34,
   "id": "bf1f80ce-e45c-41da-8b92-f4e5b55bb03e",
   "metadata": {},
   "outputs": [
    {
     "name": "stdout",
     "output_type": "stream",
     "text": [
      "['banana', 'cherry', 'date', 'elderberry']\n",
      "['fig', 'honeydew', 'kiwi', 'lemon', 'mango', 'nectarine']\n",
      "['orange', 'quince']\n"
     ]
    }
   ],
   "source": [
    "#Remove\n",
    "str_list1 = [\"apple\", \"banana\", \"cherry\", \"date\", \"elderberry\"]\n",
    "str_list2 = [\"fig\", \"grape\", \"honeydew\", \"kiwi\", \"lemon\", \"mango\", \"nectarine\"]\n",
    "str_list3 = [\"orange\", \"papaya\", \"quince\"]\n",
    "str_list4 = [\"raspberry\", \"strawberry\", \"tangerine\"]\n",
    "str_list5 = [\"ugli fruit\", \"voavanga\", \"watermelon\", \"xigua\"]\n",
    "str_list6 = [\"yellow passion fruit\", \"zucchini\", \"apple\", \"banana\", \"cherry\"]\n",
    "str_list7 = [\"date\", \"elderberry\", \"fig\", \"grape\", \"honeydew\"]\n",
    "str_list8 = [\"kiwi\", \"lemon\", \"mango\", \"nectarine\", \"orange\", \"papaya\", \"quince\", \"raspberry\", \"strawberry\"]\n",
    "str_list9 = [\"tangerine\", \"ugli fruit\", \"voavanga\", \"watermelon\", \"xigua\", \"yellow passion fruit\", \"zucchini\"]\n",
    "str_list10 = [\"apple\", \"banana\", \"cherry\", \"date\", \"elderberry\", \"fig\"]\n",
    "str_list1.remove(\"apple\")\n",
    "str_list2.remove(\"grape\")\n",
    "str_list3.remove('papaya')\n",
    "print(str_list1)\n",
    "print(str_list2)\n",
    "print(str_list3)"
   ]
  },
  {
   "cell_type": "code",
   "execution_count": 36,
   "id": "e709d56c-283d-4eaf-9d72-029d94a09e10",
   "metadata": {},
   "outputs": [
    {
     "name": "stdout",
     "output_type": "stream",
     "text": [
      "cherry\n",
      "kiwi\n"
     ]
    }
   ],
   "source": [
    "#Pop\n",
    "str_list1 = [\"apple\", \"banana\", \"cherry\", \"date\", \"elderberry\"]\n",
    "str_list2 = [\"fig\", \"grape\", \"honeydew\", \"kiwi\", \"lemon\", \"mango\", \"nectarine\"]\n",
    "popped1_element = str_list1.pop(2)\n",
    "popped2_element = str_list2.pop(3)\n",
    "print(popped1_element)\n",
    "print(popped2_element)"
   ]
  },
  {
   "cell_type": "code",
   "execution_count": 40,
   "id": "b780989d-03a4-4df6-8709-4330aa581b24",
   "metadata": {},
   "outputs": [
    {
     "name": "stdout",
     "output_type": "stream",
     "text": [
      "0\n",
      "4\n",
      "0\n",
      "1\n",
      "2\n"
     ]
    }
   ],
   "source": [
    "#Index\n",
    "str_list1_changed = [\"apple\", \"banana\", \"cherry\", \"date\", \"elderberry\",\"apple\"]\n",
    "str_list2_changed = [\"fig\", \"grape\", \"honeydew\", \"kiwi\", \"mango\",\"lemon\", \"mango\", \"nectarine\"]\n",
    "str_list3_changed = [\"orange\", \"papaya\", \"quince\",\"orange\"]\n",
    "str_list4_changed = [\"raspberry\", \"strawberry\", \"strawberry\", \"tangerine\"]\n",
    "str_list5_changed = [\"ugli fruit\", \"voavanga\", \"watermelon\", \"watermelon\",\"xigua\"]\n",
    "index1 = str_list1_changed.index(\"apple\")\n",
    "index2 = str_list2_changed.index(\"mango\")\n",
    "index3 = str_list3_changed.index(\"orange\")\n",
    "index4 = str_list4_changed.index(\"strawberry\")\n",
    "index5 = str_list5_changed.index(\"watermelon\")\n",
    "print(index1)\n",
    "print(index2)\n",
    "print(index3)\n",
    "print(index4)\n",
    "print(index5)"
   ]
  },
  {
   "cell_type": "code",
   "execution_count": 41,
   "id": "b874e81d-b236-418a-8eba-17d600822e38",
   "metadata": {},
   "outputs": [
    {
     "name": "stdout",
     "output_type": "stream",
     "text": [
      "2\n",
      "2\n",
      "2\n"
     ]
    }
   ],
   "source": [
    "#Count\n",
    "str_list1_changed = [\"apple\", \"banana\", \"cherry\", \"date\", \"elderberry\",\"apple\"]\n",
    "str_list2_changed = [\"fig\", \"grape\", \"honeydew\", \"kiwi\", \"mango\",\"lemon\", \"mango\", \"nectarine\"]\n",
    "str_list3_changed = [\"orange\", \"papaya\", \"quince\",\"orange\"]\n",
    "count1 = str_list1_changed.count(\"apple\")\n",
    "count2 = str_list2_changed.count(\"mango\")\n",
    "count3 = str_list3_changed.count(\"orange\")\n",
    "print(count1)\n",
    "print(count2)\n",
    "print(count3)"
   ]
  },
  {
   "cell_type": "code",
   "execution_count": 42,
   "id": "15f82793-8d80-42fb-8947-690014162163",
   "metadata": {},
   "outputs": [
    {
     "name": "stdout",
     "output_type": "stream",
     "text": [
      "['apple', 'banana', 'cherry', 'date', 'elderberry']\n",
      "['fig', 'grape', 'honeydew', 'kiwi', 'lemon', 'mango', 'nectarine']\n",
      "['orange', 'papaya', 'quince']\n",
      "['raspberry', 'strawberry', 'tangerine']\n",
      "['ugli fruit', 'voavanga', 'watermelon', 'xigua']\n"
     ]
    }
   ],
   "source": [
    "#Sort\n",
    "str_list11 = [\"cherry\", \"apple\",\"date\", \"elderberry\", \"banana\"]\n",
    "str_list12 = [\"fig\", \"grape\" , \"nectarine\",\"honeydew\", \"kiwi\", \"lemon\", \"mango\"]\n",
    "str_list13 = [\"papaya\",\"orange\",  \"quince\"]\n",
    "str_list14 = [\"tangerine\",\"raspberry\", \"strawberry\"]\n",
    "str_list15 = [\"voavanga\",\"ugli fruit\", \"watermelon\", \"xigua\"]\n",
    "str_list11.sort()\n",
    "str_list12.sort()\n",
    "str_list13.sort()\n",
    "str_list14.sort()\n",
    "str_list15.sort()\n",
    "print(str_list11)\n",
    "print(str_list12)\n",
    "print(str_list13)\n",
    "print(str_list14)\n",
    "print(str_list15)"
   ]
  },
  {
   "cell_type": "code",
   "execution_count": 43,
   "id": "7ee9da29-3425-48e3-9264-336e5999b61c",
   "metadata": {},
   "outputs": [
    {
     "name": "stdout",
     "output_type": "stream",
     "text": [
      "['cherry', 'banana', 'apple', 'zucchini', 'yellow passion fruit']\n",
      "['honeydew', 'grape', 'fig', 'elderberry', 'date']\n",
      "['strawberry', 'raspberry', 'quince', 'papaya', 'orange', 'nectarine', 'mango', 'lemon', 'kiwi']\n",
      "['zucchini', 'yellow passion fruit', 'xigua', 'watermelon', 'voavanga', 'ugli fruit', 'tangerine']\n",
      "['fig', 'elderberry', 'date', 'cherry', 'banana', 'apple']\n"
     ]
    }
   ],
   "source": [
    "#Reverse\n",
    "str_list6 = [\"yellow passion fruit\", \"zucchini\", \"apple\", \"banana\", \"cherry\"]\n",
    "str_list7 = [\"date\", \"elderberry\", \"fig\", \"grape\", \"honeydew\"]\n",
    "str_list8 = [\"kiwi\", \"lemon\", \"mango\", \"nectarine\", \"orange\", \"papaya\", \"quince\", \"raspberry\", \"strawberry\"]\n",
    "str_list9 = [\"tangerine\", \"ugli fruit\", \"voavanga\", \"watermelon\", \"xigua\", \"yellow passion fruit\", \"zucchini\"]\n",
    "str_list10 = [\"apple\", \"banana\", \"cherry\", \"date\", \"elderberry\", \"fig\"]\n",
    "str_list6.reverse()\n",
    "str_list7.reverse()\n",
    "str_list8.reverse()\n",
    "str_list9.reverse()\n",
    "str_list10.reverse()\n",
    "print(str_list6)\n",
    "print(str_list7)\n",
    "print(str_list8)\n",
    "print(str_list9)\n",
    "print(str_list10)"
   ]
  },
  {
   "cell_type": "code",
   "execution_count": 45,
   "id": "a2242eff-68ea-4229-9a13-39dfbd020b14",
   "metadata": {},
   "outputs": [
    {
     "name": "stdout",
     "output_type": "stream",
     "text": [
      "[]\n",
      "[]\n",
      "[]\n",
      "[]\n",
      "[]\n"
     ]
    }
   ],
   "source": [
    "#Additional list methods for numerics and strings\n",
    "#clear()\n",
    "my_list1 = [1,2,3,4,5]\n",
    "my_list2 = [-3,-2,-1,0,1,2,3]\n",
    "my_list3 = [20.5,10.25,13.125]\n",
    "str_list6 = [\"yellow passion fruit\", \"zucchini\", \"apple\", \"banana\", \"cherry\"]\n",
    "str_list7 = [\"date\", \"elderberry\", \"fig\", \"grape\", \"honeydew\"]\n",
    "str_list8 = [\"kiwi\", \"lemon\", \"mango\", \"nectarine\", \"orange\", \"papaya\", \"quince\", \"raspberry\", \"strawberry\"]\n",
    "my_list1.clear()\n",
    "my_list2.clear()\n",
    "my_list3.clear()\n",
    "str_list6.clear()\n",
    "str_list7.clear()\n",
    "str_list8.clear()\n",
    "print(my_list1)\n",
    "print(my_list2)\n",
    "print(my_list3)\n",
    "print(str_list7)\n",
    "print(str_list8)\n"
   ]
  },
  {
   "cell_type": "code",
   "execution_count": 47,
   "id": "88b0e510-8849-4852-9f33-ad8137eb0241",
   "metadata": {},
   "outputs": [
    {
     "name": "stdout",
     "output_type": "stream",
     "text": [
      "['quince', 'papaya', 'orange']\n",
      "['tangerine', 'strawberry', 'raspberry']\n",
      "['xigua', 'watermelon', 'voavanga', 'ugli fruit']\n"
     ]
    }
   ],
   "source": [
    "str_list3 = [\"orange\", \"papaya\", \"quince\"]\n",
    "str_list4 = [\"raspberry\", \"strawberry\", \"tangerine\"]\n",
    "str_list5 = [\"ugli fruit\", \"voavanga\", \"watermelon\", \"xigua\"]\n",
    "str_list3.sort(reverse=True)\n",
    "str_list4.sort(reverse=True)\n",
    "str_list5.sort(reverse=True)\n",
    "print(str_list3)\n",
    "print(str_list4)\n",
    "print(str_list5)"
   ]
  },
  {
   "cell_type": "code",
   "execution_count": 49,
   "id": "fe87106b-5d9d-4d78-a2c7-a11b9f7f42f0",
   "metadata": {},
   "outputs": [
    {
     "name": "stdout",
     "output_type": "stream",
     "text": [
      "['apple', 'banana', 'cherry', 'date', 'elderberry', 'fig']\n"
     ]
    }
   ],
   "source": [
    "str_list10 = [\"apple\", \"banana\", \"cherry\", \"date\", \"elderberry\", \"fig\"]\n",
    "new_list10 = str_list10.copy()\n",
    "print(new_list10)"
   ]
  }
 ],
 "metadata": {
  "kernelspec": {
   "display_name": "Python 3 (ipykernel)",
   "language": "python",
   "name": "python3"
  },
  "language_info": {
   "codemirror_mode": {
    "name": "ipython",
    "version": 3
   },
   "file_extension": ".py",
   "mimetype": "text/x-python",
   "name": "python",
   "nbconvert_exporter": "python",
   "pygments_lexer": "ipython3",
   "version": "3.12.4"
  }
 },
 "nbformat": 4,
 "nbformat_minor": 5
}
