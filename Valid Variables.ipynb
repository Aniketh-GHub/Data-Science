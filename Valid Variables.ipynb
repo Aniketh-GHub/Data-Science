{
 "cells": [
  {
   "cell_type": "code",
   "execution_count": 8,
   "id": "1f3bd720-7d23-4442-ab37-f369427a5e00",
   "metadata": {},
   "outputs": [
    {
     "name": "stdout",
     "output_type": "stream",
     "text": [
      "20\n",
      "30.9999\n",
      "321\n",
      "120\n",
      "(1+2j)\n",
      "7\n",
      "5\n",
      "21\n",
      "25\n",
      "175.5\n",
      "89\n",
      "36.6\n",
      "1200.5\n",
      "1000000\n",
      "60.2\n",
      "72.5\n",
      "199.99\n",
      "1.5\n",
      "5\n",
      "10.5\n"
     ]
    }
   ],
   "source": [
    "# Note : RUN ALL THE CELLS \n",
    "#Creating 20 valid variables \n",
    "num = 20 #1\n",
    "num1= 30.9999 #2\n",
    "num_123= 321 #3\n",
    "fact_5 = 120 #4\n",
    "_20abc = 1+2j #5\n",
    "Aniketh_23 = 7 #6\n",
    "number_OF_Vowels = 5 #7\n",
    "NUMBER_of_Consonants = 21 #8\n",
    "age = 25 #9\n",
    "height = 175.5 #10\n",
    "Score = 89 #11\n",
    "_temperature_Hyd =  36.6 #12\n",
    "distance1_to_distance2_in_KM = 1200.5 #13\n",
    "population_in_num = 1000000 #14\n",
    "speed_in_kmph = 60.2 #15\n",
    "weight1and2_in_KG = 72.5 #16\n",
    "price_for_Food = 199.99 #17 # here for is included in the identifier's name so it does not pop up an error message\n",
    "volume = 1.5 #18\n",
    "Length = 5 # 19 \n",
    "Width = 10.5 #20\n",
    "print(num)\n",
    "print(num1)\n",
    "print(num_123)\n",
    "print(fact_5)\n",
    "print(_20abc)\n",
    "print(Aniketh_23)\n",
    "print(number_OF_Vowels)\n",
    "print(NUMBER_of_Consonants)\n",
    "print(age)\n",
    "print(height)\n",
    "print(Score)\n",
    "print(_temperature_Hyd)\n",
    "print(distance1_to_distance2_in_KM)\n",
    "print(population_in_num)\n",
    "print(speed_in_kmph)\n",
    "print(weight1and2_in_KG)\n",
    "print(price_for_Food)\n",
    "print(volume)\n",
    "print(Length)\n",
    "print(Width)"
   ]
  }
 ],
 "metadata": {
  "kernelspec": {
   "display_name": "Python 3 (ipykernel)",
   "language": "python",
   "name": "python3"
  },
  "language_info": {
   "codemirror_mode": {
    "name": "ipython",
    "version": 3
   },
   "file_extension": ".py",
   "mimetype": "text/x-python",
   "name": "python",
   "nbconvert_exporter": "python",
   "pygments_lexer": "ipython3",
   "version": "3.12.4"
  }
 },
 "nbformat": 4,
 "nbformat_minor": 5
}
