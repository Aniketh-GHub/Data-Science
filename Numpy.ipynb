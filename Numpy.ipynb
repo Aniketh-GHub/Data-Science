{
  "nbformat": 4,
  "nbformat_minor": 0,
  "metadata": {
    "colab": {
      "provenance": []
    },
    "kernelspec": {
      "name": "python3",
      "display_name": "Python 3"
    },
    "language_info": {
      "name": "python"
    }
  },
  "cells": [
    {
      "cell_type": "code",
      "execution_count": 1,
      "metadata": {
        "colab": {
          "base_uri": "https://localhost:8080/"
        },
        "id": "Ip1uYoolHgKO",
        "outputId": "667fe284-7817-4080-cd7a-748fb416c7d1"
      },
      "outputs": [
        {
          "output_type": "stream",
          "name": "stdout",
          "text": [
            "Requirement already satisfied: numpy in /usr/local/lib/python3.10/dist-packages (1.26.4)\n"
          ]
        }
      ],
      "source": [
        "!pip install numpy"
      ]
    },
    {
      "cell_type": "code",
      "source": [
        "import numpy as np\n",
        "a=np.array([1,2,3])\n",
        "print(a)"
      ],
      "metadata": {
        "colab": {
          "base_uri": "https://localhost:8080/"
        },
        "id": "I11YGUApHm4P",
        "outputId": "c4f63b34-fa72-4d24-c799-10bd705234a7"
      },
      "execution_count": 2,
      "outputs": [
        {
          "output_type": "stream",
          "name": "stdout",
          "text": [
            "[1 2 3]\n"
          ]
        }
      ]
    },
    {
      "cell_type": "code",
      "source": [
        "#2D\n",
        "a=np.array([(1,2,3),(4,5,6)])\n",
        "print(a)"
      ],
      "metadata": {
        "colab": {
          "base_uri": "https://localhost:8080/"
        },
        "id": "JOvsr8cLHsDg",
        "outputId": "b0758823-ce14-482d-bff2-2edc8822b29c"
      },
      "execution_count": 3,
      "outputs": [
        {
          "output_type": "stream",
          "name": "stdout",
          "text": [
            "[[1 2 3]\n",
            " [4 5 6]]\n"
          ]
        }
      ]
    },
    {
      "cell_type": "code",
      "source": [
        "#3d\n",
        "a=np.array([(1,2,3),(4,5,6),(7,8,9)])\n",
        "print(a)"
      ],
      "metadata": {
        "colab": {
          "base_uri": "https://localhost:8080/"
        },
        "id": "Z8IiMzZbHt9v",
        "outputId": "e2a4a7b7-4e9a-46a9-fdd5-32bc693d32cd"
      },
      "execution_count": 4,
      "outputs": [
        {
          "output_type": "stream",
          "name": "stdout",
          "text": [
            "[[1 2 3]\n",
            " [4 5 6]\n",
            " [7 8 9]]\n"
          ]
        }
      ]
    },
    {
      "cell_type": "code",
      "source": [
        "#initial place holders\n",
        "#2D\n",
        "np.zeros((1,2))"
      ],
      "metadata": {
        "colab": {
          "base_uri": "https://localhost:8080/"
        },
        "id": "_uRJt6eoHv7O",
        "outputId": "208615ec-0b69-43e0-e3d5-67fc8994c45e"
      },
      "execution_count": 5,
      "outputs": [
        {
          "output_type": "execute_result",
          "data": {
            "text/plain": [
              "array([[0., 0.]])"
            ]
          },
          "metadata": {},
          "execution_count": 5
        }
      ]
    },
    {
      "cell_type": "code",
      "source": [
        "np.zeros((1,2,3))"
      ],
      "metadata": {
        "colab": {
          "base_uri": "https://localhost:8080/"
        },
        "id": "i56GM72mHyCu",
        "outputId": "d70877c7-6df3-46c8-82a7-402e98e4df6f"
      },
      "execution_count": 6,
      "outputs": [
        {
          "output_type": "execute_result",
          "data": {
            "text/plain": [
              "array([[[0., 0., 0.],\n",
              "        [0., 0., 0.]]])"
            ]
          },
          "metadata": {},
          "execution_count": 6
        }
      ]
    },
    {
      "cell_type": "code",
      "source": [
        "#create an array of evenly spaced values(stepvalues)\n",
        "a = np.arange(10,25,3)\n",
        "print(a)"
      ],
      "metadata": {
        "colab": {
          "base_uri": "https://localhost:8080/"
        },
        "id": "hnr031psHzid",
        "outputId": "3430d7d5-d385-425a-d6cb-04accb5950e5"
      },
      "execution_count": 7,
      "outputs": [
        {
          "output_type": "stream",
          "name": "stdout",
          "text": [
            "[10 13 16 19 22]\n"
          ]
        }
      ]
    },
    {
      "cell_type": "code",
      "source": [
        "#array of evenly spaced values\n",
        "uni = np.linspace(110,80,10)\n",
        "print(uni)"
      ],
      "metadata": {
        "colab": {
          "base_uri": "https://localhost:8080/"
        },
        "id": "FIfA8vMPH1K4",
        "outputId": "d44b0ea4-54e9-4f8a-aae4-2a4a92d20c59"
      },
      "execution_count": 8,
      "outputs": [
        {
          "output_type": "stream",
          "name": "stdout",
          "text": [
            "[110.         106.66666667 103.33333333 100.          96.66666667\n",
            "  93.33333333  90.          86.66666667  83.33333333  80.        ]\n"
          ]
        }
      ]
    },
    {
      "cell_type": "code",
      "source": [
        "a = np.array([[[3,5,6],[4,6,7]],\n",
        "              [[3,5,6],[4,6,7]],\n",
        "              [[6,6,4],[4,8,9]]])\n",
        "print(a)"
      ],
      "metadata": {
        "colab": {
          "base_uri": "https://localhost:8080/"
        },
        "id": "W3zQRf0LH2-l",
        "outputId": "e0232dc0-17d0-4f26-8f22-80e18a930c63"
      },
      "execution_count": 9,
      "outputs": [
        {
          "output_type": "stream",
          "name": "stdout",
          "text": [
            "[[[3 5 6]\n",
            "  [4 6 7]]\n",
            "\n",
            " [[3 5 6]\n",
            "  [4 6 7]]\n",
            "\n",
            " [[6 6 4]\n",
            "  [4 8 9]]]\n"
          ]
        }
      ]
    },
    {
      "cell_type": "code",
      "source": [
        "import numpy as np\n",
        "a = np.array([[[1,5],[8,19]],[[35,52],[80,90]]])\n",
        "print(a)"
      ],
      "metadata": {
        "colab": {
          "base_uri": "https://localhost:8080/"
        },
        "id": "YuYvFQ7jH5El",
        "outputId": "f994304b-1627-4d7d-9be2-7aa9d993e97d"
      },
      "execution_count": 10,
      "outputs": [
        {
          "output_type": "stream",
          "name": "stdout",
          "text": [
            "[[[ 1  5]\n",
            "  [ 8 19]]\n",
            "\n",
            " [[35 52]\n",
            "  [80 90]]]\n"
          ]
        }
      ]
    },
    {
      "cell_type": "code",
      "source": [
        "a = np.array([[9,0],[9,0]])\n",
        "print(a)"
      ],
      "metadata": {
        "colab": {
          "base_uri": "https://localhost:8080/"
        },
        "id": "0gRWarSWH6pR",
        "outputId": "0a30eb3c-dbbf-4487-f179-1f31199e70a4"
      },
      "execution_count": 11,
      "outputs": [
        {
          "output_type": "stream",
          "name": "stdout",
          "text": [
            "[[9 0]\n",
            " [9 0]]\n"
          ]
        }
      ]
    },
    {
      "cell_type": "code",
      "source": [
        "a = np.array([[[30,40],[90,40]],[[30,30],[60,60]]])\n",
        "print(a)\n",
        "a.ndim"
      ],
      "metadata": {
        "colab": {
          "base_uri": "https://localhost:8080/"
        },
        "id": "geWWqWpRH8sr",
        "outputId": "908cae86-8afe-4f85-8f0c-2dc4e1d95bdd"
      },
      "execution_count": 12,
      "outputs": [
        {
          "output_type": "stream",
          "name": "stdout",
          "text": [
            "[[[30 40]\n",
            "  [90 40]]\n",
            "\n",
            " [[30 30]\n",
            "  [60 60]]]\n"
          ]
        },
        {
          "output_type": "execute_result",
          "data": {
            "text/plain": [
              "3"
            ]
          },
          "metadata": {},
          "execution_count": 12
        }
      ]
    },
    {
      "cell_type": "code",
      "source": [
        "#creating random arrays\n",
        "np.random.randint([[[10,20],[2,6]],[[30,40],[20,10]]])"
      ],
      "metadata": {
        "colab": {
          "base_uri": "https://localhost:8080/"
        },
        "id": "lwSDiuMmIAJ1",
        "outputId": "133f02e2-de02-4757-f0cd-02032f27cd2d"
      },
      "execution_count": 13,
      "outputs": [
        {
          "output_type": "execute_result",
          "data": {
            "text/plain": [
              "array([[[ 9,  7],\n",
              "        [ 1,  0]],\n",
              "\n",
              "       [[15, 29],\n",
              "        [ 9,  3]]])"
            ]
          },
          "metadata": {},
          "execution_count": 13
        }
      ]
    },
    {
      "cell_type": "code",
      "source": [
        "#creating random arrays\n",
        "np.random.random((6,8))"
      ],
      "metadata": {
        "colab": {
          "base_uri": "https://localhost:8080/"
        },
        "id": "muMz9m2QIChf",
        "outputId": "9ad2988c-4480-4a6f-f899-1494e17a9aaf"
      },
      "execution_count": 14,
      "outputs": [
        {
          "output_type": "execute_result",
          "data": {
            "text/plain": [
              "array([[0.60019585, 0.49260811, 0.170395  , 0.7050418 , 0.7499478 ,\n",
              "        0.63496769, 0.5898569 , 0.74317778],\n",
              "       [0.59572185, 0.91507862, 0.73217186, 0.48588146, 0.4645006 ,\n",
              "        0.67031248, 0.80014993, 0.83318436],\n",
              "       [0.170949  , 0.59472074, 0.7812895 , 0.1294726 , 0.62582207,\n",
              "        0.66765447, 0.64874647, 0.39968645],\n",
              "       [0.30529784, 0.99459988, 0.45555227, 0.36190686, 0.27384704,\n",
              "        0.58369505, 0.14744099, 0.58351911],\n",
              "       [0.52682738, 0.95129012, 0.02637718, 0.28206216, 0.82435639,\n",
              "        0.18093088, 0.3641265 , 0.8717726 ],\n",
              "       [0.87593792, 0.88387595, 0.94869904, 0.03355449, 0.07068128,\n",
              "        0.07995161, 0.10465548, 0.11711592]])"
            ]
          },
          "metadata": {},
          "execution_count": 14
        }
      ]
    },
    {
      "cell_type": "code",
      "source": [
        "a=np.full((2),5)\n",
        "print(a)"
      ],
      "metadata": {
        "colab": {
          "base_uri": "https://localhost:8080/"
        },
        "id": "FFtewmIYIKXU",
        "outputId": "cc1556ae-0860-4ab8-bedb-79e4b8efcb2b"
      },
      "execution_count": 15,
      "outputs": [
        {
          "output_type": "stream",
          "name": "stdout",
          "text": [
            "[5 5]\n"
          ]
        }
      ]
    },
    {
      "cell_type": "code",
      "source": [
        "a = np.full((10,20),5)\n",
        "print(a)"
      ],
      "metadata": {
        "colab": {
          "base_uri": "https://localhost:8080/"
        },
        "id": "WEzff9SJIMb3",
        "outputId": "f316b8d2-9c89-43a3-a7a6-45e90ce6ff57"
      },
      "execution_count": 16,
      "outputs": [
        {
          "output_type": "stream",
          "name": "stdout",
          "text": [
            "[[5 5 5 5 5 5 5 5 5 5 5 5 5 5 5 5 5 5 5 5]\n",
            " [5 5 5 5 5 5 5 5 5 5 5 5 5 5 5 5 5 5 5 5]\n",
            " [5 5 5 5 5 5 5 5 5 5 5 5 5 5 5 5 5 5 5 5]\n",
            " [5 5 5 5 5 5 5 5 5 5 5 5 5 5 5 5 5 5 5 5]\n",
            " [5 5 5 5 5 5 5 5 5 5 5 5 5 5 5 5 5 5 5 5]\n",
            " [5 5 5 5 5 5 5 5 5 5 5 5 5 5 5 5 5 5 5 5]\n",
            " [5 5 5 5 5 5 5 5 5 5 5 5 5 5 5 5 5 5 5 5]\n",
            " [5 5 5 5 5 5 5 5 5 5 5 5 5 5 5 5 5 5 5 5]\n",
            " [5 5 5 5 5 5 5 5 5 5 5 5 5 5 5 5 5 5 5 5]\n",
            " [5 5 5 5 5 5 5 5 5 5 5 5 5 5 5 5 5 5 5 5]]\n"
          ]
        }
      ]
    },
    {
      "cell_type": "code",
      "source": [
        "a=np.full((2,3,4),6)\n",
        "print(a)"
      ],
      "metadata": {
        "colab": {
          "base_uri": "https://localhost:8080/"
        },
        "id": "ee5S_n-2IOXQ",
        "outputId": "4423221a-16e9-4ec6-ab11-55a654fe6aab"
      },
      "execution_count": 17,
      "outputs": [
        {
          "output_type": "stream",
          "name": "stdout",
          "text": [
            "[[[6 6 6 6]\n",
            "  [6 6 6 6]\n",
            "  [6 6 6 6]]\n",
            "\n",
            " [[6 6 6 6]\n",
            "  [6 6 6 6]\n",
            "  [6 6 6 6]]]\n"
          ]
        }
      ]
    },
    {
      "cell_type": "code",
      "source": [
        "#shape of an array\n",
        "a = np.array([\n",
        "    [[3,4],[50,4]],\n",
        "    [[30,3],[75,6]]\n",
        "    ])\n",
        "print(a)\n",
        "print(a.shape)"
      ],
      "metadata": {
        "colab": {
          "base_uri": "https://localhost:8080/"
        },
        "id": "85s5A6DnIRcB",
        "outputId": "27b40d41-abc7-404f-e534-5fdc7103d916"
      },
      "execution_count": 19,
      "outputs": [
        {
          "output_type": "stream",
          "name": "stdout",
          "text": [
            "[[[ 3  4]\n",
            "  [50  4]]\n",
            "\n",
            " [[30  3]\n",
            "  [75  6]]]\n",
            "(2, 2, 2)\n"
          ]
        }
      ]
    },
    {
      "cell_type": "code",
      "source": [
        "#size of an array\n",
        "a = np.array([\n",
        "    [[3,4],[50,4]],\n",
        "    [[30,3],[75,6]]\n",
        "    ])\n",
        "print(a)\n",
        "print(a.size)"
      ],
      "metadata": {
        "colab": {
          "base_uri": "https://localhost:8080/"
        },
        "id": "nAxnV8cyITex",
        "outputId": "e32ffcc3-9a6d-401f-e715-df54c3861a75"
      },
      "execution_count": 20,
      "outputs": [
        {
          "output_type": "stream",
          "name": "stdout",
          "text": [
            "[[[ 3  4]\n",
            "  [50  4]]\n",
            "\n",
            " [[30  3]\n",
            "  [75  6]]]\n",
            "8\n"
          ]
        }
      ]
    },
    {
      "cell_type": "code",
      "source": [
        "#len of an array\n",
        "a = np.array([\n",
        "    [[3,4],[50,4]],\n",
        "    [[30,3],[75,6]]\n",
        "    ])\n",
        "print(a)\n",
        "len(a)"
      ],
      "metadata": {
        "colab": {
          "base_uri": "https://localhost:8080/"
        },
        "id": "WImY4NWOIZ7r",
        "outputId": "c5accdb3-5e43-439a-939a-317226f94095"
      },
      "execution_count": 21,
      "outputs": [
        {
          "output_type": "stream",
          "name": "stdout",
          "text": [
            "[[[ 3  4]\n",
            "  [50  4]]\n",
            "\n",
            " [[30  3]\n",
            "  [75  6]]]\n"
          ]
        },
        {
          "output_type": "execute_result",
          "data": {
            "text/plain": [
              "2"
            ]
          },
          "metadata": {},
          "execution_count": 21
        }
      ]
    },
    {
      "cell_type": "code",
      "source": [],
      "metadata": {
        "id": "_o13KEB3IcHU"
      },
      "execution_count": null,
      "outputs": []
    }
  ]
}