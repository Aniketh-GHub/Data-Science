{
 "cells": [
  {
   "cell_type": "code",
   "execution_count": 7,
   "id": "906b4851-d268-4eba-9539-ec7a7f321b80",
   "metadata": {},
   "outputs": [
    {
     "name": "stdout",
     "output_type": "stream",
     "text": [
      "{'name': 'Aniketh', 'age': 22, 'grade': 'A'}\n"
     ]
    },
    {
     "data": {
      "text/plain": [
       "{'name': 'Aniketh', 'age': 22, 'grades': [85, 90, 92]}"
      ]
     },
     "execution_count": 7,
     "metadata": {},
     "output_type": "execute_result"
    }
   ],
   "source": [
    "#Creating dictionaries\n",
    "#Empty\n",
    "empty_dict={}\n",
    "student = {'name' :'Aniketh','age': 22,'grade':'A'}\n",
    "mixed_dict = {\n",
    "    'name':'Aniketh',\n",
    "    'age' : 22,\n",
    "    'grades':[85,90,92]\n",
    "}\n",
    "print(student)\n",
    "mixed_dict"
   ]
  },
  {
   "cell_type": "code",
   "execution_count": 19,
   "id": "2ba997b5-91c1-4501-9e6b-b566e2680160",
   "metadata": {},
   "outputs": [
    {
     "name": "stdout",
     "output_type": "stream",
     "text": [
      "Aniketh\n",
      "Kalki 2898 AD\n",
      "Hyderabad\n"
     ]
    }
   ],
   "source": [
    "#Accessing values\n",
    "#Creating dictionaries first\n",
    "student = {\n",
    "    \"name\": \"Aniketh\",\n",
    "    \"age\": 30,\n",
    "    \"gender\": \"Male\",\n",
    "    \"grade\": \"A+\" \n",
    "}\n",
    "address = {\n",
    "    \"street\": \"Race Course road\",\n",
    "    \"city\": \"Hyderabad\",\n",
    "    \"country\": \"India\"\n",
    "}\n",
    "product = {\n",
    "    \"product_id\": \"P001\",\n",
    "    \"name\": \"Laptop\",\n",
    "    \"brand\": \"Lenovo\",\n",
    "    \"price\": 50000,\n",
    "    \"in_stock\": True\n",
    "}\n",
    "skill = {\n",
    "    \"language\": \"python\",\n",
    "    \"founder\": \"guido van rossum\",\n",
    "    \"trainer\": \"Mr. Vamsi Reddy\",\n",
    "    \"Institute\": \"Teks Academy\"\n",
    "}\n",
    "movie = {\n",
    "    \"title\": \"Kalki 2898 AD\",\n",
    "    \"director\": \"Nag Ashwin\",\n",
    "    \"release_year\": 2024,\n",
    "    \"genre\": \"Sci-Fi\",\n",
    "    \"rating\": 9.5\n",
    "}\n",
    "print(student['name'])\n",
    "print(movie['title'])      \n",
    "print(address['city'])"
   ]
  },
  {
   "cell_type": "code",
   "execution_count": 11,
   "id": "62cfee61-7407-4009-ace6-274edadbb366",
   "metadata": {},
   "outputs": [
    {
     "name": "stdout",
     "output_type": "stream",
     "text": [
      "{'language': 'python', 'founder': 'guido van rossum', 'trainer': 'Mr. Vamsi Reddy', 'Institute': 'Kapil Institute'}\n"
     ]
    }
   ],
   "source": [
    "#Modify\n",
    "skill = {\n",
    "    \"language\": \"python\",\n",
    "    \"founder\": \"guido van rossum\",\n",
    "    \"trainer\": \"Mr. Vamsi Reddy\",\n",
    "    \"Institute\": \"Teks Academy\"\n",
    "}\n",
    "skill[\"Institute\"]=\"Kapil Institute\"\n",
    "print(skill)"
   ]
  },
  {
   "cell_type": "code",
   "execution_count": 17,
   "id": "acb87978-c9d1-49c8-9ea4-4b94bf4fe153",
   "metadata": {},
   "outputs": [
    {
     "name": "stdout",
     "output_type": "stream",
     "text": [
      "{'name': 'Aniketh', 'age': 30, 'gender': 'Male', 'height': 5.7, 'qualification': 'B.Tech'}\n"
     ]
    }
   ],
   "source": [
    "#Add an entry\n",
    "student = {\n",
    "    \"name\": \"Aniketh\",\n",
    "    \"age\": 30,\n",
    "    \"gender\": \"Male\"\n",
    "}\n",
    "student[\"height\"] = 5.7\n",
    "student[\"qualification\"] = \"B.Tech\"\n",
    "print(student)"
   ]
  },
  {
   "cell_type": "code",
   "execution_count": 21,
   "id": "c66e46eb-4de1-4547-9aa0-2bdb26fcc2bc",
   "metadata": {},
   "outputs": [
    {
     "name": "stdout",
     "output_type": "stream",
     "text": [
      "A+\n",
      "Male\n",
      "not assigned\n",
      "python\n"
     ]
    }
   ],
   "source": [
    "#Dictionary methods\n",
    "#Get\n",
    "student = {\n",
    "    \"name\": \"Aniketh\",\n",
    "    \"age\": 30,\n",
    "    \"gender\": \"Male\",\n",
    "    \"grade\": \"A+\" \n",
    "}\n",
    "g = student.get('grade')\n",
    "gender = student.get('gender','not specified')\n",
    "profession = student.get('profession','not assigned')\n",
    "print(g)\n",
    "print(gender)\n",
    "print(profession)\n",
    "skill = {\n",
    "    \"language\": \"python\",\n",
    "    \"founder\": \"guido van rossum\",\n",
    "    \"trainer\": \"Mr. Vamsi Reddy\",\n",
    "    \"Institute\": \"Teks Academy\"\n",
    "}\n",
    "s = skill.get('language')\n",
    "print(s)"
   ]
  },
  {
   "cell_type": "code",
   "execution_count": 22,
   "id": "6fab386c-491a-4cb5-8f4c-9e1eb220b2a5",
   "metadata": {},
   "outputs": [
    {
     "name": "stdout",
     "output_type": "stream",
     "text": [
      "dict_keys(['name', 'age', 'gender', 'grade'])\n"
     ]
    }
   ],
   "source": [
    "#Keys\n",
    "keys = student.keys()\n",
    "print(keys)"
   ]
  },
  {
   "cell_type": "code",
   "execution_count": 23,
   "id": "9c4c8a48-2879-4f03-83b7-04dff5880490",
   "metadata": {},
   "outputs": [
    {
     "name": "stdout",
     "output_type": "stream",
     "text": [
      "dict_keys(['title', 'director', 'release_year', 'genre', 'rating'])\n"
     ]
    }
   ],
   "source": [
    "keys = movie.keys()\n",
    "print(keys)"
   ]
  },
  {
   "cell_type": "code",
   "execution_count": 26,
   "id": "4f5f98be-b8a6-4645-bf68-98a6dfffe04b",
   "metadata": {},
   "outputs": [
    {
     "name": "stdout",
     "output_type": "stream",
     "text": [
      "dict_values(['Aniketh', 30, 'Male', 'A+'])\n",
      "dict_values(['Kalki 2898 AD', 'Nag Ashwin', 2024, 'Sci-Fi', 9.5])\n"
     ]
    }
   ],
   "source": [
    "#Values\n",
    "values = student.values()\n",
    "print(values)\n",
    "values = movie.values()\n",
    "print(values)"
   ]
  },
  {
   "cell_type": "code",
   "execution_count": 28,
   "id": "f453860b-6fa4-4e77-984e-624214fe56c4",
   "metadata": {},
   "outputs": [
    {
     "name": "stdout",
     "output_type": "stream",
     "text": [
      "dict_items([('street', 'Race Course road'), ('city', 'Hyderabad'), ('country', 'India')])\n",
      "dict_items([('product_id', 'P001'), ('name', 'Laptop'), ('brand', 'Lenovo'), ('price', 50000), ('in_stock', True)])\n"
     ]
    }
   ],
   "source": [
    "#Items\n",
    "student = {\n",
    "    \"name\": \"Aniketh\",\n",
    "    \"age\": 30,\n",
    "    \"gender\": \"Male\",\n",
    "    \"grades\": [85,90,100] \n",
    "}\n",
    "address = {\n",
    "    \"street\": \"Race Course road\",\n",
    "    \"city\": \"Hyderabad\",\n",
    "    \"country\": \"India\"\n",
    "}\n",
    "product = {\n",
    "    \"product_id\": \"P001\",\n",
    "    \"name\": \"Laptop\",\n",
    "    \"brand\": \"Lenovo\",\n",
    "    \"price\": 50000,\n",
    "    \"in_stock\": True\n",
    "}\n",
    "skill = {\n",
    "    \"language\": \"python\",\n",
    "    \"founder\": \"guido van rossum\",\n",
    "    \"trainer\": \"Mr. Vamsi Reddy\",\n",
    "    \"Institute\": \"Teks Academy\"\n",
    "}\n",
    "movie = {\n",
    "    \"title\": \"Kalki 2898 AD\",\n",
    "    \"director\": \"Nag Ashwin\",\n",
    "    \"release_year\": 2024,\n",
    "    \"genre\": \"Sci-Fi\",\n",
    "    \"rating\": 9.5\n",
    "}\n",
    "items = address.items()\n",
    "print(items)\n",
    "items = product.items()\n",
    "print(items)"
   ]
  },
  {
   "cell_type": "code",
   "execution_count": 33,
   "id": "4b89467a-0092-4e34-a026-29f196399883",
   "metadata": {},
   "outputs": [
    {
     "name": "stdout",
     "output_type": "stream",
     "text": [
      "[85, 90, 95]\n",
      "guido van rossum\n"
     ]
    }
   ],
   "source": [
    "#Pop\n",
    "student = {\n",
    "    \"name\": \"Aniketh\",\n",
    "    \"age\": 30,\n",
    "    \"gender\": \"Male\",\n",
    "    \"grades\": [85,90,95] \n",
    "}\n",
    "address = {\n",
    "    \"street\": \"Racee Course road\",\n",
    "    \"city\": \"Hyderabad\",\n",
    "    \"country\": \"India\"\n",
    "}\n",
    "product = {\n",
    "    \"product_id\": \"P001\",\n",
    "    \"name\": \"Laptop\",\n",
    "    \"brand\": \"Lenovo\",\n",
    "    \"price\": 50000,\n",
    "    \"in_stock\": True\n",
    "}\n",
    "skill = {\n",
    "    \"language\": \"python\",\n",
    "    \"founder\": \"guido van rossum\",\n",
    "    \"trainer\": \"Mr. Vamsi Reddy\",\n",
    "    \"Institute\": \"Teks Academy\"\n",
    "}\n",
    "movie = {\n",
    "    \"title\": \"Kalki 2898 AD\",\n",
    "    \"director\": \"Nag Ashwin\",\n",
    "    \"release_year\": 2024,\n",
    "    \"genre\": \"Sci-Fi\",\n",
    "    \"rating\": 9.5\n",
    "}\n",
    "popped1 = student.pop('grades')\n",
    "print(popped1)\n",
    "popped2 = skill.pop('founder','language')\n",
    "print(popped2)"
   ]
  },
  {
   "cell_type": "code",
   "execution_count": 43,
   "id": "64dba1cf-7e1a-4b8a-9755-3e32a5f8adeb",
   "metadata": {},
   "outputs": [
    {
     "name": "stdout",
     "output_type": "stream",
     "text": [
      "('in_stock', True)\n",
      "('genre', 'Sci-Fi')\n"
     ]
    }
   ],
   "source": [
    "#Pop item\n",
    "last_item1 = product.popitem()\n",
    "print(last_item1)\n",
    "last_item2 = movie.popitem()\n",
    "print(last_item2)"
   ]
  },
  {
   "cell_type": "code",
   "execution_count": 44,
   "id": "8e3a8a64-63cc-4f8c-98cb-495e915c21cb",
   "metadata": {},
   "outputs": [
    {
     "name": "stdout",
     "output_type": "stream",
     "text": [
      "{'product_id': 'P001', 'name': 'Laptop', 'brand': 'Lenovo', 'price': 50000, 'in_stock': True, 'processor': 'i3', 'drive': 'hdd'}\n"
     ]
    }
   ],
   "source": [
    "#Update\n",
    "product = {\n",
    "    \"product_id\": \"P001\",\n",
    "    \"name\": \"Laptop\",\n",
    "    \"brand\": \"Lenovo\",\n",
    "    \"price\": 50000,\n",
    "    \"in_stock\": True\n",
    "}\n",
    "new_data={'processor':'i3', 'drive':'hdd'}\n",
    "product.update(new_data)\n",
    "print(product)"
   ]
  },
  {
   "cell_type": "code",
   "execution_count": 45,
   "id": "292fde6f-91de-42ec-8add-2161eff8a6b7",
   "metadata": {},
   "outputs": [
    {
     "name": "stdout",
     "output_type": "stream",
     "text": [
      "{'product_id': 'P001', 'name': 'Laptop', 'brand': 'Lenovo', 'price': 50000, 'in_stock': True, 'processor': 'i3', 'drive': 'hdd'}\n"
     ]
    }
   ],
   "source": [
    "#Copy\n",
    "my_product = product.copy()\n",
    "print(my_product)"
   ]
  },
  {
   "cell_type": "code",
   "execution_count": 46,
   "id": "3fa66d22-8aae-44b8-bff0-0409e3c82ee9",
   "metadata": {},
   "outputs": [
    {
     "name": "stdout",
     "output_type": "stream",
     "text": [
      "{'child1': {'name': 'Harry', 'year': 2004}, 'child2': {'name': 'Williams', 'year': 2007}, 'child3': {'name': 'John', 'year': 2011}}\n"
     ]
    }
   ],
   "source": [
    "#Nested dictionaries\n",
    "myfamily = {\n",
    "  \"child1\" : {\n",
    "    \"name\" : \"Harry\",\n",
    "    \"year\" : 2004\n",
    "  },\n",
    "  \"child2\" : {\n",
    "    \"name\" : \"Williams\",\n",
    "    \"year\" : 2007\n",
    "  },\n",
    "  \"child3\" : {\n",
    "    \"name\" : \"John\",\n",
    "    \"year\" : 2011\n",
    "  }\n",
    "}\n",
    "print(myfamily)"
   ]
  },
  {
   "cell_type": "code",
   "execution_count": 54,
   "id": "1cadb816-958c-460d-927d-400d4ebb67aa",
   "metadata": {},
   "outputs": [
    {
     "name": "stdout",
     "output_type": "stream",
     "text": [
      "{'name': 'Harry', 'year': 2004}\n",
      "Williams\n",
      "{'name': 'John', 'year': 2011}\n"
     ]
    }
   ],
   "source": [
    "print(myfamily['child1'])\n",
    "print(myfamily['child2']['name'])\n",
    "name = myfamily.get('child3')\n",
    "print(name)"
   ]
  },
  {
   "cell_type": "code",
   "execution_count": 52,
   "id": "6c353600-252b-4ae2-8dd1-51a58b36d6d6",
   "metadata": {},
   "outputs": [
    {
     "name": "stdout",
     "output_type": "stream",
     "text": [
      "None\n"
     ]
    }
   ],
   "source": [
    "print(student.clear())"
   ]
  },
  {
   "cell_type": "code",
   "execution_count": 57,
   "id": "ebdea4e3-6004-42c0-988f-76b3ae0b420f",
   "metadata": {},
   "outputs": [
    {
     "name": "stdout",
     "output_type": "stream",
     "text": [
      "{'product_id': None, 'name': None, 'brand': None, 'price': None, 'in_stock': None}\n",
      "{'product_id': None, 'name': 'Personal Computer', 'brand': None, 'price': None, 'in_stock': None}\n"
     ]
    }
   ],
   "source": [
    "# Fromkkeys\n",
    "product = {\n",
    "    \"product_id\": \"P001\",\n",
    "    \"name\": \"Laptop\",\n",
    "    \"brand\": \"Lenovo\",\n",
    "    \"price\": 50000,\n",
    "    \"in_stock\": True\n",
    "}\n",
    "# Create a list of keys\n",
    "keys = [\"product_id\", \"name\", \"brand\", \"price\", \"in_stock\"]\n",
    "# Use fromkeys to create a new dictionary with these keys and a default value of None\n",
    "new_product_dict = dict.fromkeys(keys, None)\n",
    "print(new_product_dict)\n",
    "new_product_dict['name']= \"Personal Computer\"\n",
    "print(new_product_dict)"
   ]
  }
 ],
 "metadata": {
  "kernelspec": {
   "display_name": "Python 3 (ipykernel)",
   "language": "python",
   "name": "python3"
  },
  "language_info": {
   "codemirror_mode": {
    "name": "ipython",
    "version": 3
   },
   "file_extension": ".py",
   "mimetype": "text/x-python",
   "name": "python",
   "nbconvert_exporter": "python",
   "pygments_lexer": "ipython3",
   "version": "3.12.4"
  }
 },
 "nbformat": 4,
 "nbformat_minor": 5
}
