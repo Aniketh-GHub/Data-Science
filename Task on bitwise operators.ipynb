{
 "cells": [
  {
   "cell_type": "code",
   "execution_count": 2,
   "id": "12b04b58-a5b7-4fc0-a1d6-93df5b85eb60",
   "metadata": {},
   "outputs": [
    {
     "name": "stdout",
     "output_type": "stream",
     "text": [
      "8\n"
     ]
    }
   ],
   "source": [
    "# performing bitwise AND, OR, XOR for 9 and 14\n",
    "print(9 & 14)"
   ]
  },
  {
   "cell_type": "code",
   "execution_count": 3,
   "id": "e6e9600c-f4b5-453d-8290-f11abf697fec",
   "metadata": {},
   "outputs": [
    {
     "name": "stdout",
     "output_type": "stream",
     "text": [
      "15\n"
     ]
    }
   ],
   "source": [
    "print(9 | 14)"
   ]
  },
  {
   "cell_type": "code",
   "execution_count": 4,
   "id": "a827e76a-79f6-4eff-bcd5-8dd6c6267d5b",
   "metadata": {},
   "outputs": [
    {
     "name": "stdout",
     "output_type": "stream",
     "text": [
      "7\n"
     ]
    }
   ],
   "source": [
    "print(9 ^ 14)"
   ]
  },
  {
   "cell_type": "code",
   "execution_count": 5,
   "id": "ab1bfa16-5b16-43dd-b16c-e18bcdd9fedc",
   "metadata": {},
   "outputs": [
    {
     "name": "stdout",
     "output_type": "stream",
     "text": [
      "430\n"
     ]
    }
   ],
   "source": [
    "# performing bitwise AND, OR, XOR for 447 and 430\n",
    "print(447 & 430)"
   ]
  },
  {
   "cell_type": "code",
   "execution_count": 6,
   "id": "d90a5770-8283-4acc-b0fd-76506167942a",
   "metadata": {},
   "outputs": [
    {
     "name": "stdout",
     "output_type": "stream",
     "text": [
      "447\n"
     ]
    }
   ],
   "source": [
    "print(447 | 430)"
   ]
  },
  {
   "cell_type": "code",
   "execution_count": 7,
   "id": "37527a85-b690-4168-8da6-08f2225fe7dc",
   "metadata": {},
   "outputs": [
    {
     "name": "stdout",
     "output_type": "stream",
     "text": [
      "17\n"
     ]
    }
   ],
   "source": [
    "print(447 ^ 430)"
   ]
  },
  {
   "cell_type": "code",
   "execution_count": null,
   "id": "7e9ba275-5805-4124-af35-82095abe4696",
   "metadata": {},
   "outputs": [],
   "source": [
    "# performing bitwise AND, OR, XOR for 333 and 3"
   ]
  },
  {
   "cell_type": "code",
   "execution_count": 8,
   "id": "0991ed31-0a42-4361-9611-b82cf5f87c91",
   "metadata": {},
   "outputs": [
    {
     "name": "stdout",
     "output_type": "stream",
     "text": [
      "1\n"
     ]
    }
   ],
   "source": [
    "print(333 & 3)"
   ]
  },
  {
   "cell_type": "code",
   "execution_count": 9,
   "id": "5fd9672b-6a32-4e84-a8b9-4d3d8faea2c3",
   "metadata": {},
   "outputs": [
    {
     "name": "stdout",
     "output_type": "stream",
     "text": [
      "335\n"
     ]
    }
   ],
   "source": [
    "print(333 | 3)"
   ]
  },
  {
   "cell_type": "code",
   "execution_count": 10,
   "id": "2095d8b1-9865-4342-9e93-3a4f23499118",
   "metadata": {},
   "outputs": [
    {
     "name": "stdout",
     "output_type": "stream",
     "text": [
      "334\n"
     ]
    }
   ],
   "source": [
    "print(333 ^ 3)"
   ]
  },
  {
   "cell_type": "code",
   "execution_count": 11,
   "id": "d09adf89-31a1-4a98-8512-4ee63a07d4b6",
   "metadata": {},
   "outputs": [
    {
     "name": "stdout",
     "output_type": "stream",
     "text": [
      "449\n"
     ]
    }
   ],
   "source": [
    "# performing bitwise AND, OR, XOR for 971 and 1493\n",
    "print(971 & 1493)"
   ]
  },
  {
   "cell_type": "code",
   "execution_count": 12,
   "id": "989e77aa-37ad-4633-a6ad-ada3d69619fb",
   "metadata": {},
   "outputs": [
    {
     "name": "stdout",
     "output_type": "stream",
     "text": [
      "2015\n"
     ]
    }
   ],
   "source": [
    "print(971 | 1493)"
   ]
  },
  {
   "cell_type": "code",
   "execution_count": 13,
   "id": "36db12ef-316e-4686-80a6-8c4d042b4256",
   "metadata": {},
   "outputs": [
    {
     "name": "stdout",
     "output_type": "stream",
     "text": [
      "1566\n"
     ]
    }
   ],
   "source": [
    "print(971 ^ 1493)"
   ]
  },
  {
   "cell_type": "code",
   "execution_count": 14,
   "id": "7ac2aa34-1693-4948-a234-360b28bce681",
   "metadata": {},
   "outputs": [
    {
     "name": "stdout",
     "output_type": "stream",
     "text": [
      "-4\n"
     ]
    }
   ],
   "source": [
    "# Bitwise NOT\n",
    "print(~3)"
   ]
  },
  {
   "cell_type": "code",
   "execution_count": 15,
   "id": "8901a6d6-b850-4ef3-bd81-bd8c36c54eb5",
   "metadata": {},
   "outputs": [
    {
     "name": "stdout",
     "output_type": "stream",
     "text": [
      "-11\n"
     ]
    }
   ],
   "source": [
    "print(~10)"
   ]
  },
  {
   "cell_type": "code",
   "execution_count": 16,
   "id": "b9e7a8e3-cf1c-4601-a2a9-14d29ad0c461",
   "metadata": {},
   "outputs": [
    {
     "name": "stdout",
     "output_type": "stream",
     "text": [
      "-26\n"
     ]
    }
   ],
   "source": [
    "print(~25)"
   ]
  },
  {
   "cell_type": "code",
   "execution_count": 17,
   "id": "e853e25e-0605-4d45-9e56-61a4fd5a9680",
   "metadata": {},
   "outputs": [
    {
     "name": "stdout",
     "output_type": "stream",
     "text": [
      "38256\n"
     ]
    }
   ],
   "source": [
    "#Left shift\n",
    "print(2391 << 4)"
   ]
  },
  {
   "cell_type": "code",
   "execution_count": 18,
   "id": "454a6e3d-6fd5-430b-8c82-d09fdf451684",
   "metadata": {},
   "outputs": [
    {
     "name": "stdout",
     "output_type": "stream",
     "text": [
      "28764\n"
     ]
    }
   ],
   "source": [
    "print(7191 << 2)"
   ]
  },
  {
   "cell_type": "code",
   "execution_count": 19,
   "id": "66d8be9c-b6c7-41d8-be96-9670413547ed",
   "metadata": {},
   "outputs": [
    {
     "name": "stdout",
     "output_type": "stream",
     "text": [
      "2560\n"
     ]
    }
   ],
   "source": [
    "#Right Shift\n",
    "print(5121 >> 1)"
   ]
  },
  {
   "cell_type": "code",
   "execution_count": 20,
   "id": "49b6fd6c-6986-4947-b6f4-16e7b3e96f95",
   "metadata": {},
   "outputs": [
    {
     "name": "stdout",
     "output_type": "stream",
     "text": [
      "378\n"
     ]
    }
   ],
   "source": [
    "print(3029 >> 3)"
   ]
  },
  {
   "cell_type": "code",
   "execution_count": 21,
   "id": "60334173-de9e-4b9f-9db8-a07e611d53b0",
   "metadata": {},
   "outputs": [
    {
     "data": {
      "text/plain": [
       "-21"
      ]
     },
     "execution_count": 21,
     "metadata": {},
     "output_type": "execute_result"
    }
   ],
   "source": [
    "#Precedence \n",
    "2 + 9 - 4 *(3+1) * 2"
   ]
  },
  {
   "cell_type": "code",
   "execution_count": 22,
   "id": "2ee41628-6bee-4970-ad34-2522aa0d038a",
   "metadata": {},
   "outputs": [
    {
     "data": {
      "text/plain": [
       "-101396"
      ]
     },
     "execution_count": 22,
     "metadata": {},
     "output_type": "execute_result"
    }
   ],
   "source": [
    "2991 + 31 - 11602 * 9"
   ]
  },
  {
   "cell_type": "code",
   "execution_count": null,
   "id": "1c4d5e91-9eb8-4eb0-93c5-d67ed188d09d",
   "metadata": {},
   "outputs": [],
   "source": []
  }
 ],
 "metadata": {
  "kernelspec": {
   "display_name": "Python 3 (ipykernel)",
   "language": "python",
   "name": "python3"
  },
  "language_info": {
   "codemirror_mode": {
    "name": "ipython",
    "version": 3
   },
   "file_extension": ".py",
   "mimetype": "text/x-python",
   "name": "python",
   "nbconvert_exporter": "python",
   "pygments_lexer": "ipython3",
   "version": "3.12.4"
  }
 },
 "nbformat": 4,
 "nbformat_minor": 5
}
