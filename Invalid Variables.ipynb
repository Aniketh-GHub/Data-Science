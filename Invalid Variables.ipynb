{
 "cells": [
  {
   "cell_type": "code",
   "execution_count": 1,
   "id": "a21455e8-0aac-4a88-8037-9b1c7b143ca3",
   "metadata": {},
   "outputs": [
    {
     "ename": "SyntaxError",
     "evalue": "invalid decimal literal (1385972184.py, line 1)",
     "output_type": "error",
     "traceback": [
      "\u001b[1;36m  Cell \u001b[1;32mIn[1], line 1\u001b[1;36m\u001b[0m\n\u001b[1;33m    1num = 20 # 1\u001b[0m\n\u001b[1;37m    ^\u001b[0m\n\u001b[1;31mSyntaxError\u001b[0m\u001b[1;31m:\u001b[0m invalid decimal literal\n"
     ]
    }
   ],
   "source": [
    "# RUN ALL THE CELLS\n",
    "1num = 20 # 1\n",
    "num-1 = 30.9999 # 2\n",
    "class = 321 # 3\n",
    "fact 5 = 120 # 4\n",
    "20abc = 1 + 2j # 5\n",
    "for = 7 #6\n",
    "number-OF-Vowels = 5 # 7\n",
    "3number = 21 #8\n",
    "global = 15  # 9\n",
    "lambda = 42  # 10\n",
    "def = 100   # 11\n",
    "try = 56   # 12\n",
    "if = 90   # 13\n",
    "else = 75  # 14\n",
    "with = 33  # 15\n",
    "yield = 18 # 16\n",
    "234 = 220 #17\n",
    "&name = Aniketh #18\n",
    "%_follow = 20 #19\n",
    "(var1= 30 #20\n",
    "print(1num)\n",
    "print(num-1)\n",
    "print(class)\n",
    "print(fact 5)\n",
    "print(20abc)\n",
    "print(for)\n",
    "print(number-OF-Vowels)\n",
    "print(3number)\n",
    "print(global)\n",
    "print(lambda)\n",
    "print(def)\n",
    "print(try)\n",
    "print(if)\n",
    "print(else)\n",
    "print(with)\n",
    "print(yield)\n",
    "print(234)\n",
    "print(&name)\n",
    "print(%_follow)\n",
    "print(var1)\n"
   ]
  }
 ],
 "metadata": {
  "kernelspec": {
   "display_name": "Python 3 (ipykernel)",
   "language": "python",
   "name": "python3"
  },
  "language_info": {
   "codemirror_mode": {
    "name": "ipython",
    "version": 3
   },
   "file_extension": ".py",
   "mimetype": "text/x-python",
   "name": "python",
   "nbconvert_exporter": "python",
   "pygments_lexer": "ipython3",
   "version": "3.12.4"
  }
 },
 "nbformat": 4,
 "nbformat_minor": 5
}
