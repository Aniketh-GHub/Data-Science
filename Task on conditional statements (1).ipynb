{
 "cells": [
  {
   "cell_type": "code",
   "execution_count": 130,
   "id": "ac0381be-c579-42d8-9078-7c94a146d483",
   "metadata": {},
   "outputs": [
    {
     "name": "stdout",
     "output_type": "stream",
     "text": [
      "Eligible to vote:[34, 78, 23, 100, 91, 104, 205, 45]\n",
      "Ineligible to vote:[5, 1]\n"
     ]
    }
   ],
   "source": [
    "# Activity - 1\n",
    "#Segregating eligible and ineligible candidates to vote based on their ages\n",
    "ages = [34, 5, 78, 23, 100, 91, 104, 205, 45, 1]\n",
    "# Initialize lists for eligible and ineligible ages\n",
    "eligible_ages = [] #empty list  to store eligible ages\n",
    "ineligible_ages = [] #empty list to store ineligible ages\n",
    "# Check each age and segregate based on eligibility\n",
    "if ages[0] >= 18:\n",
    "    eligible_ages.append(ages[0]) # append method adds index value of zero to the list at last\n",
    "else:\n",
    "    ineligible_ages.append(ages[0])\n",
    "if ages[1] >= 18:\n",
    "    eligible_ages.append(ages[1])\n",
    "else:\n",
    "    ineligible_ages.append(ages[1])\n",
    "if ages[2] >= 18:\n",
    "    eligible_ages.append(ages[2])\n",
    "else:\n",
    "    ineligible_ages.append(ages[2])\n",
    "if ages[3] >= 18:\n",
    "    eligible_ages.append(ages[3])\n",
    "else:\n",
    "    ineligible_ages.append(ages[3])\n",
    "if ages[4] >= 18:\n",
    "    eligible_ages.append(ages[4])\n",
    "else:\n",
    "    ineligible_ages.append(ages[4])\n",
    "if ages[5] >= 18:\n",
    "    eligible_ages.append(ages[5])\n",
    "else:\n",
    "    ineligible_ages.append(ages[5])\n",
    "if ages[6] >= 18:\n",
    "    eligible_ages.append(ages[6])\n",
    "else:\n",
    "    ineligible_ages.append(ages[6])\n",
    "if ages[7] >= 18:\n",
    "    eligible_ages.append(ages[7])\n",
    "else:\n",
    "    ineligible_ages.append(ages[7])\n",
    "if ages[8] >= 18:\n",
    "    eligible_ages.append(ages[8])\n",
    "else:\n",
    "    ineligible_ages.append(ages[8])\n",
    "if ages[9] >= 18:\n",
    "    eligible_ages.append(ages[9])\n",
    "else:\n",
    "    ineligible_ages.append(ages[9])\n",
    "#Printing \n",
    "print(f\"Eligible to vote:{eligible_ages}\")\n",
    "print(f\"Ineligible to vote:{ineligible_ages}\")"
   ]
  },
  {
   "cell_type": "code",
   "execution_count": 131,
   "id": "8cf1a609-8a14-4572-a4ac-66d245aa8002",
   "metadata": {},
   "outputs": [
    {
     "name": "stdin",
     "output_type": "stream",
     "text": [
      "Enter score: 100\n"
     ]
    },
    {
     "name": "stdout",
     "output_type": "stream",
     "text": [
      "Your grade:A\n"
     ]
    }
   ],
   "source": [
    "# Activity - 2\n",
    "# Assigning grades to the student based on their marks\n",
    "score = int(input(\"Enter score:\"))\n",
    "if score > 100:\n",
    "    grade = 'invalid value entered'\n",
    "elif score >=90:\n",
    "    grade = 'A'\n",
    "elif score >= 80:\n",
    "    grade = 'B'\n",
    "elif score >= 70:\n",
    "    grade = 'C'\n",
    "elif score >= 60:\n",
    "    grade = 'D'\n",
    "elif score >= 50:\n",
    "    grade = 'E'\n",
    "else:\n",
    "    grade = 'F'\n",
    "print(f\"Your grade:{grade}\")"
   ]
  },
  {
   "cell_type": "code",
   "execution_count": 150,
   "id": "701d417d-40f5-4833-aeee-22355300852e",
   "metadata": {},
   "outputs": [
    {
     "name": "stdout",
     "output_type": "stream",
     "text": [
      "Welcome to Pranay Restaurant\n",
      "Please select your menu type:\n",
      "Press '1' for vegetarian\n",
      "Press '2' for non-vegetarian\n"
     ]
    },
    {
     "name": "stdin",
     "output_type": "stream",
     "text": [
      "Enter your order Paneer Biryani\n"
     ]
    },
    {
     "name": "stdout",
     "output_type": "stream",
     "text": [
      "Your order will be ready Paneer Biryani\n"
     ]
    }
   ],
   "source": [
    "# Activity - 3\n",
    "# Restaurant data\n",
    "print(\"Welcome to Pranay Restaurant\")\n",
    "print(\"Please select your menu type:\")\n",
    "print(\"Press '1' for vegetarian\")\n",
    "print(\"Press '2' for non-vegetarian\")\n",
    "food = input(\"Enter your order\")\n",
    "veg = [\"paneer biryani\", \"north indian thali\", \"south indian thali\", \"veg fried rice\", \"mixed veg biryani\"]\n",
    "non_veg = [\"butter chicken\", \"chicken biryani\", \"mutton biryani\", \"chicken 65\", \"tandoori fish\"]\n",
    "if food in veg:\n",
    "    print(\"Your order will be ready\",food)\n",
    "elif food in non_veg:\n",
    "    print(\"Your order will be ready\",food)\n",
    "else :\n",
    "    print (\"Your order is currently unavailable\",food)"
   ]
  },
  {
   "cell_type": "code",
   "execution_count": 159,
   "id": "7e900821-e69c-4d99-a10b-872b46cde361",
   "metadata": {},
   "outputs": [
    {
     "name": "stdin",
     "output_type": "stream",
     "text": [
      "Please enter a letter from the English alphabets to check weather it is a vowel or a consonant: z\n"
     ]
    },
    {
     "name": "stdout",
     "output_type": "stream",
     "text": [
      "Entered character 'z' is a consonant\n"
     ]
    }
   ],
   "source": [
    "#Activity - 4\n",
    "# Identifying vowels and consonants\n",
    "vowels = ['a','e','i','o','u','A','E','I','O','U']\n",
    "character = input(\"Please enter a letter from the English alphabets to check weather it is a vowel or a consonant:\")\n",
    "if character in vowels:\n",
    "    print(f\"Entered character '{character}' is a vowel\")\n",
    "else :\n",
    "    print(f\"Entered character '{character}' is a consonant\")"
   ]
  },
  {
   "cell_type": "code",
   "execution_count": null,
   "id": "8d9f1d34-74df-4f85-9ec5-2ff5faa35481",
   "metadata": {},
   "outputs": [],
   "source": []
  }
 ],
 "metadata": {
  "kernelspec": {
   "display_name": "Python 3 (ipykernel)",
   "language": "python",
   "name": "python3"
  },
  "language_info": {
   "codemirror_mode": {
    "name": "ipython",
    "version": 3
   },
   "file_extension": ".py",
   "mimetype": "text/x-python",
   "name": "python",
   "nbconvert_exporter": "python",
   "pygments_lexer": "ipython3",
   "version": "3.12.4"
  }
 },
 "nbformat": 4,
 "nbformat_minor": 5
}
