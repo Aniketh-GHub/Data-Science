{
 "cells": [
  {
   "cell_type": "code",
   "execution_count": 1,
   "id": "eae2c886-9dea-4f6e-95f9-a67b2972978b",
   "metadata": {},
   "outputs": [
    {
     "name": "stdout",
     "output_type": "stream",
     "text": [
      "Pyhon\n",
      "Python\n",
      "Python\n",
      "Python\n"
     ]
    }
   ],
   "source": [
    "#String is a sequence of characters\n",
    "str_1 = \"Pyhon\"\n",
    "str_2 = 'Python'\n",
    "multiline_str1 = \"\"\"Python\"\"\"\n",
    "multiline_str2 = '''Python'''\n",
    "print(str_1)\n",
    "print(str_2)\n",
    "print(multiline_str1)\n",
    "print(multiline_str2)"
   ]
  },
  {
   "cell_type": "code",
   "execution_count": 2,
   "id": "db15bf8b-9c75-45e1-8a9f-45ef012a2c55",
   "metadata": {},
   "outputs": [
    {
     "name": "stdout",
     "output_type": "stream",
     "text": [
      "Hello\n",
      "World\n",
      "Python3\n",
      "Technology\n",
      "Android 11.01\n",
      "WINDOWS 12\n",
      "Google\n",
      "Microsoft\n",
      "Genpact\n",
      "chars!@#$%^&*()\n"
     ]
    }
   ],
   "source": [
    "#String operations\n",
    "str1 = \"Hello\"\n",
    "str2 = \"World\"\n",
    "str3 = \"Python3\"\n",
    "str4 = \"Technology\"\n",
    "str5 = \"Android 11.01\"\n",
    "str6 = \"WINDOWS 12\"\n",
    "str7 = \"Google\"\n",
    "str8 = \"Microsoft\"\n",
    "str9 = \"Genpact\"\n",
    "str10 = \"chars!@#$%^&*()\"\n",
    "print(str1)\n",
    "print(str2)\n",
    "print(str3)\n",
    "print(str4)\n",
    "print(str5)\n",
    "print(str6)\n",
    "print(str7)\n",
    "print(str8)\n",
    "print(str9)\n",
    "print(str10)"
   ]
  },
  {
   "cell_type": "code",
   "execution_count": 4,
   "id": "4338d702-9090-4ed6-b998-be7ca6c18390",
   "metadata": {},
   "outputs": [
    {
     "name": "stdout",
     "output_type": "stream",
     "text": [
      "Hello World\n",
      "Python3 Technology\n",
      "Android 11.01 WINDOWS 12\n",
      "Google Microsoft\n",
      "Genpact chars!@#$%^&*()\n"
     ]
    }
   ],
   "source": [
    "#Concatenation\n",
    "print(str1 +\" \"+ str2)\n",
    "print(str3 +\" \"+ str4)\n",
    "print(str5 +\" \"+ str6)\n",
    "print(str7 +\" \"+ str8)\n",
    "print(str9 +\" \"+ str10)\n"
   ]
  },
  {
   "cell_type": "code",
   "execution_count": 7,
   "id": "47ea3639-c6df-4a29-9e8a-b8904ad4b828",
   "metadata": {},
   "outputs": [
    {
     "name": "stdout",
     "output_type": "stream",
     "text": [
      "Microsoft Microsoft Microsoft Microsoft Microsoft Microsoft Microsoft Microsoft \n"
     ]
    }
   ],
   "source": [
    "#Repition\n",
    "print((str8 +\" \") * 8)\n"
   ]
  },
  {
   "cell_type": "code",
   "execution_count": 10,
   "id": "250d3cd9-aa74-4647-bba1-4e6d9a8e095f",
   "metadata": {},
   "outputs": [
    {
     "name": "stdout",
     "output_type": "stream",
     "text": [
      "r\n",
      "1\n"
     ]
    }
   ],
   "source": [
    "#Indexing\n",
    "print(str5[3])\n",
    "print(str5[-1])"
   ]
  },
  {
   "cell_type": "code",
   "execution_count": 12,
   "id": "f641b559-a333-43d5-9b7f-0b3e4b835a1e",
   "metadata": {},
   "outputs": [
    {
     "name": "stdout",
     "output_type": "stream",
     "text": [
      "hn\n"
     ]
    }
   ],
   "source": [
    "# Slicing\n",
    "substr = str4[3:5]\n",
    "print(substr)"
   ]
  },
  {
   "cell_type": "code",
   "execution_count": 16,
   "id": "89cc246b-3825-4b84-96d5-b21aca185c11",
   "metadata": {},
   "outputs": [
    {
     "name": "stdout",
     "output_type": "stream",
     "text": [
      " My name is Aniketh and I am 22 years old.\n"
     ]
    }
   ],
   "source": [
    "#FORMAT STRINGS\n",
    "#Python 1\n",
    "name = \"Aniketh\"\n",
    "age = 22\n",
    "format_string = \" My name is %s and I am %d years old.\" %(name,age)\n",
    "print(format_string)"
   ]
  },
  {
   "cell_type": "code",
   "execution_count": 17,
   "id": "38036719-735d-44a5-8447-a4c68423ec9a",
   "metadata": {},
   "outputs": [
    {
     "name": "stdout",
     "output_type": "stream",
     "text": [
      "My name is 22 and I am Aniketh years old\n"
     ]
    }
   ],
   "source": [
    "#Python 2\n",
    "name = \"Aniketh\"\n",
    "age = 22\n",
    "format_string = \"My name is {} and I am {} years old\".format(age,name)\n",
    "print(format_string)"
   ]
  },
  {
   "cell_type": "code",
   "execution_count": 21,
   "id": "bbd6439e-f23d-4153-88d2-2f89c63f316b",
   "metadata": {},
   "outputs": [
    {
     "name": "stdout",
     "output_type": "stream",
     "text": [
      "My name is Aniketh and I am 22 years old.\n"
     ]
    }
   ],
   "source": [
    "#Python 3\n",
    "name = \"Aniketh\"\n",
    "age = 22\n",
    "format_string = f\"My name is {name} and I am {age} years old.\"\n",
    "print(format_string)"
   ]
  },
  {
   "cell_type": "code",
   "execution_count": 22,
   "id": "79e60038-67f0-43bb-86b5-d8056fe0bee0",
   "metadata": {},
   "outputs": [
    {
     "name": "stdout",
     "output_type": "stream",
     "text": [
      "10\n"
     ]
    }
   ],
   "source": [
    "#String methods\n",
    "#len()\n",
    "str1 = \"Hello\"\n",
    "str2 = \"World\"\n",
    "str3 = \"Python3\"\n",
    "str4 = \"Technology\"\n",
    "str5 = \"Android 11.01\"\n",
    "str6 = \"WINDOWS 12\"\n",
    "str7 = \"Google\"\n",
    "str8 = \"Microsoft\"\n",
    "str9 = \"Genpact\"\n",
    "str10 = \"chars!@#$%^&*()\"\n",
    "length_str4 = len(str4)\n",
    "print(length_str4)"
   ]
  },
  {
   "cell_type": "code",
   "execution_count": 23,
   "id": "56812a4c-e25e-46f4-a54c-68cf7e0a2cb8",
   "metadata": {},
   "outputs": [
    {
     "name": "stdout",
     "output_type": "stream",
     "text": [
      "7\n"
     ]
    }
   ],
   "source": [
    "length_str3 = len(str3)\n",
    "print(length_str3)"
   ]
  },
  {
   "cell_type": "code",
   "execution_count": 24,
   "id": "6710b63f-38d1-49bc-b695-bf64101bcea0",
   "metadata": {},
   "outputs": [
    {
     "name": "stdout",
     "output_type": "stream",
     "text": [
      "15\n"
     ]
    }
   ],
   "source": [
    "length_str10 = len(str10)\n",
    "print(length_str10)"
   ]
  },
  {
   "cell_type": "code",
   "execution_count": 29,
   "id": "994ff981-065f-4301-b690-7c945c4ce9e1",
   "metadata": {},
   "outputs": [
    {
     "name": "stdout",
     "output_type": "stream",
     "text": [
      "hello\n",
      "CHARS!@#$%^&*()\n",
      "GENPACT\n",
      "windows 12\n"
     ]
    }
   ],
   "source": [
    "#lower/upper\n",
    "print(str1.lower())\n",
    "print(str10.upper())\n",
    "print(str9.upper())\n",
    "print(str6.lower())"
   ]
  },
  {
   "cell_type": "code",
   "execution_count": 31,
   "id": "6a7a8ad9-7cd4-40b4-8272-ebc6452416c2",
   "metadata": {},
   "outputs": [
    {
     "name": "stdout",
     "output_type": "stream",
     "text": [
      "   hello    \n",
      "         World       \n",
      "    Python 3    \n",
      "\tTechnology\n",
      "  Android 11.01\n",
      "hello\n",
      "World\n",
      "Python 3\n",
      "Technology\n",
      "Android 11.01\n"
     ]
    }
   ],
   "source": [
    "#Strip\n",
    "str1 = \"   hello    \"\n",
    "str2 = \"         World       \"\n",
    "str3 = \"    Python 3    \" # evaluates spaces only at the beginning and at the end of a string \n",
    "str4 = \"\\tTechnology\" #evaluates tab also\n",
    "str5 = \"  Android 11.01\" # evaluates spaces only at the beginning and at the end of a string \n",
    "print(str1)\n",
    "print(str2)\n",
    "print(str3)\n",
    "print(str4)\n",
    "print(str5)\n",
    "#strip()\n",
    "print(str1.strip())\n",
    "print(str2.strip())\n",
    "print(str3.strip())\n",
    "print(str4.strip())\n",
    "print(str5.strip())"
   ]
  },
  {
   "cell_type": "code",
   "execution_count": 33,
   "id": "ee73abae-4b19-4165-9b33-a76745dafc9d",
   "metadata": {},
   "outputs": [
    {
     "name": "stdout",
     "output_type": "stream",
     "text": [
      "HeLLo\n",
      "WOrld\n",
      "Python3.9\n",
      "Biology\n",
      "Android 12.0\n"
     ]
    }
   ],
   "source": [
    "#Replace\n",
    "str1 = \"Hello\"\n",
    "str2 = \"World\"\n",
    "str3 = \"Python3\"\n",
    "str4 = \"Technology\"\n",
    "str5 = \"Android 11.01\"\n",
    "# Replace \"l\" with \"L\" in str1\n",
    "str1_replaced = str1.replace(\"l\", \"L\")\n",
    "print(str1_replaced)  \n",
    "str2_replaced = str2.replace(\"o\", \"O\")\n",
    "print(str2_replaced) \n",
    "str3_replaced = str3.replace(\"3\", \"3.9\")\n",
    "print(str3_replaced)  \n",
    "str4_replaced = str4.replace(\"Techno\", \"Bio\")\n",
    "print(str4_replaced)  \n",
    "str5_replaced = str5.replace(\"11.01\", \"12.0\")\n",
    "print(str5_replaced)\n"
   ]
  },
  {
   "cell_type": "code",
   "execution_count": 36,
   "id": "3bce036c-637b-4c6c-9319-a8355588d8ca",
   "metadata": {},
   "outputs": [
    {
     "name": "stdout",
     "output_type": "stream",
     "text": [
      "['Words', 'of', 'Wisdom', 'spoken', 'by', 'a', 'kid', '!']\n"
     ]
    }
   ],
   "source": [
    "#Split\n",
    "string = \"Words of Wisdom spoken by a kid !\" #Splits the words of a sentence separated with spaces\n",
    "print(string.split())"
   ]
  },
  {
   "cell_type": "code",
   "execution_count": 44,
   "id": "b5be7fcf-0b39-4b8c-816c-83eecf6f75d5",
   "metadata": {},
   "outputs": [
    {
     "name": "stdout",
     "output_type": "stream",
     "text": [
      "Words of Wisdom spoken by a kid !\n"
     ]
    }
   ],
   "source": [
    "string = ['Words', 'of', 'Wisdom', 'spoken', 'by', 'a', 'kid', '!']\n",
    "print(' '.join(string))"
   ]
  },
  {
   "cell_type": "code",
   "execution_count": 47,
   "id": "061fbf2d-6b3d-4565-8cbf-6e2bf2f1c8d5",
   "metadata": {},
   "outputs": [
    {
     "name": "stdout",
     "output_type": "stream",
     "text": [
      "str1: Hello\n",
      "  str1.capitalize(): Hello\n",
      "\n",
      "str2: World\n",
      "  str2.isalpha(): True\n",
      "  str2.isascii(): True\n",
      "\n",
      "str3: Python3\n",
      "  str3.capitalize(): Python3\n",
      "  str3.casefold(): python3\n",
      "\n",
      "str4: Technology\n",
      "  str4.capitalize(): Technology\n",
      "  str4.casefold(): technology\n",
      "  str4.isalnum(): True\n",
      "  str4.isalpha(): True\n",
      "  str4.isascii(): True\n",
      "\n"
     ]
    }
   ],
   "source": [
    "str1 = \"Hello\"\n",
    "str2 = \"World\"\n",
    "str3 = \"Python3\"\n",
    "str4 = \"Technology\"\n",
    "str5 = \"Android 11.01\"\n",
    "str6 = \"WINDOWS 12\"\n",
    "str7 = \"Google\"\n",
    "str8 = \"Microsoft\"\n",
    "str9 = \"Genpact\"\n",
    "str10 = \"chars!@#$%^&*()\"\n",
    "# Operations on str1\n",
    "print(f\"str1: {str1}\")\n",
    "print(f\"  str1.capitalize(): {str1.capitalize()}\")\n",
    "print()\n",
    "# Operations on str2\n",
    "print(f\"str2: {str2}\")\n",
    "print(f\"  str2.isalpha(): {str2.isalpha()}\")\n",
    "print(f\"  str2.isascii(): {str2.isascii()}\")\n",
    "print()\n",
    "# Operations on str3\n",
    "print(f\"str3: {str3}\")\n",
    "print(f\"  str3.capitalize(): {str3.capitalize()}\")\n",
    "print(f\"  str3.casefold(): {str3.casefold()}\")\n",
    "print()\n",
    "# Operations on str4\n",
    "print(f\"str4: {str4}\")\n",
    "print(f\"  str4.capitalize(): {str4.capitalize()}\")\n",
    "print(f\"  str4.casefold(): {str4.casefold()}\")\n",
    "print(f\"  str4.isalnum(): {str4.isalnum()}\")\n",
    "print(f\"  str4.isalpha(): {str4.isalpha()}\")\n",
    "print(f\"  str4.isascii(): {str4.isascii()}\")\n",
    "\n",
    "\n"
   ]
  },
  {
   "cell_type": "code",
   "execution_count": null,
   "id": "dd76c3d2-3048-423e-a6c7-15d08de7ea86",
   "metadata": {},
   "outputs": [],
   "source": []
  }
 ],
 "metadata": {
  "kernelspec": {
   "display_name": "Python 3 (ipykernel)",
   "language": "python",
   "name": "python3"
  },
  "language_info": {
   "codemirror_mode": {
    "name": "ipython",
    "version": 3
   },
   "file_extension": ".py",
   "mimetype": "text/x-python",
   "name": "python",
   "nbconvert_exporter": "python",
   "pygments_lexer": "ipython3",
   "version": "3.12.4"
  }
 },
 "nbformat": 4,
 "nbformat_minor": 5
}
