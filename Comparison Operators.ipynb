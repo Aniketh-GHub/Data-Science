{
 "cells": [
  {
   "cell_type": "code",
   "execution_count": 1,
   "id": "c5f565fb-9b85-4f7b-b3ca-492549d8f9d5",
   "metadata": {},
   "outputs": [
    {
     "name": "stdout",
     "output_type": "stream",
     "text": [
      "False\n",
      "True\n",
      "False\n",
      "True\n",
      "True\n",
      "False\n"
     ]
    }
   ],
   "source": [
    "# Define 10 numbers\n",
    "a = 15\n",
    "b = 8\n",
    "c = 3\n",
    "d = 12\n",
    "e = 5\n",
    "f = 7\n",
    "g = 10\n",
    "h = 20\n",
    "i = 9\n",
    "j = 4\n",
    "# Equal to\n",
    "print(a == b)\n",
    "# Not equal to\n",
    "print(c != d)\n",
    "# Greater than\n",
    "print(e > f)\n",
    "# Less than\n",
    "print(g < h)\n",
    "# Greater than or equal to\n",
    "print(i >= j)\n",
    "# Less than or equal to\n",
    "print(a <= b)\n"
   ]
  }
 ],
 "metadata": {
  "kernelspec": {
   "display_name": "Python 3 (ipykernel)",
   "language": "python",
   "name": "python3"
  },
  "language_info": {
   "codemirror_mode": {
    "name": "ipython",
    "version": 3
   },
   "file_extension": ".py",
   "mimetype": "text/x-python",
   "name": "python",
   "nbconvert_exporter": "python",
   "pygments_lexer": "ipython3",
   "version": "3.12.4"
  }
 },
 "nbformat": 4,
 "nbformat_minor": 5
}
