{
 "cells": [
  {
   "cell_type": "code",
   "execution_count": 1,
   "id": "57b6054c-e889-4962-85ab-34b3494b07f2",
   "metadata": {},
   "outputs": [
    {
     "name": "stdout",
     "output_type": "stream",
     "text": [
      "23\n",
      "15\n",
      "-2\n",
      "200\n",
      "2.25\n",
      "8\n",
      "3\n",
      "4\n"
     ]
    }
   ],
   "source": [
    "# Define 10 numbers\n",
    "a = 15\n",
    "b = 8\n",
    "c = 3\n",
    "d = 12\n",
    "e = 5\n",
    "f = 7\n",
    "g = 10\n",
    "h = 20\n",
    "i = 9\n",
    "j = 4\n",
    "# Perform assignment operations and print each result\n",
    "a+=b #a = a + b\n",
    "print(a)\n",
    "c += d\n",
    "print(c)\n",
    "e -= f #e=e-f\n",
    "print(e)\n",
    "g *= h\n",
    "print(g)\n",
    "i /= j\n",
    "print(i)\n",
    "k = 2\n",
    "k **= 3\n",
    "print(k)\n",
    "m = 10\n",
    "m //= 3\n",
    "print(m)\n",
    "# Modulus assignment\n",
    "p = 25\n",
    "p %= 7\n",
    "print(p)\n"
   ]
  },
  {
   "cell_type": "code",
   "execution_count": null,
   "id": "962170f3-7108-45eb-82f5-bfe9980622da",
   "metadata": {},
   "outputs": [],
   "source": []
  }
 ],
 "metadata": {
  "kernelspec": {
   "display_name": "Python 3 (ipykernel)",
   "language": "python",
   "name": "python3"
  },
  "language_info": {
   "codemirror_mode": {
    "name": "ipython",
    "version": 3
   },
   "file_extension": ".py",
   "mimetype": "text/x-python",
   "name": "python",
   "nbconvert_exporter": "python",
   "pygments_lexer": "ipython3",
   "version": "3.12.4"
  }
 },
 "nbformat": 4,
 "nbformat_minor": 5
}
