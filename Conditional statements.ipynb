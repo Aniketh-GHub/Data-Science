{
 "cells": [
  {
   "cell_type": "code",
   "execution_count": 8,
   "id": "a05de87c-ef15-450e-b02f-ce98bd752f6f",
   "metadata": {},
   "outputs": [
    {
     "name": "stdout",
     "output_type": "stream",
     "text": [
      "a = 10\n"
     ]
    }
   ],
   "source": [
    "#If\n",
    "a = 10\n",
    "if a == 10:\n",
    " print(\"a = 10\")"
   ]
  },
  {
   "cell_type": "code",
   "execution_count": 9,
   "id": "bc84bb88-b1eb-4ad3-a63e-e6b60233a71a",
   "metadata": {},
   "outputs": [
    {
     "name": "stdout",
     "output_type": "stream",
     "text": [
      "sum of 10 and 30 is 40\n"
     ]
    }
   ],
   "source": [
    "b = 30\n",
    "sum = a + b\n",
    "if sum == 40:\n",
    " print(f\"sum of {a} and {b} is {sum}\")"
   ]
  },
  {
   "cell_type": "code",
   "execution_count": 4,
   "id": "28a343ea-6a2b-445e-9dd1-f1d2679920b7",
   "metadata": {},
   "outputs": [
    {
     "name": "stdout",
     "output_type": "stream",
     "text": [
      "Eligible to vote\n"
     ]
    }
   ],
   "source": [
    "#If else\n",
    "age = 18\n",
    "if age >= 18:\n",
    "    print(\"Eligible to vote\")\n",
    "else :\n",
    "    print(\"Ineligible to vote\")\n",
    "    "
   ]
  },
  {
   "cell_type": "code",
   "execution_count": 11,
   "id": "16ee8839-fa13-4c76-92dc-bde9fa7bf17e",
   "metadata": {},
   "outputs": [
    {
     "name": "stdout",
     "output_type": "stream",
     "text": [
      "Sum of 0 and 30 is 30\n"
     ]
    }
   ],
   "source": [
    "a = 0\n",
    "b = 30\n",
    "sum = a + b\n",
    "if sum == 40:\n",
    " print(f\"sum of {a} and {b} is {sum}\")\n",
    "else :\n",
    "    print(f\"Sum of {a} and {b} is {sum}\")"
   ]
  },
  {
   "cell_type": "code",
   "execution_count": 5,
   "id": "145b1845-0ff2-402a-a596-0634ba7c6c0c",
   "metadata": {},
   "outputs": [
    {
     "name": "stdout",
     "output_type": "stream",
     "text": [
      "30 is the greatest number among 10,30 and 20\n"
     ]
    }
   ],
   "source": [
    "#Elif\n",
    "a,b,c = 10,30,20\n",
    "if a > b and a > c:\n",
    "    print(f\"{a} is the greatest number among {a},{b} and {c}\")\n",
    "elif b > c and b > a:\n",
    "    print(f\"{b} is the greatest number among {a},{b} and {c}\")\n",
    "else:\n",
    "    print(f\"{c} is the greatest number among {a},{b} and {c}\")"
   ]
  },
  {
   "cell_type": "code",
   "execution_count": 21,
   "id": "543bc462-39e2-472c-be69-3477343b47e0",
   "metadata": {},
   "outputs": [
    {
     "name": "stdin",
     "output_type": "stream",
     "text": [
      "Enter your age : 10\n"
     ]
    },
    {
     "name": "stdout",
     "output_type": "stream",
     "text": [
      "Go to school !!\n"
     ]
    }
   ],
   "source": [
    "age = int(input(\"Enter your age :\" ))\n",
    "if age >=25:\n",
    " print(\" Go to work !!\")\n",
    "elif age >= 16 and age <=23:\n",
    " print(\"Go to college!!\")\n",
    "elif age >= 4 and age <= 15:\n",
    "    print(\"Go to school !!\")\n",
    "elif age >= 60:\n",
    " print(\"Retire !!\")\n",
    "else :\n",
    "    print(\"Invalid\")"
   ]
  },
  {
   "cell_type": "code",
   "execution_count": null,
   "id": "e72abfe4-0c4b-4cf5-841b-0c39444bd843",
   "metadata": {},
   "outputs": [],
   "source": []
  }
 ],
 "metadata": {
  "kernelspec": {
   "display_name": "Python 3 (ipykernel)",
   "language": "python",
   "name": "python3"
  },
  "language_info": {
   "codemirror_mode": {
    "name": "ipython",
    "version": 3
   },
   "file_extension": ".py",
   "mimetype": "text/x-python",
   "name": "python",
   "nbconvert_exporter": "python",
   "pygments_lexer": "ipython3",
   "version": "3.12.4"
  }
 },
 "nbformat": 4,
 "nbformat_minor": 5
}
