{
 "cells": [
  {
   "cell_type": "code",
   "execution_count": 1,
   "id": "22cd7e5f-a034-480f-9d03-b2c82707937d",
   "metadata": {},
   "outputs": [
    {
     "name": "stdout",
     "output_type": "stream",
     "text": [
      "True\n",
      "False\n",
      "False\n",
      "True\n",
      "True\n",
      "False\n",
      "True\n",
      "False\n"
     ]
    }
   ],
   "source": [
    "list1 = [1, 2, 3, 4, 5]\n",
    "list2 = ['apple', 'banana', 'cherry']\n",
    "list3 = [10.5, 20.5, 30.5]\n",
    "int1 = 3\n",
    "int2 = 6\n",
    "float1 = 20.5\n",
    "float2 = 25.5\n",
    "print(int1 in list1) \n",
    "print(int2 in list1)  \n",
    "print(float1 not in list3) \n",
    "print(float2 not in list3)  \n",
    "list_of_ints = [1, 2, 3, 4, 5]\n",
    "print(int1 in list_of_ints)  \n",
    "print(int2 in list_of_ints)  \n",
    "list_of_floats = [10.5, 20.5, 30.5]\n",
    "print(float1 in list_of_floats)  \n",
    "print(float2 in list_of_floats)  \n",
    "\n"
   ]
  },
  {
   "cell_type": "code",
   "execution_count": null,
   "id": "d8a6ee3c-05e2-4055-ad08-089c8a935804",
   "metadata": {},
   "outputs": [],
   "source": []
  }
 ],
 "metadata": {
  "kernelspec": {
   "display_name": "Python 3 (ipykernel)",
   "language": "python",
   "name": "python3"
  },
  "language_info": {
   "codemirror_mode": {
    "name": "ipython",
    "version": 3
   },
   "file_extension": ".py",
   "mimetype": "text/x-python",
   "name": "python",
   "nbconvert_exporter": "python",
   "pygments_lexer": "ipython3",
   "version": "3.12.4"
  }
 },
 "nbformat": 4,
 "nbformat_minor": 5
}
