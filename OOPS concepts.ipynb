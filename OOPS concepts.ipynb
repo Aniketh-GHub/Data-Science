{
 "cells": [
  {
   "cell_type": "code",
   "execution_count": 10,
   "id": "d15487db-5e53-4506-b011-a5d8d6acab68",
   "metadata": {},
   "outputs": [
    {
     "name": "stdout",
     "output_type": "stream",
     "text": [
      "I can eat!\n",
      "I can bark! Woof woof!!\n",
      "I can eat!\n",
      "I can Mayoo! Mayoo!\n"
     ]
    }
   ],
   "source": [
    "#Inheritance\n",
    "# base class\n",
    "class Animal:   \n",
    "    def eat(self):\n",
    "        print( \"I can eat!\") \n",
    "        \n",
    "        def sleep(self):\n",
    "            print(\"I can sleep!\")\n",
    "    # derived class\n",
    "class Dog(Animal): \n",
    "    def bark(self):\n",
    "        print(\"I can bark! Woof woof!!\") \n",
    "\n",
    "class Cat(Animal):\n",
    "    def Mayoo(self):\n",
    "        print(\"I can Mayoo! Mayoo!\")\n",
    "     # Create object of the Dog class\n",
    "dog1 = Dog()\n",
    "# Calling members of the base class\n",
    "dog1.eat()\n",
    "# Calling member of the derived class\n",
    "dog1.bark();\n",
    "obj2 = Cat()\n",
    "obj2.eat()\n",
    "obj2.Mayoo()"
   ]
  },
  {
   "cell_type": "code",
   "execution_count": 12,
   "id": "c0a88d6d-712f-493a-93b8-e742c3b502d3",
   "metadata": {
    "scrolled": true
   },
   "outputs": [
    {
     "name": "stdout",
     "output_type": "stream",
     "text": [
      "8\n",
      "ab\n",
      "8.3\n"
     ]
    }
   ],
   "source": [
    "#Polymorphism\n",
    "class sum1():\n",
    "    def add(self,a,b):\n",
    "        print(a+b)\n",
    "obj = sum1()\n",
    "obj.add(3,5)\n",
    "obj.add('a','b')\n",
    "obj.add(3.5,4.8)"
   ]
  },
  {
   "cell_type": "code",
   "execution_count": 13,
   "id": "cd823038-bec5-4ed8-ae2a-6c8cec8db2e0",
   "metadata": {},
   "outputs": [],
   "source": [
    "#Abstraction\n",
    "class car:\n",
    "    def start_engine(self):\n",
    "        pass #abstracted\n",
    "    def drive(self):\n",
    "        pass \n",
    "    def stop_engine(self):\n",
    "        pass"
   ]
  },
  {
   "cell_type": "code",
   "execution_count": null,
   "id": "b536dadc-d219-41b9-9f1b-5acbe6b47276",
   "metadata": {},
   "outputs": [],
   "source": []
  }
 ],
 "metadata": {
  "kernelspec": {
   "display_name": "Python 3 (ipykernel)",
   "language": "python",
   "name": "python3"
  },
  "language_info": {
   "codemirror_mode": {
    "name": "ipython",
    "version": 3
   },
   "file_extension": ".py",
   "mimetype": "text/x-python",
   "name": "python",
   "nbconvert_exporter": "python",
   "pygments_lexer": "ipython3",
   "version": "3.12.4"
  }
 },
 "nbformat": 4,
 "nbformat_minor": 5
}
