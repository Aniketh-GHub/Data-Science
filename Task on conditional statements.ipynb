{
 "cells": [
  {
   "cell_type": "code",
   "execution_count": 130,
   "id": "ac0381be-c579-42d8-9078-7c94a146d483",
   "metadata": {},
   "outputs": [
    {
     "name": "stdout",
     "output_type": "stream",
     "text": [
      "Eligible to vote:[34, 78, 23, 100, 91, 104, 205, 45]\n",
      "Ineligible to vote:[5, 1]\n"
     ]
    }
   ],
   "source": [
    "# Activity - 1\n",
    "#Segregating eligible and ineligible candidates to vote based on their ages\n",
    "ages = [34, 5, 78, 23, 100, 91, 104, 205, 45, 1]\n",
    "# Initialize lists for eligible and ineligible ages\n",
    "eligible_ages = [] #empty list  to store eligible ages\n",
    "ineligible_ages = [] #empty list to store ineligible ages\n",
    "# Check each age and segregate based on eligibility\n",
    "if ages[0] >= 18:\n",
    "    eligible_ages.append(ages[0]) # append method adds index value of zero to the list at last\n",
    "else:\n",
    "    ineligible_ages.append(ages[0])\n",
    "if ages[1] >= 18:\n",
    "    eligible_ages.append(ages[1])\n",
    "else:\n",
    "    ineligible_ages.append(ages[1])\n",
    "if ages[2] >= 18:\n",
    "    eligible_ages.append(ages[2])\n",
    "else:\n",
    "    ineligible_ages.append(ages[2])\n",
    "if ages[3] >= 18:\n",
    "    eligible_ages.append(ages[3])\n",
    "else:\n",
    "    ineligible_ages.append(ages[3])\n",
    "if ages[4] >= 18:\n",
    "    eligible_ages.append(ages[4])\n",
    "else:\n",
    "    ineligible_ages.append(ages[4])\n",
    "if ages[5] >= 18:\n",
    "    eligible_ages.append(ages[5])\n",
    "else:\n",
    "    ineligible_ages.append(ages[5])\n",
    "if ages[6] >= 18:\n",
    "    eligible_ages.append(ages[6])\n",
    "else:\n",
    "    ineligible_ages.append(ages[6])\n",
    "if ages[7] >= 18:\n",
    "    eligible_ages.append(ages[7])\n",
    "else:\n",
    "    ineligible_ages.append(ages[7])\n",
    "if ages[8] >= 18:\n",
    "    eligible_ages.append(ages[8])\n",
    "else:\n",
    "    ineligible_ages.append(ages[8])\n",
    "if ages[9] >= 18:\n",
    "    eligible_ages.append(ages[9])\n",
    "else:\n",
    "    ineligible_ages.append(ages[9])\n",
    "#Printing \n",
    "print(f\"Eligible to vote:{eligible_ages}\")\n",
    "print(f\"Ineligible to vote:{ineligible_ages}\")"
   ]
  },
  {
   "cell_type": "code",
   "execution_count": 131,
   "id": "8cf1a609-8a14-4572-a4ac-66d245aa8002",
   "metadata": {},
   "outputs": [
    {
     "name": "stdin",
     "output_type": "stream",
     "text": [
      "Enter score: 100\n"
     ]
    },
    {
     "name": "stdout",
     "output_type": "stream",
     "text": [
      "Your grade:A\n"
     ]
    }
   ],
   "source": [
    "# Activity - 2\n",
    "# Assigning grades to the student based on their marks\n",
    "score = int(input(\"Enter score:\"))\n",
    "if score > 100:\n",
    "    grade = 'invalid value entered'\n",
    "elif score >=90:\n",
    "    grade = 'A'\n",
    "elif score >= 80:\n",
    "    grade = 'B'\n",
    "elif score >= 70:\n",
    "    grade = 'C'\n",
    "elif score >= 60:\n",
    "    grade = 'D'\n",
    "elif score >= 50:\n",
    "    grade = 'E'\n",
    "else:\n",
    "    grade = 'F'\n",
    "print(f\"Your grade:{grade}\")"
   ]
  },
  {
   "cell_type": "code",
   "execution_count": 137,
   "id": "701d417d-40f5-4833-aeee-22355300852e",
   "metadata": {},
   "outputs": [
    {
     "name": "stdout",
     "output_type": "stream",
     "text": [
      "Welcome to Pranay Restaurant\n",
      "Please select your menu type:\n",
      "Press '1' for vegetarian\n",
      "Press '2' for non-vegetarian\n"
     ]
    },
    {
     "name": "stdin",
     "output_type": "stream",
     "text": [
      " 1\n"
     ]
    },
    {
     "name": "stdout",
     "output_type": "stream",
     "text": [
      "Select from the following dishes: 1. Paneer Biryani, 2. North Indian Thali, 3. South Indian Thali, 4. Veg Fried Rice, 5. Mixed Veg Biryani\n"
     ]
    },
    {
     "name": "stdin",
     "output_type": "stream",
     "text": [
      "Please enter the number corresponding to your vegetarian dish:  2\n"
     ]
    },
    {
     "name": "stdout",
     "output_type": "stream",
     "text": [
      "Your order is getting prepared, please wait.\n"
     ]
    }
   ],
   "source": [
    "# Activity - 3\n",
    "# Restaurant data\n",
    "print(\"Welcome to Pranay Restaurant\")\n",
    "print(\"Please select your menu type:\")\n",
    "print(\"Press '1' for vegetarian\")\n",
    "print(\"Press '2' for non-vegetarian\")\n",
    "number = int(input())\n",
    "veg = [\"1. Paneer Biryani\", \"2. North Indian Thali\", \"3. South Indian Thali\", \"4. Veg Fried Rice\", \"5. Mixed Veg Biryani\"]\n",
    "non_veg = [\"1. Butter Chicken\", \"2. Chicken Biryani\", \"3. Mutton Biryani\", \"4. Chicken 65\", \"5. Tandoori Fish\"]\n",
    "# Unpacking for assignment\n",
    "v1,v2,v3,v4,v5 = veg\n",
    "vegunpack=v1+\", \"+v2+\", \"+v3+\", \"+v4+\", \"+v5\n",
    "n1,n2,n3,n4,n5 = non_veg\n",
    "non_vegunpack=n1+\", \"+n2+\", \"+n3+\", \"+n4+\", \"+n5\n",
    "if number == 1:\n",
    "    print(\"Select from the following dishes:\", vegunpack)\n",
    "    veg_dish = int(input(\"Please enter the number corresponding to your vegetarian dish: \"))\n",
    "    if veg_dish == 1 or veg_dish == 2 or veg_dish == 3 or veg_dish == 4 or veg_dish == 5:\n",
    "        print(\"Your order is getting prepared, please wait.\")\n",
    "    else:\n",
    "        print(\"Entered dish is not available.\")\n",
    "elif number == 2:\n",
    "    print(\"Select from the following dishes:\", non_vegunpack)\n",
    "    non_veg_dish = int(input(\"Please enter the number corresponding to your non-vegetarian dish: \"))\n",
    "    if non_veg_dish == 1 or non_veg_dish == 2 or non_veg_dish == 3 or non_veg_dish == 4 or non_veg_dish == 5:\n",
    "        print(\"Your order is getting prepared, please wait.\")\n",
    "    else:\n",
    "        print(\"Entered dish is not available.\")\n",
    "else:\n",
    "    print(\"Choose only between 1 and 2\")"
   ]
  },
  {
   "cell_type": "code",
   "execution_count": null,
   "id": "7e900821-e69c-4d99-a10b-872b46cde361",
   "metadata": {},
   "outputs": [],
   "source": []
  }
 ],
 "metadata": {
  "kernelspec": {
   "display_name": "Python 3 (ipykernel)",
   "language": "python",
   "name": "python3"
  },
  "language_info": {
   "codemirror_mode": {
    "name": "ipython",
    "version": 3
   },
   "file_extension": ".py",
   "mimetype": "text/x-python",
   "name": "python",
   "nbconvert_exporter": "python",
   "pygments_lexer": "ipython3",
   "version": "3.12.4"
  }
 },
 "nbformat": 4,
 "nbformat_minor": 5
}
