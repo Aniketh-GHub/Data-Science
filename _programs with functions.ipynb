{
 "cells": [
  {
   "cell_type": "code",
   "execution_count": 1,
   "id": "df939a7e-ece5-41cc-908e-252efc7f21d6",
   "metadata": {},
   "outputs": [
    {
     "name": "stdin",
     "output_type": "stream",
     "text": [
      "Enter first number:  900 \n",
      "Enter second number:  90\n",
      "Enter third number:  9\n"
     ]
    },
    {
     "name": "stdout",
     "output_type": "stream",
     "text": [
      "900 is the largest number among 900, 90, and 9\n"
     ]
    }
   ],
   "source": [
    "#Program 1\n",
    "#Largest number among three\n",
    "def large():\n",
    "    a = int(input(\"Enter first number: \"))\n",
    "    b = int(input(\"Enter second number: \"))\n",
    "    c = int(input(\"Enter third number: \"))\n",
    "    if a > b and a > c:\n",
    "        print(f\"{a} is the largest number among {a}, {b}, and {c}\")\n",
    "    elif b > c and b > a:\n",
    "        print(f\"{b} is the largest number among {a}, {b}, and {c}\")\n",
    "    else:\n",
    "        print(f\"{c} is the largest number among {a}, {b}, and {c}\")\n",
    "large()\n"
   ]
  },
  {
   "cell_type": "code",
   "execution_count": 3,
   "id": "8b6b9096-38a6-43ea-bd1d-ab0efe459384",
   "metadata": {},
   "outputs": [
    {
     "name": "stdin",
     "output_type": "stream",
     "text": [
      "Enter first number:   -1000\n",
      "Enter second number:  250\n",
      "Enter third number:   500\n"
     ]
    },
    {
     "name": "stdout",
     "output_type": "stream",
     "text": [
      "-1000 is the smallest number among -1000,250 and 500\n"
     ]
    }
   ],
   "source": [
    "#Program 2\n",
    "#Smallest number among three\n",
    "def small():\n",
    " a = int(input(\"Enter first number:  \"))\n",
    " b = int(input(\"Enter second number: \"))\n",
    " c = int(input(\"Enter third number:  \"))\n",
    " if a < b and a < c:\n",
    "    print(f\"{a} is the smallest number among {a},{b} and {c}\")\n",
    " elif b < c and b < a:\n",
    "    print(f\"{b} is the smallest number among {a},{b} and {c}\")\n",
    " else:\n",
    "    print(f\"{c} is the smallest number among {a},{b} and {c}\")\n",
    "small()"
   ]
  },
  {
   "cell_type": "code",
   "execution_count": 4,
   "id": "5a765ea3-4317-499c-8391-e36ee49836b8",
   "metadata": {},
   "outputs": [
    {
     "name": "stdin",
     "output_type": "stream",
     "text": [
      "Enter a string : operational\n"
     ]
    },
    {
     "name": "stdout",
     "output_type": "stream",
     "text": [
      "'o' is a vowel\n",
      "'p' is a consonent\n",
      "'e' is a vowel\n",
      "'r' is a consonent\n",
      "'a' is a vowel\n",
      "'t' is a consonent\n",
      "'i' is a vowel\n",
      "'o' is a vowel\n",
      "'n' is a consonent\n",
      "'a' is a vowel\n",
      "'l' is a consonent\n"
     ]
    }
   ],
   "source": [
    "#Program 3\n",
    "def vowcon(name):\n",
    " vowels=\"aeiouAEIOU\"\n",
    " for i in name:\n",
    "  if i in vowels:\n",
    "   print(f\"'{i}' is a vowel\")\n",
    "  else:\n",
    "   print(f\"'{i}' is a consonent\")      \n",
    "vowcon(input(\"Enter a string :\"))"
   ]
  },
  {
   "cell_type": "code",
   "execution_count": 5,
   "id": "8feaef21-09ed-46a3-8d22-9ed7e14979c9",
   "metadata": {},
   "outputs": [
    {
     "name": "stdin",
     "output_type": "stream",
     "text": [
      "Enter a word:  radar\n"
     ]
    },
    {
     "name": "stdout",
     "output_type": "stream",
     "text": [
      "radar is a palindrome\n"
     ]
    }
   ],
   "source": [
    "#Program 4\n",
    "#Palindrome\n",
    "def pal():\n",
    " word = input(\"Enter a word: \")\n",
    " # Check if the word is a palindrome by comparing it to its reverse\n",
    " if word == word[::-1]:\n",
    "    print(f\"{word} is a palindrome\")\n",
    " else:\n",
    "    print(f\"{word} is not a palindrome\")\n",
    "pal()"
   ]
  },
  {
   "cell_type": "code",
   "execution_count": 22,
   "id": "712c03a2-5df9-48f7-b8aa-d7ee4c578fc7",
   "metadata": {},
   "outputs": [
    {
     "name": "stdin",
     "output_type": "stream",
     "text": [
      "Enter as number to calculate the square 20\n"
     ]
    },
    {
     "name": "stdout",
     "output_type": "stream",
     "text": [
      "square of 20 is 400\n"
     ]
    }
   ],
   "source": [
    "#Program 5\n",
    "#Finding square of the number\n",
    "def num(n):\n",
    "    square = n*n\n",
    "    print(f\"square of {n} is {square}\")\n",
    "num(int(input(\"Enter as number to calculate the square\")))"
   ]
  },
  {
   "cell_type": "code",
   "execution_count": 16,
   "id": "39a3f293-560e-4e38-8b18-8e88a6ec3d4b",
   "metadata": {},
   "outputs": [
    {
     "name": "stdin",
     "output_type": "stream",
     "text": [
      "Enter a string:  Aniketh\n"
     ]
    },
    {
     "name": "stdout",
     "output_type": "stream",
     "text": [
      "Ascending order of the characters in 'Aniketh' is 'Aehiknt'\n"
     ]
    }
   ],
   "source": [
    "#Program 6\n",
    "#Ascending order of characters in string\n",
    "def sort_string(s):\n",
    "    # Convert the string to a list of characters\n",
    "    char_list = list(s)\n",
    "    # Sort the list of characters\n",
    "    char_list.sort()\n",
    "    # Join the sorted list back into a string\n",
    "    sorted_str = ''.join(char_list)\n",
    "    print(f\"Ascending order of the characters in '{s}' is '{sorted_str}'\")\n",
    "# Get user input\n",
    "user_input = input(\"Enter a string: \")\n",
    "sort_string(user_input)"
   ]
  },
  {
   "cell_type": "code",
   "execution_count": 26,
   "id": "d44a54de-a244-4869-8f12-fd29935d169f",
   "metadata": {},
   "outputs": [
    {
     "name": "stdin",
     "output_type": "stream",
     "text": [
      "Enter a year to check if it is a leap year:  2024\n"
     ]
    },
    {
     "name": "stdout",
     "output_type": "stream",
     "text": [
      "2024 is a leap year\n"
     ]
    }
   ],
   "source": [
    "#Program 7\n",
    "#Leap year \n",
    "def leap():\n",
    "    year = int(input(\"Enter a year to check if it is a leap year: \"))\n",
    "    if (year % 4 == 0 and year % 100 != 0) or (year % 400 == 0):\n",
    "        print(f\"{year} is a leap year\")\n",
    "    else:\n",
    "        print(f\"{year} is not a leap year\")\n",
    "leap()"
   ]
  },
  {
   "cell_type": "code",
   "execution_count": 29,
   "id": "94d5e500-1d91-4243-8ee2-99143915716c",
   "metadata": {},
   "outputs": [
    {
     "name": "stdin",
     "output_type": "stream",
     "text": [
      "Enter a number to check if it is odd or even:  10234\n"
     ]
    },
    {
     "name": "stdout",
     "output_type": "stream",
     "text": [
      "10234 is an even number\n"
     ]
    }
   ],
   "source": [
    "#Program 8\n",
    "##Identifying odd or even\n",
    "def Even_Odd():    \n",
    " a = int(input(\"Enter a number to check if it is odd or even: \"))\n",
    " if a%2 == 0:\n",
    "    print(f\"{a} is an even number\")\n",
    " else :\n",
    "    print(f\"{a} is an odd number\")\n",
    "Even_Odd()"
   ]
  },
  {
   "cell_type": "code",
   "execution_count": 32,
   "id": "f6132dd7-7ae6-467f-a84a-3ab2c7e5783c",
   "metadata": {},
   "outputs": [
    {
     "name": "stdin",
     "output_type": "stream",
     "text": [
      "Enter a string:  Apple\n"
     ]
    },
    {
     "name": "stdout",
     "output_type": "stream",
     "text": [
      "Descending order of the characters in 'Apple' is 'ppleA'\n"
     ]
    }
   ],
   "source": [
    "#Program 9\n",
    "#Python Program to sort character of string in descending order\n",
    "def sort_string(s):\n",
    "    # Convert the string to a list of characters\n",
    "    char_list = list(s)\n",
    "    # Sort the list of characters\n",
    "    char_list.sort()\n",
    "    # Join the sorted list back into a string\n",
    "    sorted_str = ''.join(char_list[::-1])\n",
    "    print(f\"Descending order of the characters in '{s}' is '{sorted_str}'\")\n",
    "# Get user input\n",
    "user_input = input(\"Enter a string: \")\n",
    "sort_string(user_input)"
   ]
  },
  {
   "cell_type": "code",
   "execution_count": 41,
   "id": "9f88bf31-462a-4a0f-bafd-aba2370fa7ba",
   "metadata": {},
   "outputs": [
    {
     "name": "stdin",
     "output_type": "stream",
     "text": [
      "Enter any number:  5\n"
     ]
    },
    {
     "data": {
      "text/plain": [
       "120"
      ]
     },
     "execution_count": 41,
     "metadata": {},
     "output_type": "execute_result"
    }
   ],
   "source": [
    "#Program 10 \n",
    "#Write a Python program to find the factorial of a number.\n",
    "def fact(n):\n",
    "    if n == 0 or n == 1:\n",
    "        return 1\n",
    "    else:\n",
    "        return n * fact(n - 1)\n",
    "fact(int(input(\"Enter any number: \")))"
   ]
  },
  {
   "cell_type": "code",
   "execution_count": 47,
   "id": "7e835f8f-1bc5-42b2-a1c3-d6b0038edac1",
   "metadata": {},
   "outputs": [
    {
     "name": "stdin",
     "output_type": "stream",
     "text": [
      "Enter value of a:  10\n",
      "Enter value of b:  20\n"
     ]
    },
    {
     "name": "stdout",
     "output_type": "stream",
     "text": [
      "After swapping we got a = 20 and b = 10\n"
     ]
    }
   ],
   "source": [
    "#Swap two values without taking any temporary values\n",
    "def swap(a, b):\n",
    "    a, b = b, a\n",
    "    print(f\"After swapping we got a = {a} and b = {b}\")\n",
    "a = int(input(\"Enter value of a: \"))\n",
    "b = int(input(\"Enter value of b: \"))\n",
    "swap(a, b)"
   ]
  },
  {
   "cell_type": "code",
   "execution_count": null,
   "id": "88baa670-6419-4b9e-a71a-1181a9ca410e",
   "metadata": {},
   "outputs": [],
   "source": []
  }
 ],
 "metadata": {
  "kernelspec": {
   "display_name": "Python 3 (ipykernel)",
   "language": "python",
   "name": "python3"
  },
  "language_info": {
   "codemirror_mode": {
    "name": "ipython",
    "version": 3
   },
   "file_extension": ".py",
   "mimetype": "text/x-python",
   "name": "python",
   "nbconvert_exporter": "python",
   "pygments_lexer": "ipython3",
   "version": "3.12.4"
  }
 },
 "nbformat": 4,
 "nbformat_minor": 5
}
