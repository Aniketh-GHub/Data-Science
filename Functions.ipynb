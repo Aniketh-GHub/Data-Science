{
 "cells": [
  {
   "cell_type": "code",
   "execution_count": 1,
   "id": "4495f16b-99fc-4f41-86b2-79588882b7ff",
   "metadata": {},
   "outputs": [
    {
     "name": "stdout",
     "output_type": "stream",
     "text": [
      "Hello, Aniketh!\n"
     ]
    }
   ],
   "source": [
    "def greet(name):\n",
    "    print(f\"Hello, {name}!\")\n",
    "greet(\"Aniketh\")\n"
   ]
  },
  {
   "cell_type": "code",
   "execution_count": 6,
   "id": "2d0869f0-1e8f-4a4b-9901-189248260435",
   "metadata": {},
   "outputs": [
    {
     "name": "stdin",
     "output_type": "stream",
     "text": [
      "Enter your name: Aniketh\n"
     ]
    },
    {
     "name": "stdout",
     "output_type": "stream",
     "text": [
      "Hello, Aniketh!\n"
     ]
    }
   ],
   "source": [
    "def greet(name):\n",
    "    print(f\"Hello, {name}!\")\n",
    "greet(input(\"Enter your name:\"))"
   ]
  },
  {
   "cell_type": "code",
   "execution_count": 11,
   "id": "84264eee-4153-49c6-9e06-40ca9e4cbf11",
   "metadata": {},
   "outputs": [
    {
     "name": "stdin",
     "output_type": "stream",
     "text": [
      "Enter a number: 10\n"
     ]
    },
    {
     "name": "stdout",
     "output_type": "stream",
     "text": [
      "10 is even\n"
     ]
    }
   ],
   "source": [
    "def even(num):\n",
    "    if num%2 == 0:\n",
    "        print(f\"{num} is even\")\n",
    "    else:\n",
    "        print(f\"{num} is odd\")\n",
    "even(int(input(\"Enter a number:\")))\n",
    "#even(2)"
   ]
  },
  {
   "cell_type": "code",
   "execution_count": 15,
   "id": "b8fcc1cd-1f58-4d19-b218-e0f0f889d829",
   "metadata": {},
   "outputs": [
    {
     "name": "stdin",
     "output_type": "stream",
     "text": [
      "Enter a value: 2\n"
     ]
    },
    {
     "name": "stdout",
     "output_type": "stream",
     "text": [
      "4\n"
     ]
    },
    {
     "name": "stdin",
     "output_type": "stream",
     "text": [
      "Enter a value: 4\n"
     ]
    },
    {
     "name": "stdout",
     "output_type": "stream",
     "text": [
      "16\n"
     ]
    }
   ],
   "source": [
    "def find_square(num):\n",
    "    result = num*num\n",
    "    #return result\n",
    "    print(result)\n",
    "find_square(int(input(\"Enter a value:\")))\n",
    "find_square(int(input(\"Enter a value:\")))"
   ]
  },
  {
   "cell_type": "code",
   "execution_count": 17,
   "id": "95ddcdab-71f6-4a79-ac41-4ce721e6eaa8",
   "metadata": {},
   "outputs": [
    {
     "name": "stdin",
     "output_type": "stream",
     "text": [
      "Enter a value: 30\n"
     ]
    },
    {
     "name": "stdout",
     "output_type": "stream",
     "text": [
      "130\n"
     ]
    }
   ],
   "source": [
    "#Lambda\n",
    "x = lambda a:a+100\n",
    "print(x(int(input(\"Enter a value:\"))))"
   ]
  },
  {
   "cell_type": "code",
   "execution_count": 22,
   "id": "a7b13abe-57bf-4634-8b0a-6e0d2b1983fd",
   "metadata": {},
   "outputs": [
    {
     "name": "stdout",
     "output_type": "stream",
     "text": [
      "60\n"
     ]
    }
   ],
   "source": [
    "j = lambda x,y,z : x+y+z\n",
    "print(j(10,20,30))"
   ]
  },
  {
   "cell_type": "code",
   "execution_count": 24,
   "id": "fd5f3f2b-5a94-4e88-9e6c-ee3990defecb",
   "metadata": {},
   "outputs": [
    {
     "name": "stdin",
     "output_type": "stream",
     "text": [
      "Enter first value: 10\n",
      "Enter second value: 20\n",
      "Enter third value: 30\n"
     ]
    },
    {
     "name": "stdout",
     "output_type": "stream",
     "text": [
      "60\n"
     ]
    }
   ],
   "source": [
    "j = lambda x,y,z : x+y+z\n",
    "x = int(input(\"Enter first value:\"))\n",
    "y = int(input(\"Enter second value:\"))\n",
    "z = int(input(\"Enter third value:\"))\n",
    "print(j(x,y,z))"
   ]
  },
  {
   "cell_type": "code",
   "execution_count": 25,
   "id": "6d80245f-5f05-44d8-97f1-c6ddcc878994",
   "metadata": {},
   "outputs": [
    {
     "name": "stdout",
     "output_type": "stream",
     "text": [
      "55\n"
     ]
    }
   ],
   "source": [
    "def myfunc(n):\n",
    "    return lambda a:a*n\n",
    "mult = myfunc(5)\n",
    "print(mult(11))"
   ]
  },
  {
   "cell_type": "code",
   "execution_count": null,
   "id": "8b9994bb-1078-4beb-990a-eb7b51dc30ea",
   "metadata": {},
   "outputs": [],
   "source": []
  }
 ],
 "metadata": {
  "kernelspec": {
   "display_name": "Python 3 (ipykernel)",
   "language": "python",
   "name": "python3"
  },
  "language_info": {
   "codemirror_mode": {
    "name": "ipython",
    "version": 3
   },
   "file_extension": ".py",
   "mimetype": "text/x-python",
   "name": "python",
   "nbconvert_exporter": "python",
   "pygments_lexer": "ipython3",
   "version": "3.12.4"
  }
 },
 "nbformat": 4,
 "nbformat_minor": 5
}
